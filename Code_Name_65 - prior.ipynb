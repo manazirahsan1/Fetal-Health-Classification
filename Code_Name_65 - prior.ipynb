{
  "nbformat": 4,
  "nbformat_minor": 0,
  "metadata": {
    "colab": {
      "name": "Code Name 65",
      "provenance": [],
      "collapsed_sections": [],
      "toc_visible": true
    },
    "kernelspec": {
      "display_name": "Python 3",
      "name": "python3"
    },
    "accelerator": "GPU",
    "widgets": {
      "application/vnd.jupyter.widget-state+json": {
        "6e951c46d05e460dac44e1a613bdd1f2": {
          "model_module": "@jupyter-widgets/controls",
          "model_name": "HBoxModel",
          "state": {
            "_view_name": "HBoxView",
            "_dom_classes": [],
            "_model_name": "HBoxModel",
            "_view_module": "@jupyter-widgets/controls",
            "_model_module_version": "1.5.0",
            "_view_count": null,
            "_view_module_version": "1.5.0",
            "box_style": "",
            "layout": "IPY_MODEL_519efcc9929549e69453838cc4dd0779",
            "_model_module": "@jupyter-widgets/controls",
            "children": [
              "IPY_MODEL_e3a8506e4ebb42eab3117722315bc322",
              "IPY_MODEL_d72c841a80604c4591319c8f1a5aea76"
            ]
          }
        },
        "519efcc9929549e69453838cc4dd0779": {
          "model_module": "@jupyter-widgets/base",
          "model_name": "LayoutModel",
          "state": {
            "_view_name": "LayoutView",
            "grid_template_rows": null,
            "right": null,
            "justify_content": null,
            "_view_module": "@jupyter-widgets/base",
            "overflow": null,
            "_model_module_version": "1.2.0",
            "_view_count": null,
            "flex_flow": null,
            "width": null,
            "min_width": null,
            "border": null,
            "align_items": null,
            "bottom": null,
            "_model_module": "@jupyter-widgets/base",
            "top": null,
            "grid_column": null,
            "overflow_y": null,
            "overflow_x": null,
            "grid_auto_flow": null,
            "grid_area": null,
            "grid_template_columns": null,
            "flex": null,
            "_model_name": "LayoutModel",
            "justify_items": null,
            "grid_row": null,
            "max_height": null,
            "align_content": null,
            "visibility": null,
            "align_self": null,
            "height": null,
            "min_height": null,
            "padding": null,
            "grid_auto_rows": null,
            "grid_gap": null,
            "max_width": null,
            "order": null,
            "_view_module_version": "1.2.0",
            "grid_template_areas": null,
            "object_position": null,
            "object_fit": null,
            "grid_auto_columns": null,
            "margin": null,
            "display": null,
            "left": null
          }
        },
        "e3a8506e4ebb42eab3117722315bc322": {
          "model_module": "@jupyter-widgets/controls",
          "model_name": "FloatProgressModel",
          "state": {
            "_view_name": "ProgressView",
            "style": "IPY_MODEL_5229abcd4ac945ff8631620525eac2a8",
            "_dom_classes": [],
            "description": "100%",
            "_model_name": "FloatProgressModel",
            "bar_style": "success",
            "max": 300,
            "_view_module": "@jupyter-widgets/controls",
            "_model_module_version": "1.5.0",
            "value": 300,
            "_view_count": null,
            "_view_module_version": "1.5.0",
            "orientation": "horizontal",
            "min": 0,
            "description_tooltip": null,
            "_model_module": "@jupyter-widgets/controls",
            "layout": "IPY_MODEL_db82e8be70cb4261ae240b69b324fcd1"
          }
        },
        "d72c841a80604c4591319c8f1a5aea76": {
          "model_module": "@jupyter-widgets/controls",
          "model_name": "HTMLModel",
          "state": {
            "_view_name": "HTMLView",
            "style": "IPY_MODEL_4686d6f52a3e49a4843e61fd33d00177",
            "_dom_classes": [],
            "description": "",
            "_model_name": "HTMLModel",
            "placeholder": "​",
            "_view_module": "@jupyter-widgets/controls",
            "_model_module_version": "1.5.0",
            "value": " 300/300 [01:45&lt;00:00,  2.86it/s]",
            "_view_count": null,
            "_view_module_version": "1.5.0",
            "description_tooltip": null,
            "_model_module": "@jupyter-widgets/controls",
            "layout": "IPY_MODEL_5017af3dbf9443a48514defb61e07a94"
          }
        },
        "5229abcd4ac945ff8631620525eac2a8": {
          "model_module": "@jupyter-widgets/controls",
          "model_name": "ProgressStyleModel",
          "state": {
            "_view_name": "StyleView",
            "_model_name": "ProgressStyleModel",
            "description_width": "initial",
            "_view_module": "@jupyter-widgets/base",
            "_model_module_version": "1.5.0",
            "_view_count": null,
            "_view_module_version": "1.2.0",
            "bar_color": null,
            "_model_module": "@jupyter-widgets/controls"
          }
        },
        "db82e8be70cb4261ae240b69b324fcd1": {
          "model_module": "@jupyter-widgets/base",
          "model_name": "LayoutModel",
          "state": {
            "_view_name": "LayoutView",
            "grid_template_rows": null,
            "right": null,
            "justify_content": null,
            "_view_module": "@jupyter-widgets/base",
            "overflow": null,
            "_model_module_version": "1.2.0",
            "_view_count": null,
            "flex_flow": null,
            "width": null,
            "min_width": null,
            "border": null,
            "align_items": null,
            "bottom": null,
            "_model_module": "@jupyter-widgets/base",
            "top": null,
            "grid_column": null,
            "overflow_y": null,
            "overflow_x": null,
            "grid_auto_flow": null,
            "grid_area": null,
            "grid_template_columns": null,
            "flex": null,
            "_model_name": "LayoutModel",
            "justify_items": null,
            "grid_row": null,
            "max_height": null,
            "align_content": null,
            "visibility": null,
            "align_self": null,
            "height": null,
            "min_height": null,
            "padding": null,
            "grid_auto_rows": null,
            "grid_gap": null,
            "max_width": null,
            "order": null,
            "_view_module_version": "1.2.0",
            "grid_template_areas": null,
            "object_position": null,
            "object_fit": null,
            "grid_auto_columns": null,
            "margin": null,
            "display": null,
            "left": null
          }
        },
        "4686d6f52a3e49a4843e61fd33d00177": {
          "model_module": "@jupyter-widgets/controls",
          "model_name": "DescriptionStyleModel",
          "state": {
            "_view_name": "StyleView",
            "_model_name": "DescriptionStyleModel",
            "description_width": "",
            "_view_module": "@jupyter-widgets/base",
            "_model_module_version": "1.5.0",
            "_view_count": null,
            "_view_module_version": "1.2.0",
            "_model_module": "@jupyter-widgets/controls"
          }
        },
        "5017af3dbf9443a48514defb61e07a94": {
          "model_module": "@jupyter-widgets/base",
          "model_name": "LayoutModel",
          "state": {
            "_view_name": "LayoutView",
            "grid_template_rows": null,
            "right": null,
            "justify_content": null,
            "_view_module": "@jupyter-widgets/base",
            "overflow": null,
            "_model_module_version": "1.2.0",
            "_view_count": null,
            "flex_flow": null,
            "width": null,
            "min_width": null,
            "border": null,
            "align_items": null,
            "bottom": null,
            "_model_module": "@jupyter-widgets/base",
            "top": null,
            "grid_column": null,
            "overflow_y": null,
            "overflow_x": null,
            "grid_auto_flow": null,
            "grid_area": null,
            "grid_template_columns": null,
            "flex": null,
            "_model_name": "LayoutModel",
            "justify_items": null,
            "grid_row": null,
            "max_height": null,
            "align_content": null,
            "visibility": null,
            "align_self": null,
            "height": null,
            "min_height": null,
            "padding": null,
            "grid_auto_rows": null,
            "grid_gap": null,
            "max_width": null,
            "order": null,
            "_view_module_version": "1.2.0",
            "grid_template_areas": null,
            "object_position": null,
            "object_fit": null,
            "grid_auto_columns": null,
            "margin": null,
            "display": null,
            "left": null
          }
        }
      }
    }
  },
  "cells": [
    {
      "cell_type": "code",
      "metadata": {
        "colab": {
          "base_uri": "https://localhost:8080/",
          "height": 411
        },
        "id": "6VX_GCQj0E1L",
        "outputId": "beea4676-20ee-47e7-d466-3c9f68b38d92"
      },
      "source": [
        "# Use scikit-learn to grid search the batch size and epochs\n",
        "import numpy as np\n",
        "from numpy.random import seed\n",
        "import tensorflow\n",
        "from numpy import loadtxt\n",
        "import itertools\n",
        "from matplotlib import pyplot as plt\n",
        "from urllib.request import urlopen\n",
        "from sklearn.model_selection import GridSearchCV\n",
        "from keras.models import Sequential\n",
        "from keras.layers import Dense\n",
        "from keras.wrappers.scikit_learn import KerasClassifier\n",
        "\n",
        "\n",
        "# load dataset\n",
        "url = 'https://raw.githubusercontent.com/manazirahsan1/Fetal-Health-Classification/main/fetal_health.csv'\n",
        "raw_data = urlopen(url)\n",
        "dataset = np.loadtxt(raw_data, delimiter=\",\", skiprows=1)\n",
        "num_features = len(dataset[0, :]) - 1\n",
        "\n",
        "# split into input (X) and output (Y) variables\n",
        "X = dataset[:, 0:num_features]\n",
        "Y = dataset[:, num_features]\n",
        "\n",
        "\n",
        "# Function to create model, required for KerasClassifier\n",
        "def create_model():\n",
        "    # create model\n",
        "    model = Sequential()\n",
        "    model.add(Dense(30, input_dim=num_features, activation='relu'))\n",
        "    model.add(Dense(6, input_dim=30, activation='relu'))\n",
        "    model.add(Dense(1, activation='sigmoid'))\n",
        "    # Compile model\n",
        "    model.compile(loss='binary_crossentropy', optimizer='adam', metrics=['accuracy'])\n",
        "    return model\n",
        "\n",
        "\n",
        "# fix random seed for reproducibility\n",
        "seed = 65\n",
        "numpy.random.seed(seed)\n",
        "tensorflow.random.set_seed(seed)\n",
        "\n",
        "# create model\n",
        "model = KerasClassifier(build_fn=create_model, verbose=0)\n",
        "\n",
        "# define the grid search parameters\n",
        "batch_size = [8, 16, 32, 64, 128]\n",
        "epochs = [50, 100, 200, 300, 400]\n",
        "param_grid = dict(batch_size=batch_size, epochs=epochs)\n",
        "grid = GridSearchCV(estimator=model, param_grid=param_grid, n_jobs=-1, cv=4, verbose=2)\n",
        "grid_result = grid.fit(X, Y)\n",
        "\n",
        "# summarize results\n",
        "print(\"\\n\\n\\nBest: %f using %s\" % (grid_result.best_score_, grid_result.best_params_))\n",
        "# means = grid_result.cv_results_['mean_test_score']\n",
        "# stds = grid_result.cv_results_['std_test_score']\n",
        "# params = grid_result.cv_results_['params']\n",
        "# for mean, stdev, param in zip(means, stds, params):\n",
        "#     print(\"%f (%f) with: %r\" % (mean, stdev, param))\n",
        "\n",
        "x = []\n",
        "y = []\n",
        "for a, b in itertools.product(batch_size, epochs):\n",
        "    x.append(a)\n",
        "    y.append(b)\n",
        "\n",
        "\n",
        "plt.style.use('ggplot')\n",
        "fig = plt.figure()\n",
        "ax = fig.add_subplot(111, projection='3d')\n",
        "p = ax.scatter(x, y, grid_result.cv_results_['mean_test_score'])\n",
        "ax.set_xlabel('Batch Size')\n",
        "ax.set_ylabel('Epoch')\n",
        "ax.set_zlabel('Accuracy')\n",
        "fig.colorbar(p, ax=ax)\n"
      ],
      "execution_count": 124,
      "outputs": [
        {
          "output_type": "stream",
          "text": [
            "Fitting 4 folds for each of 25 candidates, totalling 100 fits\n"
          ],
          "name": "stdout"
        },
        {
          "output_type": "stream",
          "text": [
            "[Parallel(n_jobs=-1)]: Using backend LokyBackend with 2 concurrent workers.\n",
            "[Parallel(n_jobs=-1)]: Done  37 tasks      | elapsed: 27.8min\n",
            "[Parallel(n_jobs=-1)]: Done 100 out of 100 | elapsed: 38.8min finished\n"
          ],
          "name": "stderr"
        },
        {
          "output_type": "stream",
          "text": [
            "\n",
            "\n",
            "\n",
            "Best: 0.803431 using {'batch_size': 16, 'epochs': 100}\n"
          ],
          "name": "stdout"
        },
        {
          "output_type": "execute_result",
          "data": {
            "text/plain": [
              "<matplotlib.colorbar.Colorbar at 0x7ff0d87e7650>"
            ]
          },
          "metadata": {
            "tags": []
          },
          "execution_count": 124
        },
        {
          "output_type": "display_data",
          "data": {
            "image/png": "[encoded data removed]",
            "text/plain": [
              "<Figure size 432x288 with 2 Axes>"
            ]
          },
          "metadata": {
            "tags": [],
            "needs_background": "light"
          }
        }
      ]
    },
    {
      "cell_type": "code",
      "metadata": {
        "colab": {
          "base_uri": "https://localhost:8080/",
          "height": 351
        },
        "id": "9S32OAB1BtXm",
        "outputId": "11a3625e-d0fa-42b2-beef-104f2022450f"
      },
      "source": [
        "# Use scikit-learn to grid search the learning rate\n",
        "import numpy\n",
        "from numpy.random import seed\n",
        "import tensorflow\n",
        "from numpy import loadtxt\n",
        "import itertools\n",
        "from matplotlib import pyplot as plt\n",
        "from urllib.request import urlopen\n",
        "from sklearn.model_selection import GridSearchCV\n",
        "from keras.models import Sequential\n",
        "from keras.layers import Dense\n",
        "from keras.wrappers.scikit_learn import KerasClassifier\n",
        "from keras.optimizers import SGD\n",
        "\n",
        "\n",
        "# load dataset\n",
        "url = 'https://raw.githubusercontent.com/manazirahsan1/Fetal-Health-Classification/main/fetal_health.csv'\n",
        "raw_data = urlopen(url)\n",
        "dataset = np.loadtxt(raw_data, delimiter=\",\", skiprows=1)\n",
        "num_features = len(dataset[0, :]) - 1\n",
        "\n",
        "# split into input (X) and output (Y) variables\n",
        "X = dataset[:, 0:num_features]\n",
        "Y = dataset[:, num_features]\n",
        "\n",
        "\n",
        "# Function to create model, required for KerasClassifier\n",
        "def create_model(learn_rate=0.01, momentum=0):\n",
        "    # create model\n",
        "    model = Sequential()\n",
        "    model.add(Dense(30, input_dim=num_features, activation='relu'))\n",
        "    model.add(Dense(6, input_dim=30, activation='relu'))\n",
        "    model.add(Dense(1, activation='sigmoid'))\n",
        "    # Compile model\n",
        "    optimizer = SGD(lr=learn_rate, momentum=momentum)\n",
        "    model.compile(loss='binary_crossentropy', optimizer=optimizer, metrics=['accuracy'])\n",
        "    return model\n",
        "\n",
        "\n",
        "# fix random seed for reproducibility\n",
        "seed = 65\n",
        "numpy.random.seed(seed)\n",
        "tensorflow.random.set_seed(seed)\n",
        "\n",
        "# create model\n",
        "model = KerasClassifier(build_fn=create_model, epochs=100, batch_size=16, verbose=0)\n",
        "\n",
        "# define the grid search parameters\n",
        "learning_rate = [.0005, 0.001, 0.01, 0.1, 0.2, 0.3]\n",
        "param_grid = dict(learn_rate=learning_rate)\n",
        "grid = GridSearchCV(estimator=model, param_grid=param_grid, n_jobs=-1, cv=4, verbose=2)\n",
        "grid_result = grid.fit(X, Y)\n",
        "\n",
        "# summarize results\n",
        "print(\"Best: %f using %s\" % (grid_result.best_score_, grid_result.best_params_))\n",
        "# means = grid_result.cv_results_['mean_test_score']\n",
        "# stds = grid_result.cv_results_['std_test_score']\n",
        "# params = grid_result.cv_results_['params']\n",
        "# for mean, stdev, param in zip(means, stds, params):\n",
        "#     print(\"%f (%f) with: %r\" % (mean, stdev, param))\n",
        "\n",
        "plt.style.use('ggplot')\n",
        "plt.plot(learning_rate, grid_result.cv_results_['mean_test_score'], color='green', linestyle='solid', marker='o', markerfacecolor='red')\n",
        "plt.xlabel('Learning Rate')\n",
        "plt.ylabel('Accuracy')\n",
        "plt.show()"
      ],
      "execution_count": 648,
      "outputs": [
        {
          "output_type": "stream",
          "text": [
            "Fitting 4 folds for each of 6 candidates, totalling 24 fits\n"
          ],
          "name": "stdout"
        },
        {
          "output_type": "stream",
          "text": [
            "[Parallel(n_jobs=-1)]: Using backend LokyBackend with 2 concurrent workers.\n",
            "[Parallel(n_jobs=-1)]: Done  24 out of  24 | elapsed:  5.5min finished\n"
          ],
          "name": "stderr"
        },
        {
          "output_type": "stream",
          "text": [
            "Best: 0.778540 using {'learn_rate': 0.0005}\n"
          ],
          "name": "stdout"
        },
        {
          "output_type": "display_data",
          "data": {
            "image/png": "[encoded data removed]",
            "text/plain": [
              "<Figure size 432x288 with 1 Axes>"
            ]
          },
          "metadata": {
            "tags": []
          }
        }
      ]
    },
    {
      "cell_type": "code",
      "metadata": {
        "colab": {
          "base_uri": "https://localhost:8080/"
        },
        "id": "74lpVOYkSbkR",
        "outputId": "66c122ee-335f-4caa-d0e6-fd4811f8a4fb"
      },
      "source": [
        "# Use scikit-learn to grid search the optimizer\n",
        "import numpy as np\n",
        "from numpy.random import seed\n",
        "import tensorflow\n",
        "from numpy import loadtxt\n",
        "import itertools\n",
        "from matplotlib import pyplot as plt\n",
        "from urllib.request import urlopen\n",
        "from sklearn.model_selection import GridSearchCV\n",
        "from keras.models import Sequential\n",
        "from keras.layers import Dense\n",
        "from keras.wrappers.scikit_learn import KerasClassifier\n",
        "\n",
        "\n",
        "# load dataset\n",
        "url = 'https://raw.githubusercontent.com/manazirahsan1/Fetal-Health-Classification/main/fetal_health.csv'\n",
        "raw_data = urlopen(url)\n",
        "dataset = np.loadtxt(raw_data, delimiter=\",\", skiprows=1)\n",
        "num_features = len(dataset[0, :]) - 1\n",
        "\n",
        "# split into input (X) and output (Y) variables\n",
        "X = dataset[:, 0:num_features]\n",
        "Y = dataset[:, num_features]\n",
        "\n",
        "\n",
        "# Function to create model, required for KerasClassifier\n",
        "def create_model(optimizer='adam'):\n",
        "    # create model\n",
        "    model = Sequential()\n",
        "    model.add(Dense(30, input_dim=num_features, activation='relu'))\n",
        "    model.add(Dense(6, input_dim=30, activation='relu'))\n",
        "    model.add(Dense(1, activation='sigmoid'))\n",
        "    # Compile model\n",
        "    model.compile(loss='binary_crossentropy', optimizer=optimizer, metrics=['accuracy'])\n",
        "    return model\n",
        "\n",
        "\n",
        "# fix random seed for reproducibility\n",
        "seed = 65\n",
        "numpy.random.seed(seed)\n",
        "tensorflow.random.set_seed(seed)\n",
        "\n",
        "# create model\n",
        "model = KerasClassifier(build_fn=create_model, epochs=100, batch_size=16, verbose=0)\n",
        "\n",
        "# define the grid search parameters\n",
        "optimizer = ['SGD', 'RMSprop', 'Adagrad', 'Adadelta', 'Adam', 'Adamax', 'Nadam']\n",
        "param_grid = dict(optimizer=optimizer)\n",
        "grid = GridSearchCV(estimator=model, param_grid=param_grid, n_jobs=-1, cv=4, verbose=2)\n",
        "grid_result = grid.fit(X, Y)\n",
        "\n",
        "# summarize results\n",
        "print(\"Best: %f using %s\" % (grid_result.best_score_, grid_result.best_params_))\n",
        "# means = grid_result.cv_results_['mean_test_score']\n",
        "# stds = grid_result.cv_results_['std_test_score']\n",
        "# params = grid_result.cv_results_['params']\n",
        "# for mean, stdev, param in zip(means, stds, params):\n",
        "#     print(\"%f (%f) with: %r\" % (mean, stdev, param))"
      ],
      "execution_count": 160,
      "outputs": [
        {
          "output_type": "stream",
          "text": [
            "Fitting 4 folds for each of 7 candidates, totalling 28 fits\n"
          ],
          "name": "stdout"
        },
        {
          "output_type": "stream",
          "text": [
            "[Parallel(n_jobs=-1)]: Using backend LokyBackend with 2 concurrent workers.\n",
            "[Parallel(n_jobs=-1)]: Done  28 out of  28 | elapsed:  7.0min finished\n"
          ],
          "name": "stderr"
        },
        {
          "output_type": "stream",
          "text": [
            "Best: 0.780361 using {'optimizer': 'Nadam'}\n"
          ],
          "name": "stdout"
        }
      ]
    },
    {
      "cell_type": "code",
      "metadata": {
        "colab": {
          "base_uri": "https://localhost:8080/"
        },
        "id": "ROqFi3ZMjaqo",
        "outputId": "668cc57b-44c0-4f29-ae1d-bf6a7cd431b2"
      },
      "source": [
        "# Use scikit-learn to grid search the activation function\n",
        "import numpy as np\n",
        "from numpy.random import seed\n",
        "import tensorflow\n",
        "from numpy import loadtxt\n",
        "import itertools\n",
        "from matplotlib import pyplot as plt\n",
        "from urllib.request import urlopen\n",
        "from sklearn.model_selection import GridSearchCV\n",
        "from keras.models import Sequential\n",
        "from keras.layers import Dense\n",
        "from keras.wrappers.scikit_learn import KerasClassifier\n",
        "\n",
        "\n",
        "# load dataset\n",
        "url = 'https://raw.githubusercontent.com/manazirahsan1/Fetal-Health-Classification/main/fetal_health.csv'\n",
        "raw_data = urlopen(url)\n",
        "dataset = np.loadtxt(raw_data, delimiter=\",\", skiprows=1)\n",
        "num_features = len(dataset[0, :]) - 1\n",
        "\n",
        "# split into input (X) and output (Y) variables\n",
        "X = dataset[:, 0:num_features]\n",
        "Y = dataset[:, num_features]\n",
        "\n",
        "\n",
        "# Function to create model, required for KerasClassifier\n",
        "def create_model(activation='relu'):\n",
        "    # create model\n",
        "    model = Sequential()\n",
        "    model.add(Dense(30, input_dim=num_features, activation='relu'))\n",
        "    model.add(Dense(6, input_dim=30, activation='relu'))\n",
        "    model.add(Dense(1, activation='sigmoid'))\n",
        "    # Compile model\n",
        "    model.compile(loss='binary_crossentropy', optimizer='adam', metrics=['accuracy'])\n",
        "    return model\n",
        "\n",
        "\n",
        "# fix random seed for reproducibility\n",
        "seed = 65\n",
        "numpy.random.seed(seed)\n",
        "tensorflow.random.set_seed(seed)\n",
        "\n",
        "# create model\n",
        "model = KerasClassifier(build_fn=create_model, epochs=100, batch_size=16, verbose=0)\n",
        "\n",
        "# define the grid search parameters\n",
        "activation = ['softmax', 'softplus', 'softsign', 'relu', 'tanh', 'sigmoid', 'hard_sigmoid', 'linear']\n",
        "param_grid = dict(activation=activation)\n",
        "grid = GridSearchCV(estimator=model, param_grid=param_grid, n_jobs=-1, cv=4, verbose=2)\n",
        "grid_result = grid.fit(X, Y)\n",
        "\n",
        "# summarize results\n",
        "print(\"Best: %f using %s\" % (grid_result.best_score_, grid_result.best_params_))\n",
        "# means = grid_result.cv_results_['mean_test_score']\n",
        "# stds = grid_result.cv_results_['std_test_score']\n",
        "# params = grid_result.cv_results_['params']\n",
        "# for mean, stdev, param in zip(means, stds, params):\n",
        "#     print(\"%f (%f) with: %r\" % (mean, stdev, param))"
      ],
      "execution_count": 205,
      "outputs": [
        {
          "output_type": "stream",
          "text": [
            "Fitting 4 folds for each of 8 candidates, totalling 32 fits\n"
          ],
          "name": "stdout"
        },
        {
          "output_type": "stream",
          "text": [
            "[Parallel(n_jobs=-1)]: Using backend LokyBackend with 2 concurrent workers.\n",
            "[Parallel(n_jobs=-1)]: Done  32 out of  32 | elapsed:  7.6min finished\n"
          ],
          "name": "stderr"
        },
        {
          "output_type": "stream",
          "text": [
            "Best: 0.807662 using {'activation': 'softmax'}\n"
          ],
          "name": "stdout"
        }
      ]
    },
    {
      "cell_type": "code",
      "metadata": {
        "colab": {
          "base_uri": "https://localhost:8080/",
          "height": 367
        },
        "id": "MD53aPXi1g0R",
        "outputId": "85dcf64d-aa16-4ad9-edae-8cab450b1614"
      },
      "source": [
        "# Use scikit-learn to grid search the dropout rate\n",
        "import numpy as np\n",
        "from numpy.random import seed\n",
        "import tensorflow\n",
        "from numpy import loadtxt\n",
        "import itertools\n",
        "from matplotlib import pyplot as plt\n",
        "from urllib.request import urlopen\n",
        "from sklearn.model_selection import GridSearchCV\n",
        "from keras.models import Sequential\n",
        "from keras.layers import Dense\n",
        "from keras.layers import Dropout\n",
        "from keras.wrappers.scikit_learn import KerasClassifier\n",
        "from keras.constraints import maxnorm\n",
        "\n",
        "\n",
        "# load dataset\n",
        "url = 'https://raw.githubusercontent.com/manazirahsan1/Fetal-Health-Classification/main/fetal_health.csv'\n",
        "raw_data = urlopen(url)\n",
        "dataset = np.loadtxt(raw_data, delimiter=\",\", skiprows=1)\n",
        "num_features = len(dataset[0, :]) - 1\n",
        "\n",
        "# split into input (X) and output (Y) variables\n",
        "X = dataset[:, 0:num_features]\n",
        "Y = dataset[:, num_features]\n",
        "\n",
        "\n",
        "# Function to create model, required for KerasClassifier\n",
        "def create_model(dropout_rate=0.0, weight_constraint=0):\n",
        "    # create model\n",
        "    model = Sequential()\n",
        "    model.add(Dense(30, input_dim=num_features, activation='relu'))\n",
        "    model.add(Dense(6, input_dim=30, activation='relu'))\n",
        "    model.add(Dense(1, activation='sigmoid'))\n",
        "    # Compile model\n",
        "    model.compile(loss='binary_crossentropy', optimizer='adam', metrics=['accuracy'])\n",
        "    return model\n",
        "\n",
        "\n",
        "# fix random seed for reproducibility\n",
        "seed = 65\n",
        "numpy.random.seed(seed)\n",
        "tensorflow.random.set_seed(seed)\n",
        "\n",
        "\n",
        "# create model\n",
        "model = KerasClassifier(build_fn=create_model, epochs=300, batch_size=16, verbose=0)\n",
        "\n",
        "# define the grid search parameters\n",
        "dropout_rate = [0.0, 0.1, 0.2, 0.3, 0.4, 0.5, 0.6, 0.7, 0.8, 0.9]\n",
        "param_grid = dict(dropout_rate=dropout_rate)\n",
        "grid = GridSearchCV(estimator=model, param_grid=param_grid, n_jobs=-1, cv=4, verbose=2)\n",
        "grid_result = grid.fit(X, Y)\n",
        "\n",
        "# summarize results\n",
        "print(\"Best: %f using %s\" % (grid_result.best_score_, grid_result.best_params_))\n",
        "# means = grid_result.cv_results_['mean_test_score']\n",
        "# stds = grid_result.cv_results_['std_test_score']\n",
        "# params = grid_result.cv_results_['params']\n",
        "# for mean, stdev, param in zip(means, stds, params):\n",
        "#     print(\"%f (%f) with: %r\" % (mean, stdev, param))\n",
        "\n",
        "plt.style.use('ggplot')\n",
        "plt.plot(dropout_rate, grid_result.cv_results_['mean_test_score'], color='green', linestyle='solid', marker='o', markerfacecolor='red')\n",
        "plt.xlabel('Dropout Rate')\n",
        "plt.ylabel('Accuracy')\n",
        "plt.show()"
      ],
      "execution_count": 706,
      "outputs": [
        {
          "output_type": "stream",
          "text": [
            "Fitting 4 folds for each of 10 candidates, totalling 40 fits\n"
          ],
          "name": "stdout"
        },
        {
          "output_type": "stream",
          "text": [
            "[Parallel(n_jobs=-1)]: Using backend LokyBackend with 2 concurrent workers.\n",
            "[Parallel(n_jobs=-1)]: Done  37 tasks      | elapsed: 26.2min\n",
            "[Parallel(n_jobs=-1)]: Done  40 out of  40 | elapsed: 27.6min finished\n"
          ],
          "name": "stderr"
        },
        {
          "output_type": "stream",
          "text": [
            "Best: 0.725742 using {'dropout_rate': 0.6}\n"
          ],
          "name": "stdout"
        },
        {
          "output_type": "display_data",
          "data": {
            "image/png": "[encoded data removed]",
            "text/plain": [
              "<Figure size 432x288 with 1 Axes>"
            ]
          },
          "metadata": {
            "tags": []
          }
        }
      ]
    },
    {
      "cell_type": "code",
      "metadata": {
        "id": "Hqa-qI91k7Rj",
        "colab": {
          "base_uri": "https://localhost:8080/"
        },
        "outputId": "8fafaa9e-815a-41fa-912e-7e2d600ed7b5"
      },
      "source": [
        "import numpy as np\n",
        "import pandas as pd\n",
        "import seaborn as sns\n",
        "from tqdm.notebook import tqdm\n",
        "import matplotlib.pyplot as plt\n",
        "\n",
        "import torch\n",
        "import torch.nn as nn\n",
        "import torch.optim as optim\n",
        "from torch.utils.data import Dataset, DataLoader, WeightedRandomSampler\n",
        "\n",
        "from sklearn.preprocessing import MinMaxScaler\n",
        "from sklearn.preprocessing import StandardScaler   \n",
        "from sklearn.model_selection import train_test_split\n",
        "from sklearn.metrics import confusion_matrix, classification_report\n",
        "\n",
        "# fix manual seed for reproducibility\n",
        "seed = 65\n",
        "np.random.seed(seed)\n",
        "torch.manual_seed(seed)"
      ],
      "execution_count": 802,
      "outputs": [
        {
          "output_type": "execute_result",
          "data": {
            "text/plain": [
              "<torch._C.Generator at 0x7ff1caee77d0>"
            ]
          },
          "metadata": {
            "tags": []
          },
          "execution_count": 802
        }
      ]
    },
    {
      "cell_type": "code",
      "metadata": {
        "id": "fR5lIqZsoud4"
      },
      "source": [
        "df = pd.read_csv(\"https://raw.githubusercontent.com/manazirahsan1/Fetal-Health-Classification/main/fetal_health.csv\")\n",
        "# df.head() \n",
        "# sns.countplot(x = 'fetal_health', data=df)"
      ],
      "execution_count": 803,
      "outputs": []
    },
    {
      "cell_type": "code",
      "metadata": {
        "colab": {
          "base_uri": "https://localhost:8080/",
          "height": 299
        },
        "id": "619wZXTvo5ic",
        "outputId": "d755765b-667f-4fe4-822c-a1896069ece3"
      },
      "source": [
        "class2idx = {\n",
        "    1:0,\n",
        "    2:1,\n",
        "    3:2\n",
        "}\n",
        "idx2class = {v: k for k, v in class2idx.items()}\n",
        "df['fetal_health'].replace(class2idx, inplace=True)\n",
        "sns.countplot(x = 'fetal_health', data=df)"
      ],
      "execution_count": 804,
      "outputs": [
        {
          "output_type": "execute_result",
          "data": {
            "text/plain": [
              "<matplotlib.axes._subplots.AxesSubplot at 0x7ff0d5546510>"
            ]
          },
          "metadata": {
            "tags": []
          },
          "execution_count": 804
        },
        {
          "output_type": "display_data",
          "data": {
            "image/png": "[encoded data removed]",
            "text/plain": [
              "<Figure size 432x288 with 1 Axes>"
            ]
          },
          "metadata": {
            "tags": []
          }
        }
      ]
    },
    {
      "cell_type": "code",
      "metadata": {
        "id": "gn3SX2ngpwO-"
      },
      "source": [
        "X = df.iloc[:, 0:-1]\n",
        "y = df.iloc[:, -1]"
      ],
      "execution_count": 805,
      "outputs": []
    },
    {
      "cell_type": "code",
      "metadata": {
        "id": "b5SBvTr0qcnJ"
      },
      "source": [
        "# Split into train+val and test\n",
        "X_trainval, X_test, y_trainval, y_test = train_test_split(X,\n",
        "                                                          y,\n",
        "                                                          test_size=0.2,\n",
        "                                                          stratify=y,\n",
        "                                                          random_state=65)\n",
        "\n",
        "# Split train into train-val\n",
        "X_train, X_val, y_train, y_val = train_test_split(X_trainval,\n",
        "                                                  y_trainval,\n",
        "                                                  test_size=0.1,\n",
        "                                                  stratify=y_trainval,\n",
        "                                                  random_state=65)\n",
        "\n",
        "scaler = MinMaxScaler()\n",
        "X_train = scaler.fit_transform(X_train)\n",
        "X_val = scaler.transform(X_val)\n",
        "X_test = scaler.transform(X_test)\n",
        "X_train, y_train = np.array(X_train), np.array(y_train)\n",
        "X_val, y_val = np.array(X_val), np.array(y_val)\n",
        "X_test, y_test = np.array(X_test), np.array(y_test)"
      ],
      "execution_count": 806,
      "outputs": []
    },
    {
      "cell_type": "code",
      "metadata": {
        "colab": {
          "base_uri": "https://localhost:8080/",
          "height": 322
        },
        "id": "B8btLCCsr5lq",
        "outputId": "8bc81a7d-86c8-4025-9328-1693e9b41217"
      },
      "source": [
        "def get_class_distribution(obj):\n",
        "    count_dict = {\n",
        "        \"rating_1\": 0,\n",
        "        \"rating_2\": 0,\n",
        "        \"rating_3\": 0\n",
        "    }\n",
        "    for i in obj:\n",
        "        if i == 0: \n",
        "            count_dict['rating_1'] += 1\n",
        "        elif i == 1: \n",
        "            count_dict['rating_2'] += 1\n",
        "        elif i == 2: \n",
        "            count_dict['rating_3'] += 1\n",
        "        else:\n",
        "            print(\"Check classes.\")\n",
        "    return count_dict\n",
        "\n",
        "\n",
        "fig, axes = plt.subplots(nrows=1, ncols=3, figsize=(25,7))\n",
        "# Train\n",
        "sns.barplot(data = pd.DataFrame.from_dict([get_class_distribution(y_train)]).melt(), x = \"variable\", y=\"value\", hue=\"variable\",  ax=axes[0]).set_title('Class Distribution in Train Set')\n",
        "# Validation\n",
        "sns.barplot(data = pd.DataFrame.from_dict([get_class_distribution(y_val)]).melt(), x = \"variable\", y=\"value\", hue=\"variable\",  ax=axes[1]).set_title('Class Distribution in Val Set')\n",
        "# Test\n",
        "sns.barplot(data = pd.DataFrame.from_dict([get_class_distribution(y_test)]).melt(), x = \"variable\", y=\"value\", hue=\"variable\",  ax=axes[2]).set_title('Class Distribution in Test Set')\n"
      ],
      "execution_count": 807,
      "outputs": [
        {
          "output_type": "execute_result",
          "data": {
            "text/plain": [
              "Text(0.5, 1.0, 'Class Distribution in Test Set')"
            ]
          },
          "metadata": {
            "tags": []
          },
          "execution_count": 807
        },
        {
          "output_type": "display_data",
          "data": {
            "image/png": "[encoded data removed]",
            "text/plain": [
              "<Figure size 1800x504 with 3 Axes>"
            ]
          },
          "metadata": {
            "tags": []
          }
        }
      ]
    },
    {
      "cell_type": "code",
      "metadata": {
        "id": "tkni1WK_srrF"
      },
      "source": [
        "class ClassifierDataset(Dataset):\n",
        "    def __init__(self, X_data, y_data):\n",
        "        self.X_data = X_data\n",
        "        self.y_data = y_data\n",
        "        \n",
        "    def __getitem__(self, index):\n",
        "        return self.X_data[index], self.y_data[index]\n",
        "        \n",
        "    def __len__ (self):\n",
        "        return len(self.X_data)\n",
        "\n",
        "\n",
        "train_dataset = ClassifierDataset(torch.from_numpy(X_train).float(), torch.from_numpy(y_train).long())\n",
        "val_dataset = ClassifierDataset(torch.from_numpy(X_val).float(), torch.from_numpy(y_val).long())\n",
        "test_dataset = ClassifierDataset(torch.from_numpy(X_test).float(), torch.from_numpy(y_test).long())"
      ],
      "execution_count": 808,
      "outputs": []
    },
    {
      "cell_type": "code",
      "metadata": {
        "id": "dQNizrWEt5F5"
      },
      "source": [
        "target_list = []\n",
        "for _, t in train_dataset:\n",
        "    target_list.append(t)\n",
        "    \n",
        "target_list = torch.tensor(target_list)\n",
        "target_list = target_list[torch.randperm(len(target_list))]\n",
        "\n",
        "class_count = [i for i in get_class_distribution(y_train).values()]\n",
        "class_weights = 1./torch.tensor(class_count, dtype=torch.float) \n",
        "\n",
        "class_weights_all = class_weights[target_list]\n",
        "\n",
        "weighted_sampler = WeightedRandomSampler(\n",
        "    weights=class_weights_all,\n",
        "    num_samples=len(class_weights_all),\n",
        "    replacement=True\n",
        ")"
      ],
      "execution_count": 809,
      "outputs": []
    },
    {
      "cell_type": "code",
      "metadata": {
        "id": "eQhM2iYRtWUP"
      },
      "source": [
        "EPOCHS = 300\n",
        "BATCH_SIZE = 16\n",
        "LEARNING_RATE = 0.0005\n",
        "DROPOUT_PROBILITY = 0.05\n",
        "NUM_FEATURES = len(X.columns)\n",
        "NUM_CLASSES = 3"
      ],
      "execution_count": 810,
      "outputs": []
    },
    {
      "cell_type": "code",
      "metadata": {
        "id": "loWRs_UhuEjo"
      },
      "source": [
        "train_loader = DataLoader(dataset=train_dataset,\n",
        "                          batch_size=BATCH_SIZE,\n",
        "                          sampler=weighted_sampler\n",
        ")\n",
        "val_loader = DataLoader(dataset=val_dataset, batch_size=1)\n",
        "test_loader = DataLoader(dataset=test_dataset, batch_size=1)"
      ],
      "execution_count": 811,
      "outputs": []
    },
    {
      "cell_type": "code",
      "metadata": {
        "id": "I4SrLLn0uM3K"
      },
      "source": [
        "class MulticlassClassification(nn.Module):\n",
        "    def __init__(self, num_feature, num_class):\n",
        "        super(MulticlassClassification, self).__init__()\n",
        "        \n",
        "        self.layer_1 = nn.Linear(num_feature, 30)\n",
        "        # self.layer_2 = nn.Linear(100, 20)\n",
        "        self.layer_3 = nn.Linear(30, 6)\n",
        "        self.layer_out = nn.Linear(6, num_class) \n",
        "        \n",
        "        self.relu = nn.ReLU()\n",
        "        self.dropout = nn.Dropout(p=DROPOUT_PROBILITY)\n",
        "        self.batchnorm1 = nn.BatchNorm1d(30)\n",
        "        # self.batchnorm2 = nn.BatchNorm1d(20)\n",
        "        self.batchnorm3 = nn.BatchNorm1d(6)\n",
        "        \n",
        "    def forward(self, x):\n",
        "        x = self.layer_1(x)\n",
        "        x = self.batchnorm1(x)\n",
        "        x = self.relu(x)\n",
        "        x = self.dropout(x)\n",
        "        \n",
        "        # x = self.layer_2(x)\n",
        "        # x = self.batchnorm2(x)\n",
        "        # x = self.relu(x)\n",
        "        # x = self.dropout(x)\n",
        "        \n",
        "        x = self.layer_3(x)\n",
        "        x = self.batchnorm3(x)\n",
        "        x = self.relu(x)\n",
        "        x = self.dropout(x)\n",
        "        \n",
        "        x = self.layer_out(x)\n",
        "        \n",
        "        return x"
      ],
      "execution_count": 812,
      "outputs": []
    },
    {
      "cell_type": "code",
      "metadata": {
        "id": "sMpGumR2ta1v"
      },
      "source": [
        "device = torch.device(\"cuda:0\" if torch.cuda.is_available() else \"cpu\")\n",
        "# print(device)\n",
        "\n",
        "model = MulticlassClassification(num_feature = NUM_FEATURES, num_class=NUM_CLASSES)\n",
        "model.to(device)\n",
        "\n",
        "criterion = nn.CrossEntropyLoss(weight=class_weights.to(device))\n",
        "optimizer = optim.Adam(model.parameters(), lr=LEARNING_RATE)\n",
        "# print(model)"
      ],
      "execution_count": 813,
      "outputs": []
    },
    {
      "cell_type": "code",
      "metadata": {
        "id": "or2ovua6uxa9"
      },
      "source": [
        "def multi_acc(y_pred, y_test):\n",
        "    y_pred_softmax = torch.log_softmax(y_pred, dim = 1)\n",
        "    _, y_pred_tags = torch.max(y_pred_softmax, dim = 1)    \n",
        "    \n",
        "    correct_pred = (y_pred_tags == y_test).float()\n",
        "    acc = correct_pred.sum() / len(correct_pred)\n",
        "    \n",
        "    acc = torch.round(acc * 100)\n",
        "    \n",
        "    return acc"
      ],
      "execution_count": 814,
      "outputs": []
    },
    {
      "cell_type": "code",
      "metadata": {
        "id": "2xsngvIiu98h"
      },
      "source": [
        "accuracy_stats = {\n",
        "    'train': [],\n",
        "    \"val\": []\n",
        "}\n",
        "loss_stats = {\n",
        "    'train': [],\n",
        "    \"val\": []\n",
        "}"
      ],
      "execution_count": 815,
      "outputs": []
    },
    {
      "cell_type": "code",
      "metadata": {
        "colab": {
          "base_uri": "https://localhost:8080/",
          "height": 1000,
          "referenced_widgets": [
            "6e951c46d05e460dac44e1a613bdd1f2",
            "519efcc9929549e69453838cc4dd0779",
            "e3a8506e4ebb42eab3117722315bc322",
            "d72c841a80604c4591319c8f1a5aea76",
            "5229abcd4ac945ff8631620525eac2a8",
            "db82e8be70cb4261ae240b69b324fcd1",
            "4686d6f52a3e49a4843e61fd33d00177",
            "5017af3dbf9443a48514defb61e07a94"
          ]
        },
        "id": "hWMK5smDvAFA",
        "outputId": "405b3e9d-a454-497e-c528-0497758dfb7d"
      },
      "source": [
        "print(\"Begin training.\")\n",
        "for e in tqdm(range(1, EPOCHS+1)):\n",
        "    \n",
        "    # TRAINING\n",
        "    train_epoch_loss = 0\n",
        "    train_epoch_acc = 0\n",
        "    model.train()\n",
        "    for X_train_batch, y_train_batch in train_loader:\n",
        "        X_train_batch, y_train_batch = X_train_batch.to(device), y_train_batch.to(device)\n",
        "        optimizer.zero_grad()\n",
        "        \n",
        "        y_train_pred = model(X_train_batch)\n",
        "        \n",
        "        train_loss = criterion(y_train_pred, y_train_batch)\n",
        "        train_acc = multi_acc(y_train_pred, y_train_batch)\n",
        "        \n",
        "        train_loss.backward()\n",
        "        optimizer.step()\n",
        "        \n",
        "        train_epoch_loss += train_loss.item()\n",
        "        train_epoch_acc += train_acc.item()\n",
        "        \n",
        "        \n",
        "    # VALIDATION    \n",
        "    with torch.no_grad():\n",
        "        \n",
        "        val_epoch_loss = 0\n",
        "        val_epoch_acc = 0\n",
        "        \n",
        "        model.eval()\n",
        "        for X_val_batch, y_val_batch in val_loader:\n",
        "            X_val_batch, y_val_batch = X_val_batch.to(device), y_val_batch.to(device)\n",
        "            \n",
        "            y_val_pred = model(X_val_batch)\n",
        "                        \n",
        "            val_loss = criterion(y_val_pred, y_val_batch)\n",
        "            val_acc = multi_acc(y_val_pred, y_val_batch)\n",
        "            \n",
        "            val_epoch_loss += val_loss.item()\n",
        "            val_epoch_acc += val_acc.item()\n",
        "    loss_stats['train'].append(train_epoch_loss/len(train_loader))\n",
        "    loss_stats['val'].append(val_epoch_loss/len(val_loader))\n",
        "    accuracy_stats['train'].append(train_epoch_acc/len(train_loader))\n",
        "    accuracy_stats['val'].append(val_epoch_acc/len(val_loader))\n",
        "                              \n",
        "    \n",
        "    print(f'Epoch {e+0:03}: | Train Loss: {train_epoch_loss/len(train_loader):.5f} | Val Loss: {val_epoch_loss/len(val_loader):.5f} | Train Acc: {train_epoch_acc/len(train_loader):.3f}| Val Acc: {val_epoch_acc/len(val_loader):.3f}')\n"
      ],
      "execution_count": 816,
      "outputs": [
        {
          "output_type": "stream",
          "text": [
            "Begin training.\n"
          ],
          "name": "stdout"
        },
        {
          "output_type": "display_data",
          "data": {
            "application/vnd.jupyter.widget-view+json": {
              "model_id": "6e951c46d05e460dac44e1a613bdd1f2",
              "version_minor": 0,
              "version_major": 2
            },
            "text/plain": [
              "HBox(children=(FloatProgress(value=0.0, max=300.0), HTML(value='')))"
            ]
          },
          "metadata": {
            "tags": []
          }
        },
        {
          "output_type": "stream",
          "text": [
            "Epoch 001: | Train Loss: 1.11665 | Val Loss: 1.06953 | Train Acc: 30.885| Val Acc: 37.647\n",
            "Epoch 002: | Train Loss: 0.94146 | Val Loss: 1.03754 | Train Acc: 42.542| Val Acc: 45.294\n",
            "Epoch 003: | Train Loss: 0.88893 | Val Loss: 0.99877 | Train Acc: 48.083| Val Acc: 47.647\n",
            "Epoch 004: | Train Loss: 0.85404 | Val Loss: 0.95341 | Train Acc: 52.406| Val Acc: 54.706\n",
            "Epoch 005: | Train Loss: 0.80301 | Val Loss: 0.92635 | Train Acc: 59.698| Val Acc: 58.824\n",
            "Epoch 006: | Train Loss: 0.74852 | Val Loss: 0.85212 | Train Acc: 67.844| Val Acc: 70.000\n",
            "Epoch 007: | Train Loss: 0.70676 | Val Loss: 0.80572 | Train Acc: 71.917| Val Acc: 70.588\n",
            "Epoch 008: | Train Loss: 0.67177 | Val Loss: 0.76896 | Train Acc: 71.448| Val Acc: 70.000\n",
            "Epoch 009: | Train Loss: 0.63666 | Val Loss: 0.68014 | Train Acc: 74.927| Val Acc: 75.294\n",
            "Epoch 010: | Train Loss: 0.59965 | Val Loss: 0.67030 | Train Acc: 76.802| Val Acc: 75.294\n",
            "Epoch 011: | Train Loss: 0.55743 | Val Loss: 0.60245 | Train Acc: 80.292| Val Acc: 77.059\n",
            "Epoch 012: | Train Loss: 0.53763 | Val Loss: 0.58253 | Train Acc: 80.448| Val Acc: 74.706\n",
            "Epoch 013: | Train Loss: 0.55575 | Val Loss: 0.55086 | Train Acc: 82.156| Val Acc: 79.412\n",
            "Epoch 014: | Train Loss: 0.46750 | Val Loss: 0.51905 | Train Acc: 82.281| Val Acc: 76.471\n",
            "Epoch 015: | Train Loss: 0.51278 | Val Loss: 0.47390 | Train Acc: 82.146| Val Acc: 80.000\n",
            "Epoch 016: | Train Loss: 0.44676 | Val Loss: 0.44534 | Train Acc: 82.792| Val Acc: 81.765\n",
            "Epoch 017: | Train Loss: 0.43338 | Val Loss: 0.44152 | Train Acc: 84.594| Val Acc: 80.000\n",
            "Epoch 018: | Train Loss: 0.47313 | Val Loss: 0.39432 | Train Acc: 83.656| Val Acc: 84.118\n",
            "Epoch 019: | Train Loss: 0.47585 | Val Loss: 0.36020 | Train Acc: 84.479| Val Acc: 83.529\n",
            "Epoch 020: | Train Loss: 0.43603 | Val Loss: 0.38834 | Train Acc: 85.333| Val Acc: 82.941\n",
            "Epoch 021: | Train Loss: 0.43916 | Val Loss: 0.37987 | Train Acc: 83.469| Val Acc: 84.118\n",
            "Epoch 022: | Train Loss: 0.39622 | Val Loss: 0.38380 | Train Acc: 84.844| Val Acc: 83.529\n",
            "Epoch 023: | Train Loss: 0.41819 | Val Loss: 0.37022 | Train Acc: 84.938| Val Acc: 84.118\n",
            "Epoch 024: | Train Loss: 0.32701 | Val Loss: 0.34322 | Train Acc: 89.677| Val Acc: 85.294\n",
            "Epoch 025: | Train Loss: 0.42169 | Val Loss: 0.33061 | Train Acc: 84.260| Val Acc: 87.059\n",
            "Epoch 026: | Train Loss: 0.35681 | Val Loss: 0.35296 | Train Acc: 87.615| Val Acc: 85.294\n",
            "Epoch 027: | Train Loss: 0.34924 | Val Loss: 0.38752 | Train Acc: 87.875| Val Acc: 82.941\n",
            "Epoch 028: | Train Loss: 0.34469 | Val Loss: 0.34441 | Train Acc: 87.010| Val Acc: 85.882\n",
            "Epoch 029: | Train Loss: 0.35835 | Val Loss: 0.40463 | Train Acc: 87.552| Val Acc: 82.941\n",
            "Epoch 030: | Train Loss: 0.34710 | Val Loss: 0.38363 | Train Acc: 87.000| Val Acc: 82.941\n",
            "Epoch 031: | Train Loss: 0.35689 | Val Loss: 0.31991 | Train Acc: 86.448| Val Acc: 86.471\n",
            "Epoch 032: | Train Loss: 0.36939 | Val Loss: 0.33308 | Train Acc: 85.990| Val Acc: 85.882\n",
            "Epoch 033: | Train Loss: 0.35238 | Val Loss: 0.34565 | Train Acc: 87.073| Val Acc: 82.941\n",
            "Epoch 034: | Train Loss: 0.32183 | Val Loss: 0.35668 | Train Acc: 87.812| Val Acc: 84.118\n",
            "Epoch 035: | Train Loss: 0.34453 | Val Loss: 0.34858 | Train Acc: 86.979| Val Acc: 83.529\n",
            "Epoch 036: | Train Loss: 0.32422 | Val Loss: 0.33236 | Train Acc: 88.219| Val Acc: 84.706\n",
            "Epoch 037: | Train Loss: 0.36914 | Val Loss: 0.41581 | Train Acc: 86.646| Val Acc: 81.176\n",
            "Epoch 038: | Train Loss: 0.32274 | Val Loss: 0.40049 | Train Acc: 88.490| Val Acc: 82.941\n",
            "Epoch 039: | Train Loss: 0.30665 | Val Loss: 0.32684 | Train Acc: 87.865| Val Acc: 84.118\n",
            "Epoch 040: | Train Loss: 0.35926 | Val Loss: 0.30989 | Train Acc: 87.458| Val Acc: 85.294\n",
            "Epoch 041: | Train Loss: 0.29877 | Val Loss: 0.35780 | Train Acc: 89.552| Val Acc: 84.118\n",
            "Epoch 042: | Train Loss: 0.29636 | Val Loss: 0.35333 | Train Acc: 89.510| Val Acc: 85.294\n",
            "Epoch 043: | Train Loss: 0.31857 | Val Loss: 0.38007 | Train Acc: 88.073| Val Acc: 82.941\n",
            "Epoch 044: | Train Loss: 0.33719 | Val Loss: 0.37605 | Train Acc: 87.812| Val Acc: 84.706\n",
            "Epoch 045: | Train Loss: 0.32804 | Val Loss: 0.36972 | Train Acc: 88.406| Val Acc: 83.529\n",
            "Epoch 046: | Train Loss: 0.32605 | Val Loss: 0.36765 | Train Acc: 88.167| Val Acc: 83.529\n",
            "Epoch 047: | Train Loss: 0.31093 | Val Loss: 0.35415 | Train Acc: 88.594| Val Acc: 85.294\n",
            "Epoch 048: | Train Loss: 0.31112 | Val Loss: 0.33209 | Train Acc: 88.250| Val Acc: 85.882\n",
            "Epoch 049: | Train Loss: 0.28263 | Val Loss: 0.30570 | Train Acc: 88.979| Val Acc: 85.882\n",
            "Epoch 050: | Train Loss: 0.29924 | Val Loss: 0.30583 | Train Acc: 89.812| Val Acc: 84.706\n",
            "Epoch 051: | Train Loss: 0.30550 | Val Loss: 0.31381 | Train Acc: 88.990| Val Acc: 85.882\n",
            "Epoch 052: | Train Loss: 0.28879 | Val Loss: 0.33887 | Train Acc: 88.885| Val Acc: 86.471\n",
            "Epoch 053: | Train Loss: 0.27811 | Val Loss: 0.37110 | Train Acc: 88.750| Val Acc: 83.529\n",
            "Epoch 054: | Train Loss: 0.33141 | Val Loss: 0.31930 | Train Acc: 88.240| Val Acc: 84.118\n",
            "Epoch 055: | Train Loss: 0.27153 | Val Loss: 0.31204 | Train Acc: 88.365| Val Acc: 82.941\n",
            "Epoch 056: | Train Loss: 0.33179 | Val Loss: 0.29563 | Train Acc: 88.208| Val Acc: 85.294\n",
            "Epoch 057: | Train Loss: 0.34211 | Val Loss: 0.33362 | Train Acc: 87.354| Val Acc: 84.706\n",
            "Epoch 058: | Train Loss: 0.28141 | Val Loss: 0.32184 | Train Acc: 90.135| Val Acc: 86.471\n",
            "Epoch 059: | Train Loss: 0.25754 | Val Loss: 0.29841 | Train Acc: 90.656| Val Acc: 86.471\n",
            "Epoch 060: | Train Loss: 0.29652 | Val Loss: 0.31842 | Train Acc: 88.573| Val Acc: 85.294\n",
            "Epoch 061: | Train Loss: 0.28132 | Val Loss: 0.35055 | Train Acc: 89.562| Val Acc: 84.706\n",
            "Epoch 062: | Train Loss: 0.29719 | Val Loss: 0.30910 | Train Acc: 89.552| Val Acc: 85.882\n",
            "Epoch 063: | Train Loss: 0.27820 | Val Loss: 0.30384 | Train Acc: 90.104| Val Acc: 87.647\n",
            "Epoch 064: | Train Loss: 0.33653 | Val Loss: 0.30293 | Train Acc: 88.771| Val Acc: 87.059\n",
            "Epoch 065: | Train Loss: 0.24138 | Val Loss: 0.30779 | Train Acc: 91.240| Val Acc: 88.824\n",
            "Epoch 066: | Train Loss: 0.30900 | Val Loss: 0.28523 | Train Acc: 89.062| Val Acc: 87.647\n",
            "Epoch 067: | Train Loss: 0.27816 | Val Loss: 0.34615 | Train Acc: 90.646| Val Acc: 85.294\n",
            "Epoch 068: | Train Loss: 0.27162 | Val Loss: 0.32764 | Train Acc: 90.062| Val Acc: 86.471\n",
            "Epoch 069: | Train Loss: 0.29710 | Val Loss: 0.30263 | Train Acc: 89.604| Val Acc: 85.882\n",
            "Epoch 070: | Train Loss: 0.32557 | Val Loss: 0.31983 | Train Acc: 88.000| Val Acc: 86.471\n",
            "Epoch 071: | Train Loss: 0.28136 | Val Loss: 0.34481 | Train Acc: 88.729| Val Acc: 85.294\n",
            "Epoch 072: | Train Loss: 0.25676 | Val Loss: 0.28589 | Train Acc: 90.333| Val Acc: 85.882\n",
            "Epoch 073: | Train Loss: 0.29635 | Val Loss: 0.29551 | Train Acc: 89.771| Val Acc: 87.647\n",
            "Epoch 074: | Train Loss: 0.28363 | Val Loss: 0.31895 | Train Acc: 89.927| Val Acc: 87.059\n",
            "Epoch 075: | Train Loss: 0.25019 | Val Loss: 0.33402 | Train Acc: 90.833| Val Acc: 87.059\n",
            "Epoch 076: | Train Loss: 0.31663 | Val Loss: 0.32098 | Train Acc: 89.938| Val Acc: 87.059\n",
            "Epoch 077: | Train Loss: 0.28363 | Val Loss: 0.33331 | Train Acc: 88.271| Val Acc: 85.882\n",
            "Epoch 078: | Train Loss: 0.27904 | Val Loss: 0.32958 | Train Acc: 89.562| Val Acc: 85.294\n",
            "Epoch 079: | Train Loss: 0.26873 | Val Loss: 0.28354 | Train Acc: 89.583| Val Acc: 87.059\n",
            "Epoch 080: | Train Loss: 0.22911 | Val Loss: 0.34638 | Train Acc: 91.417| Val Acc: 84.706\n",
            "Epoch 081: | Train Loss: 0.25392 | Val Loss: 0.32454 | Train Acc: 90.406| Val Acc: 86.471\n",
            "Epoch 082: | Train Loss: 0.28110 | Val Loss: 0.32157 | Train Acc: 89.510| Val Acc: 85.294\n",
            "Epoch 083: | Train Loss: 0.28923 | Val Loss: 0.29462 | Train Acc: 88.750| Val Acc: 87.059\n",
            "Epoch 084: | Train Loss: 0.29235 | Val Loss: 0.29835 | Train Acc: 90.479| Val Acc: 88.235\n",
            "Epoch 085: | Train Loss: 0.29765 | Val Loss: 0.28715 | Train Acc: 88.750| Val Acc: 88.824\n",
            "Epoch 086: | Train Loss: 0.30516 | Val Loss: 0.34137 | Train Acc: 88.583| Val Acc: 85.882\n",
            "Epoch 087: | Train Loss: 0.29454 | Val Loss: 0.30642 | Train Acc: 89.281| Val Acc: 87.647\n",
            "Epoch 088: | Train Loss: 0.27940 | Val Loss: 0.30914 | Train Acc: 90.000| Val Acc: 87.647\n",
            "Epoch 089: | Train Loss: 0.30172 | Val Loss: 0.33372 | Train Acc: 89.271| Val Acc: 87.059\n",
            "Epoch 090: | Train Loss: 0.22485 | Val Loss: 0.30794 | Train Acc: 91.146| Val Acc: 86.471\n",
            "Epoch 091: | Train Loss: 0.24560 | Val Loss: 0.35355 | Train Acc: 89.740| Val Acc: 86.471\n",
            "Epoch 092: | Train Loss: 0.27389 | Val Loss: 0.32613 | Train Acc: 89.927| Val Acc: 85.882\n",
            "Epoch 093: | Train Loss: 0.22108 | Val Loss: 0.32514 | Train Acc: 90.458| Val Acc: 87.059\n",
            "Epoch 094: | Train Loss: 0.23336 | Val Loss: 0.31833 | Train Acc: 90.646| Val Acc: 87.647\n",
            "Epoch 095: | Train Loss: 0.24825 | Val Loss: 0.28807 | Train Acc: 90.167| Val Acc: 87.059\n",
            "Epoch 096: | Train Loss: 0.26525 | Val Loss: 0.34137 | Train Acc: 89.844| Val Acc: 86.471\n",
            "Epoch 097: | Train Loss: 0.28993 | Val Loss: 0.28237 | Train Acc: 90.094| Val Acc: 89.412\n",
            "Epoch 098: | Train Loss: 0.25667 | Val Loss: 0.32229 | Train Acc: 89.802| Val Acc: 86.471\n",
            "Epoch 099: | Train Loss: 0.26471 | Val Loss: 0.34605 | Train Acc: 89.802| Val Acc: 87.059\n",
            "Epoch 100: | Train Loss: 0.23521 | Val Loss: 0.32674 | Train Acc: 90.542| Val Acc: 87.059\n",
            "Epoch 101: | Train Loss: 0.26705 | Val Loss: 0.29504 | Train Acc: 90.635| Val Acc: 85.882\n",
            "Epoch 102: | Train Loss: 0.25088 | Val Loss: 0.32964 | Train Acc: 91.052| Val Acc: 86.471\n",
            "Epoch 103: | Train Loss: 0.24776 | Val Loss: 0.34253 | Train Acc: 89.979| Val Acc: 85.882\n",
            "Epoch 104: | Train Loss: 0.26119 | Val Loss: 0.29372 | Train Acc: 90.396| Val Acc: 86.471\n",
            "Epoch 105: | Train Loss: 0.26441 | Val Loss: 0.26185 | Train Acc: 90.250| Val Acc: 87.647\n",
            "Epoch 106: | Train Loss: 0.24985 | Val Loss: 0.31118 | Train Acc: 91.177| Val Acc: 87.059\n",
            "Epoch 107: | Train Loss: 0.24762 | Val Loss: 0.27211 | Train Acc: 90.969| Val Acc: 88.235\n",
            "Epoch 108: | Train Loss: 0.25743 | Val Loss: 0.31083 | Train Acc: 91.792| Val Acc: 87.059\n",
            "Epoch 109: | Train Loss: 0.28112 | Val Loss: 0.32468 | Train Acc: 89.552| Val Acc: 86.471\n",
            "Epoch 110: | Train Loss: 0.23383 | Val Loss: 0.32139 | Train Acc: 91.344| Val Acc: 88.824\n",
            "Epoch 111: | Train Loss: 0.26118 | Val Loss: 0.28353 | Train Acc: 91.531| Val Acc: 87.647\n",
            "Epoch 112: | Train Loss: 0.26951 | Val Loss: 0.30829 | Train Acc: 90.062| Val Acc: 87.059\n",
            "Epoch 113: | Train Loss: 0.28897 | Val Loss: 0.32776 | Train Acc: 89.635| Val Acc: 87.059\n",
            "Epoch 114: | Train Loss: 0.24921 | Val Loss: 0.33649 | Train Acc: 90.417| Val Acc: 86.471\n",
            "Epoch 115: | Train Loss: 0.26322 | Val Loss: 0.31877 | Train Acc: 90.635| Val Acc: 85.882\n",
            "Epoch 116: | Train Loss: 0.24061 | Val Loss: 0.30898 | Train Acc: 90.219| Val Acc: 87.647\n",
            "Epoch 117: | Train Loss: 0.26706 | Val Loss: 0.35334 | Train Acc: 91.312| Val Acc: 84.706\n",
            "Epoch 118: | Train Loss: 0.23602 | Val Loss: 0.29772 | Train Acc: 90.667| Val Acc: 87.647\n",
            "Epoch 119: | Train Loss: 0.24116 | Val Loss: 0.30855 | Train Acc: 91.552| Val Acc: 87.647\n",
            "Epoch 120: | Train Loss: 0.21809 | Val Loss: 0.30025 | Train Acc: 91.823| Val Acc: 88.235\n",
            "Epoch 121: | Train Loss: 0.26904 | Val Loss: 0.31895 | Train Acc: 89.365| Val Acc: 87.647\n",
            "Epoch 122: | Train Loss: 0.21834 | Val Loss: 0.28867 | Train Acc: 91.052| Val Acc: 88.235\n",
            "Epoch 123: | Train Loss: 0.22016 | Val Loss: 0.28001 | Train Acc: 92.115| Val Acc: 88.235\n",
            "Epoch 124: | Train Loss: 0.23049 | Val Loss: 0.28564 | Train Acc: 91.094| Val Acc: 87.059\n",
            "Epoch 125: | Train Loss: 0.24637 | Val Loss: 0.26357 | Train Acc: 90.833| Val Acc: 88.824\n",
            "Epoch 126: | Train Loss: 0.24875 | Val Loss: 0.29297 | Train Acc: 92.156| Val Acc: 88.235\n",
            "Epoch 127: | Train Loss: 0.23422 | Val Loss: 0.29001 | Train Acc: 90.844| Val Acc: 90.000\n",
            "Epoch 128: | Train Loss: 0.30059 | Val Loss: 0.29940 | Train Acc: 90.635| Val Acc: 88.824\n",
            "Epoch 129: | Train Loss: 0.22784 | Val Loss: 0.29723 | Train Acc: 91.167| Val Acc: 87.647\n",
            "Epoch 130: | Train Loss: 0.26039 | Val Loss: 0.32452 | Train Acc: 90.646| Val Acc: 86.471\n",
            "Epoch 131: | Train Loss: 0.29043 | Val Loss: 0.31809 | Train Acc: 89.896| Val Acc: 88.824\n",
            "Epoch 132: | Train Loss: 0.25347 | Val Loss: 0.28908 | Train Acc: 90.760| Val Acc: 88.824\n",
            "Epoch 133: | Train Loss: 0.21183 | Val Loss: 0.26596 | Train Acc: 91.573| Val Acc: 89.412\n",
            "Epoch 134: | Train Loss: 0.25776 | Val Loss: 0.31992 | Train Acc: 90.990| Val Acc: 87.647\n",
            "Epoch 135: | Train Loss: 0.24481 | Val Loss: 0.28721 | Train Acc: 90.646| Val Acc: 88.824\n",
            "Epoch 136: | Train Loss: 0.26143 | Val Loss: 0.27757 | Train Acc: 88.833| Val Acc: 87.647\n",
            "Epoch 137: | Train Loss: 0.27231 | Val Loss: 0.31583 | Train Acc: 89.958| Val Acc: 86.471\n",
            "Epoch 138: | Train Loss: 0.28299 | Val Loss: 0.28434 | Train Acc: 89.479| Val Acc: 86.471\n",
            "Epoch 139: | Train Loss: 0.28456 | Val Loss: 0.29246 | Train Acc: 88.469| Val Acc: 88.235\n",
            "Epoch 140: | Train Loss: 0.20854 | Val Loss: 0.29482 | Train Acc: 91.906| Val Acc: 87.647\n",
            "Epoch 141: | Train Loss: 0.21993 | Val Loss: 0.29221 | Train Acc: 92.271| Val Acc: 88.824\n",
            "Epoch 142: | Train Loss: 0.25415 | Val Loss: 0.27861 | Train Acc: 91.385| Val Acc: 86.471\n",
            "Epoch 143: | Train Loss: 0.22281 | Val Loss: 0.28533 | Train Acc: 91.406| Val Acc: 87.059\n",
            "Epoch 144: | Train Loss: 0.23598 | Val Loss: 0.31432 | Train Acc: 90.615| Val Acc: 88.824\n",
            "Epoch 145: | Train Loss: 0.24282 | Val Loss: 0.27930 | Train Acc: 90.615| Val Acc: 89.412\n",
            "Epoch 146: | Train Loss: 0.23787 | Val Loss: 0.29083 | Train Acc: 89.958| Val Acc: 89.412\n",
            "Epoch 147: | Train Loss: 0.25323 | Val Loss: 0.29784 | Train Acc: 90.042| Val Acc: 88.235\n",
            "Epoch 148: | Train Loss: 0.25605 | Val Loss: 0.31827 | Train Acc: 89.833| Val Acc: 87.647\n",
            "Epoch 149: | Train Loss: 0.23720 | Val Loss: 0.33046 | Train Acc: 91.208| Val Acc: 87.647\n",
            "Epoch 150: | Train Loss: 0.25400 | Val Loss: 0.27540 | Train Acc: 91.198| Val Acc: 90.000\n",
            "Epoch 151: | Train Loss: 0.21994 | Val Loss: 0.27582 | Train Acc: 90.771| Val Acc: 87.647\n",
            "Epoch 152: | Train Loss: 0.23088 | Val Loss: 0.28523 | Train Acc: 91.625| Val Acc: 85.882\n",
            "Epoch 153: | Train Loss: 0.23894 | Val Loss: 0.29610 | Train Acc: 91.688| Val Acc: 88.824\n",
            "Epoch 154: | Train Loss: 0.23854 | Val Loss: 0.28275 | Train Acc: 92.333| Val Acc: 88.824\n",
            "Epoch 155: | Train Loss: 0.20732 | Val Loss: 0.29997 | Train Acc: 91.552| Val Acc: 88.235\n",
            "Epoch 156: | Train Loss: 0.21541 | Val Loss: 0.28256 | Train Acc: 91.562| Val Acc: 88.824\n",
            "Epoch 157: | Train Loss: 0.27788 | Val Loss: 0.27493 | Train Acc: 89.927| Val Acc: 89.412\n",
            "Epoch 158: | Train Loss: 0.19406 | Val Loss: 0.31062 | Train Acc: 93.031| Val Acc: 87.647\n",
            "Epoch 159: | Train Loss: 0.22876 | Val Loss: 0.28035 | Train Acc: 91.927| Val Acc: 88.824\n",
            "Epoch 160: | Train Loss: 0.22604 | Val Loss: 0.31177 | Train Acc: 91.042| Val Acc: 87.647\n",
            "Epoch 161: | Train Loss: 0.25053 | Val Loss: 0.31487 | Train Acc: 90.917| Val Acc: 87.647\n",
            "Epoch 162: | Train Loss: 0.23584 | Val Loss: 0.29901 | Train Acc: 89.875| Val Acc: 85.882\n",
            "Epoch 163: | Train Loss: 0.24360 | Val Loss: 0.31055 | Train Acc: 90.479| Val Acc: 87.647\n",
            "Epoch 164: | Train Loss: 0.25432 | Val Loss: 0.34912 | Train Acc: 92.073| Val Acc: 87.059\n",
            "Epoch 165: | Train Loss: 0.21400 | Val Loss: 0.33238 | Train Acc: 90.979| Val Acc: 89.412\n",
            "Epoch 166: | Train Loss: 0.21947 | Val Loss: 0.33349 | Train Acc: 91.312| Val Acc: 89.412\n",
            "Epoch 167: | Train Loss: 0.23465 | Val Loss: 0.33325 | Train Acc: 91.021| Val Acc: 88.235\n",
            "Epoch 168: | Train Loss: 0.24136 | Val Loss: 0.34739 | Train Acc: 90.760| Val Acc: 88.235\n",
            "Epoch 169: | Train Loss: 0.26168 | Val Loss: 0.30609 | Train Acc: 90.229| Val Acc: 88.824\n",
            "Epoch 170: | Train Loss: 0.24352 | Val Loss: 0.30486 | Train Acc: 90.812| Val Acc: 88.824\n",
            "Epoch 171: | Train Loss: 0.20920 | Val Loss: 0.31443 | Train Acc: 91.427| Val Acc: 88.235\n",
            "Epoch 172: | Train Loss: 0.22560 | Val Loss: 0.30051 | Train Acc: 91.615| Val Acc: 88.235\n",
            "Epoch 173: | Train Loss: 0.22281 | Val Loss: 0.32873 | Train Acc: 91.802| Val Acc: 88.824\n",
            "Epoch 174: | Train Loss: 0.24269 | Val Loss: 0.31541 | Train Acc: 90.688| Val Acc: 88.235\n",
            "Epoch 175: | Train Loss: 0.24038 | Val Loss: 0.29978 | Train Acc: 92.229| Val Acc: 88.235\n",
            "Epoch 176: | Train Loss: 0.27423 | Val Loss: 0.26849 | Train Acc: 91.562| Val Acc: 89.412\n",
            "Epoch 177: | Train Loss: 0.21166 | Val Loss: 0.30245 | Train Acc: 91.708| Val Acc: 88.824\n",
            "Epoch 178: | Train Loss: 0.24803 | Val Loss: 0.27428 | Train Acc: 90.396| Val Acc: 90.000\n",
            "Epoch 179: | Train Loss: 0.22197 | Val Loss: 0.30253 | Train Acc: 91.448| Val Acc: 89.412\n",
            "Epoch 180: | Train Loss: 0.22170 | Val Loss: 0.28908 | Train Acc: 91.604| Val Acc: 88.824\n",
            "Epoch 181: | Train Loss: 0.26843 | Val Loss: 0.29805 | Train Acc: 91.865| Val Acc: 88.235\n",
            "Epoch 182: | Train Loss: 0.22280 | Val Loss: 0.30109 | Train Acc: 91.292| Val Acc: 90.000\n",
            "Epoch 183: | Train Loss: 0.22171 | Val Loss: 0.31750 | Train Acc: 92.531| Val Acc: 88.235\n",
            "Epoch 184: | Train Loss: 0.25178 | Val Loss: 0.32656 | Train Acc: 90.479| Val Acc: 89.412\n",
            "Epoch 185: | Train Loss: 0.23486 | Val Loss: 0.33532 | Train Acc: 90.135| Val Acc: 87.647\n",
            "Epoch 186: | Train Loss: 0.23557 | Val Loss: 0.27919 | Train Acc: 91.260| Val Acc: 90.000\n",
            "Epoch 187: | Train Loss: 0.25433 | Val Loss: 0.28364 | Train Acc: 90.646| Val Acc: 89.412\n",
            "Epoch 188: | Train Loss: 0.22432 | Val Loss: 0.28049 | Train Acc: 91.948| Val Acc: 89.412\n",
            "Epoch 189: | Train Loss: 0.24305 | Val Loss: 0.31929 | Train Acc: 90.656| Val Acc: 89.412\n",
            "Epoch 190: | Train Loss: 0.21216 | Val Loss: 0.28716 | Train Acc: 91.615| Val Acc: 90.000\n",
            "Epoch 191: | Train Loss: 0.23957 | Val Loss: 0.29740 | Train Acc: 91.167| Val Acc: 89.412\n",
            "Epoch 192: | Train Loss: 0.22782 | Val Loss: 0.27942 | Train Acc: 91.000| Val Acc: 89.412\n",
            "Epoch 193: | Train Loss: 0.22289 | Val Loss: 0.28158 | Train Acc: 91.531| Val Acc: 88.824\n",
            "Epoch 194: | Train Loss: 0.26622 | Val Loss: 0.30283 | Train Acc: 91.458| Val Acc: 89.412\n",
            "Epoch 195: | Train Loss: 0.24238 | Val Loss: 0.29159 | Train Acc: 90.854| Val Acc: 89.412\n",
            "Epoch 196: | Train Loss: 0.21467 | Val Loss: 0.29012 | Train Acc: 91.240| Val Acc: 90.000\n",
            "Epoch 197: | Train Loss: 0.22234 | Val Loss: 0.28233 | Train Acc: 92.750| Val Acc: 89.412\n",
            "Epoch 198: | Train Loss: 0.19932 | Val Loss: 0.34375 | Train Acc: 91.583| Val Acc: 88.235\n",
            "Epoch 199: | Train Loss: 0.23290 | Val Loss: 0.30650 | Train Acc: 92.135| Val Acc: 88.235\n",
            "Epoch 200: | Train Loss: 0.18772 | Val Loss: 0.31466 | Train Acc: 92.688| Val Acc: 88.824\n",
            "Epoch 201: | Train Loss: 0.21039 | Val Loss: 0.33586 | Train Acc: 92.292| Val Acc: 88.235\n",
            "Epoch 202: | Train Loss: 0.19062 | Val Loss: 0.29964 | Train Acc: 92.042| Val Acc: 87.647\n",
            "Epoch 203: | Train Loss: 0.18618 | Val Loss: 0.33134 | Train Acc: 91.948| Val Acc: 87.647\n",
            "Epoch 204: | Train Loss: 0.22328 | Val Loss: 0.33341 | Train Acc: 91.135| Val Acc: 88.824\n",
            "Epoch 205: | Train Loss: 0.23835 | Val Loss: 0.32573 | Train Acc: 91.104| Val Acc: 87.647\n",
            "Epoch 206: | Train Loss: 0.25006 | Val Loss: 0.37666 | Train Acc: 90.219| Val Acc: 88.235\n",
            "Epoch 207: | Train Loss: 0.22602 | Val Loss: 0.33466 | Train Acc: 90.875| Val Acc: 88.824\n",
            "Epoch 208: | Train Loss: 0.22712 | Val Loss: 0.29814 | Train Acc: 90.917| Val Acc: 88.824\n",
            "Epoch 209: | Train Loss: 0.24467 | Val Loss: 0.31861 | Train Acc: 89.885| Val Acc: 87.647\n",
            "Epoch 210: | Train Loss: 0.21307 | Val Loss: 0.32347 | Train Acc: 91.854| Val Acc: 88.235\n",
            "Epoch 211: | Train Loss: 0.24375 | Val Loss: 0.32714 | Train Acc: 91.281| Val Acc: 89.412\n",
            "Epoch 212: | Train Loss: 0.24610 | Val Loss: 0.33609 | Train Acc: 91.115| Val Acc: 88.235\n",
            "Epoch 213: | Train Loss: 0.24757 | Val Loss: 0.32607 | Train Acc: 91.240| Val Acc: 87.059\n",
            "Epoch 214: | Train Loss: 0.23072 | Val Loss: 0.32453 | Train Acc: 92.042| Val Acc: 88.235\n",
            "Epoch 215: | Train Loss: 0.22088 | Val Loss: 0.29955 | Train Acc: 91.615| Val Acc: 88.235\n",
            "Epoch 216: | Train Loss: 0.19662 | Val Loss: 0.34741 | Train Acc: 91.833| Val Acc: 88.824\n",
            "Epoch 217: | Train Loss: 0.26037 | Val Loss: 0.33855 | Train Acc: 91.906| Val Acc: 88.235\n",
            "Epoch 218: | Train Loss: 0.19818 | Val Loss: 0.32949 | Train Acc: 91.948| Val Acc: 89.412\n",
            "Epoch 219: | Train Loss: 0.23087 | Val Loss: 0.35543 | Train Acc: 91.698| Val Acc: 88.235\n",
            "Epoch 220: | Train Loss: 0.21656 | Val Loss: 0.33287 | Train Acc: 92.406| Val Acc: 88.824\n",
            "Epoch 221: | Train Loss: 0.21234 | Val Loss: 0.32935 | Train Acc: 92.365| Val Acc: 88.235\n",
            "Epoch 222: | Train Loss: 0.22096 | Val Loss: 0.30173 | Train Acc: 91.885| Val Acc: 88.235\n",
            "Epoch 223: | Train Loss: 0.21004 | Val Loss: 0.33171 | Train Acc: 92.177| Val Acc: 87.647\n",
            "Epoch 224: | Train Loss: 0.24427 | Val Loss: 0.35755 | Train Acc: 92.010| Val Acc: 88.235\n",
            "Epoch 225: | Train Loss: 0.23820 | Val Loss: 0.32534 | Train Acc: 90.875| Val Acc: 88.824\n",
            "Epoch 226: | Train Loss: 0.21714 | Val Loss: 0.31222 | Train Acc: 92.854| Val Acc: 88.235\n",
            "Epoch 227: | Train Loss: 0.18620 | Val Loss: 0.32984 | Train Acc: 92.760| Val Acc: 87.647\n",
            "Epoch 228: | Train Loss: 0.24524 | Val Loss: 0.31120 | Train Acc: 91.823| Val Acc: 87.059\n",
            "Epoch 229: | Train Loss: 0.23861 | Val Loss: 0.31172 | Train Acc: 91.198| Val Acc: 87.059\n",
            "Epoch 230: | Train Loss: 0.22125 | Val Loss: 0.35880 | Train Acc: 91.552| Val Acc: 88.235\n",
            "Epoch 231: | Train Loss: 0.22147 | Val Loss: 0.34183 | Train Acc: 90.281| Val Acc: 87.647\n",
            "Epoch 232: | Train Loss: 0.21485 | Val Loss: 0.32184 | Train Acc: 91.604| Val Acc: 87.647\n",
            "Epoch 233: | Train Loss: 0.24406 | Val Loss: 0.29303 | Train Acc: 91.312| Val Acc: 89.412\n",
            "Epoch 234: | Train Loss: 0.19816 | Val Loss: 0.33299 | Train Acc: 93.115| Val Acc: 88.235\n",
            "Epoch 235: | Train Loss: 0.26068 | Val Loss: 0.32460 | Train Acc: 91.188| Val Acc: 87.647\n",
            "Epoch 236: | Train Loss: 0.21002 | Val Loss: 0.31773 | Train Acc: 91.698| Val Acc: 88.235\n",
            "Epoch 237: | Train Loss: 0.22308 | Val Loss: 0.34012 | Train Acc: 90.958| Val Acc: 86.471\n",
            "Epoch 238: | Train Loss: 0.20053 | Val Loss: 0.31151 | Train Acc: 92.240| Val Acc: 88.235\n",
            "Epoch 239: | Train Loss: 0.21109 | Val Loss: 0.38402 | Train Acc: 92.198| Val Acc: 86.471\n",
            "Epoch 240: | Train Loss: 0.18178 | Val Loss: 0.34325 | Train Acc: 93.344| Val Acc: 85.882\n",
            "Epoch 241: | Train Loss: 0.19796 | Val Loss: 0.32279 | Train Acc: 91.823| Val Acc: 87.647\n",
            "Epoch 242: | Train Loss: 0.18507 | Val Loss: 0.31547 | Train Acc: 92.250| Val Acc: 88.235\n",
            "Epoch 243: | Train Loss: 0.21003 | Val Loss: 0.31030 | Train Acc: 91.750| Val Acc: 88.235\n",
            "Epoch 244: | Train Loss: 0.20682 | Val Loss: 0.30766 | Train Acc: 91.875| Val Acc: 87.059\n",
            "Epoch 245: | Train Loss: 0.22806 | Val Loss: 0.37744 | Train Acc: 90.740| Val Acc: 87.059\n",
            "Epoch 246: | Train Loss: 0.23561 | Val Loss: 0.29644 | Train Acc: 91.958| Val Acc: 89.412\n",
            "Epoch 247: | Train Loss: 0.19805 | Val Loss: 0.31590 | Train Acc: 93.031| Val Acc: 87.647\n",
            "Epoch 248: | Train Loss: 0.21010 | Val Loss: 0.33551 | Train Acc: 92.177| Val Acc: 88.235\n",
            "Epoch 249: | Train Loss: 0.22410 | Val Loss: 0.32543 | Train Acc: 92.917| Val Acc: 88.824\n",
            "Epoch 250: | Train Loss: 0.19681 | Val Loss: 0.29245 | Train Acc: 92.750| Val Acc: 87.647\n",
            "Epoch 251: | Train Loss: 0.21519 | Val Loss: 0.31467 | Train Acc: 92.188| Val Acc: 87.647\n",
            "Epoch 252: | Train Loss: 0.19115 | Val Loss: 0.33390 | Train Acc: 92.885| Val Acc: 87.647\n",
            "Epoch 253: | Train Loss: 0.20590 | Val Loss: 0.28810 | Train Acc: 91.240| Val Acc: 88.235\n",
            "Epoch 254: | Train Loss: 0.21365 | Val Loss: 0.30717 | Train Acc: 92.656| Val Acc: 88.235\n",
            "Epoch 255: | Train Loss: 0.21445 | Val Loss: 0.29696 | Train Acc: 91.604| Val Acc: 89.412\n",
            "Epoch 256: | Train Loss: 0.23443 | Val Loss: 0.30673 | Train Acc: 91.594| Val Acc: 89.412\n",
            "Epoch 257: | Train Loss: 0.18881 | Val Loss: 0.31180 | Train Acc: 92.583| Val Acc: 88.235\n",
            "Epoch 258: | Train Loss: 0.22656 | Val Loss: 0.28211 | Train Acc: 91.688| Val Acc: 90.000\n",
            "Epoch 259: | Train Loss: 0.21708 | Val Loss: 0.32208 | Train Acc: 91.812| Val Acc: 87.647\n",
            "Epoch 260: | Train Loss: 0.20315 | Val Loss: 0.32123 | Train Acc: 92.333| Val Acc: 88.824\n",
            "Epoch 261: | Train Loss: 0.20876 | Val Loss: 0.28562 | Train Acc: 92.417| Val Acc: 88.824\n",
            "Epoch 262: | Train Loss: 0.16829 | Val Loss: 0.31293 | Train Acc: 93.333| Val Acc: 87.059\n",
            "Epoch 263: | Train Loss: 0.22006 | Val Loss: 0.30428 | Train Acc: 92.104| Val Acc: 90.000\n",
            "Epoch 264: | Train Loss: 0.24169 | Val Loss: 0.32129 | Train Acc: 90.323| Val Acc: 88.824\n",
            "Epoch 265: | Train Loss: 0.21850 | Val Loss: 0.31855 | Train Acc: 92.427| Val Acc: 89.412\n",
            "Epoch 266: | Train Loss: 0.24591 | Val Loss: 0.31990 | Train Acc: 91.000| Val Acc: 88.824\n",
            "Epoch 267: | Train Loss: 0.20133 | Val Loss: 0.27998 | Train Acc: 93.073| Val Acc: 88.235\n",
            "Epoch 268: | Train Loss: 0.18906 | Val Loss: 0.27845 | Train Acc: 92.833| Val Acc: 89.412\n",
            "Epoch 269: | Train Loss: 0.24060 | Val Loss: 0.31455 | Train Acc: 91.260| Val Acc: 88.235\n",
            "Epoch 270: | Train Loss: 0.23653 | Val Loss: 0.33700 | Train Acc: 91.010| Val Acc: 88.235\n",
            "Epoch 271: | Train Loss: 0.18243 | Val Loss: 0.29748 | Train Acc: 91.958| Val Acc: 87.647\n",
            "Epoch 272: | Train Loss: 0.24260 | Val Loss: 0.30918 | Train Acc: 92.062| Val Acc: 87.647\n",
            "Epoch 273: | Train Loss: 0.24151 | Val Loss: 0.29034 | Train Acc: 90.938| Val Acc: 87.647\n",
            "Epoch 274: | Train Loss: 0.22082 | Val Loss: 0.30091 | Train Acc: 91.333| Val Acc: 88.824\n",
            "Epoch 275: | Train Loss: 0.20270 | Val Loss: 0.29198 | Train Acc: 91.948| Val Acc: 90.000\n",
            "Epoch 276: | Train Loss: 0.21610 | Val Loss: 0.32855 | Train Acc: 92.510| Val Acc: 88.235\n",
            "Epoch 277: | Train Loss: 0.23307 | Val Loss: 0.31193 | Train Acc: 90.990| Val Acc: 88.824\n",
            "Epoch 278: | Train Loss: 0.22374 | Val Loss: 0.30294 | Train Acc: 92.906| Val Acc: 90.000\n",
            "Epoch 279: | Train Loss: 0.19873 | Val Loss: 0.32856 | Train Acc: 92.938| Val Acc: 87.647\n",
            "Epoch 280: | Train Loss: 0.22153 | Val Loss: 0.31012 | Train Acc: 92.052| Val Acc: 89.412\n",
            "Epoch 281: | Train Loss: 0.23722 | Val Loss: 0.33373 | Train Acc: 90.208| Val Acc: 88.824\n",
            "Epoch 282: | Train Loss: 0.23502 | Val Loss: 0.32325 | Train Acc: 92.354| Val Acc: 88.824\n",
            "Epoch 283: | Train Loss: 0.19753 | Val Loss: 0.29227 | Train Acc: 92.583| Val Acc: 88.824\n",
            "Epoch 284: | Train Loss: 0.17907 | Val Loss: 0.31222 | Train Acc: 93.229| Val Acc: 88.235\n",
            "Epoch 285: | Train Loss: 0.25442 | Val Loss: 0.33145 | Train Acc: 91.531| Val Acc: 87.647\n",
            "Epoch 286: | Train Loss: 0.21915 | Val Loss: 0.28930 | Train Acc: 91.490| Val Acc: 88.824\n",
            "Epoch 287: | Train Loss: 0.21219 | Val Loss: 0.34533 | Train Acc: 91.031| Val Acc: 87.059\n",
            "Epoch 288: | Train Loss: 0.18834 | Val Loss: 0.30668 | Train Acc: 92.469| Val Acc: 88.235\n",
            "Epoch 289: | Train Loss: 0.22605 | Val Loss: 0.28903 | Train Acc: 93.104| Val Acc: 87.647\n",
            "Epoch 290: | Train Loss: 0.18575 | Val Loss: 0.28590 | Train Acc: 93.042| Val Acc: 88.824\n",
            "Epoch 291: | Train Loss: 0.19495 | Val Loss: 0.29612 | Train Acc: 91.656| Val Acc: 90.000\n",
            "Epoch 292: | Train Loss: 0.20983 | Val Loss: 0.31732 | Train Acc: 92.031| Val Acc: 89.412\n",
            "Epoch 293: | Train Loss: 0.21668 | Val Loss: 0.36505 | Train Acc: 91.719| Val Acc: 86.471\n",
            "Epoch 294: | Train Loss: 0.25180 | Val Loss: 0.29325 | Train Acc: 91.635| Val Acc: 90.000\n",
            "Epoch 295: | Train Loss: 0.23236 | Val Loss: 0.32478 | Train Acc: 89.625| Val Acc: 87.647\n",
            "Epoch 296: | Train Loss: 0.23557 | Val Loss: 0.29515 | Train Acc: 91.729| Val Acc: 88.824\n",
            "Epoch 297: | Train Loss: 0.20938 | Val Loss: 0.29783 | Train Acc: 92.302| Val Acc: 88.824\n",
            "Epoch 298: | Train Loss: 0.21971 | Val Loss: 0.29406 | Train Acc: 91.604| Val Acc: 88.235\n",
            "Epoch 299: | Train Loss: 0.21866 | Val Loss: 0.28001 | Train Acc: 92.000| Val Acc: 89.412\n",
            "Epoch 300: | Train Loss: 0.17597 | Val Loss: 0.28986 | Train Acc: 93.021| Val Acc: 88.235\n",
            "\n"
          ],
          "name": "stdout"
        }
      ]
    },
    {
      "cell_type": "code",
      "metadata": {
        "colab": {
          "base_uri": "https://localhost:8080/",
          "height": 394
        },
        "id": "De5d8nisv0LV",
        "outputId": "b8a01e76-1e7b-4713-e68d-fa37ed2c6dca"
      },
      "source": [
        "# Create dataframes\n",
        "train_val_acc_df = pd.DataFrame.from_dict(accuracy_stats).reset_index().melt(id_vars=['index']).rename(columns={\"index\":\"epochs\"})\n",
        "train_val_loss_df = pd.DataFrame.from_dict(loss_stats).reset_index().melt(id_vars=['index']).rename(columns={\"index\":\"epochs\"})\n",
        "# Plot the dataframes\n",
        "fig, axes = plt.subplots(nrows=1, ncols=2, figsize=(20,7))\n",
        "sns.lineplot(data=train_val_acc_df, x = \"epochs\", y=\"value\", hue=\"variable\",  ax=axes[0]).set_title('Train-Val Accuracy/Epoch')\n",
        "sns.lineplot(data=train_val_loss_df, x = \"epochs\", y=\"value\", hue=\"variable\", ax=axes[1]).set_title('Train-Val Loss/Epoch')"
      ],
      "execution_count": 817,
      "outputs": [
        {
          "output_type": "execute_result",
          "data": {
            "text/plain": [
              "Text(0.5, 1.0, 'Train-Val Loss/Epoch')"
            ]
          },
          "metadata": {
            "tags": []
          },
          "execution_count": 817
        },
        {
          "output_type": "display_data",
          "data": {
            "image/png": "[encoded data removed]",
            "text/plain": [
              "<Figure size 1440x504 with 2 Axes>"
            ]
          },
          "metadata": {
            "tags": []
          }
        }
      ]
    },
    {
      "cell_type": "code",
      "metadata": {
        "id": "UVFQgY9fv7fD"
      },
      "source": [
        "y_pred_list = []\n",
        "with torch.no_grad():\n",
        "    model.eval()\n",
        "    for X_batch, _ in test_loader:\n",
        "        X_batch = X_batch.to(device)\n",
        "        y_test_pred = model(X_batch)\n",
        "        _, y_pred_tags = torch.max(y_test_pred, dim = 1)\n",
        "        y_pred_list.append(y_pred_tags.cpu().numpy())\n",
        "y_pred_list = [a.squeeze().tolist() for a in y_pred_list]"
      ],
      "execution_count": 818,
      "outputs": []
    },
    {
      "cell_type": "code",
      "metadata": {
        "colab": {
          "base_uri": "https://localhost:8080/",
          "height": 282
        },
        "id": "3kqqEBnPyty4",
        "outputId": "525a450f-d664-43de-8821-d95f21c4e85b"
      },
      "source": [
        "confusion_matrix_df = pd.DataFrame(confusion_matrix(y_test, y_pred_list)).rename(columns=idx2class, index=idx2class)\n",
        "sns.heatmap(confusion_matrix_df, annot=True)"
      ],
      "execution_count": 819,
      "outputs": [
        {
          "output_type": "execute_result",
          "data": {
            "text/plain": [
              "<matplotlib.axes._subplots.AxesSubplot at 0x7ff0d51f9d10>"
            ]
          },
          "metadata": {
            "tags": []
          },
          "execution_count": 819
        },
        {
          "output_type": "display_data",
          "data": {
            "image/png": "[encoded data removed]",
            "text/plain": [
              "<Figure size 432x288 with 2 Axes>"
            ]
          },
          "metadata": {
            "tags": []
          }
        }
      ]
    },
    {
      "cell_type": "code",
      "metadata": {
        "colab": {
          "base_uri": "https://localhost:8080/"
        },
        "id": "Tufkm14HyzpN",
        "outputId": "c1e0415d-3c6a-44d5-81a1-749e8b432098"
      },
      "source": [
        "print(classification_report(y_test, y_pred_list))"
      ],
      "execution_count": 820,
      "outputs": [
        {
          "output_type": "stream",
          "text": [
            "              precision    recall  f1-score   support\n",
            "\n",
            "           0       0.99      0.95      0.97       332\n",
            "           1       0.72      0.86      0.78        59\n",
            "           2       0.86      0.89      0.87        35\n",
            "\n",
            "    accuracy                           0.93       426\n",
            "   macro avg       0.86      0.90      0.88       426\n",
            "weighted avg       0.94      0.93      0.93       426\n",
            "\n"
          ],
          "name": "stdout"
        }
      ]
    }
  ]
}
