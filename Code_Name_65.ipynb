{
  "nbformat": 4,
  "nbformat_minor": 0,
  "metadata": {
    "colab": {
      "name": "Code Name 65",
      "provenance": [],
      "collapsed_sections": [],
      "toc_visible": true
    },
    "kernelspec": {
      "display_name": "Python 3",
      "name": "python3"
    },
    "accelerator": "GPU",
    "widgets": {
      "application/vnd.jupyter.widget-state+json": {
        "e729ac87a37b49229b021cbdb4501c0a": {
          "model_module": "@jupyter-widgets/controls",
          "model_name": "HBoxModel",
          "state": {
            "_view_name": "HBoxView",
            "_dom_classes": [],
            "_model_name": "HBoxModel",
            "_view_module": "@jupyter-widgets/controls",
            "_model_module_version": "1.5.0",
            "_view_count": null,
            "_view_module_version": "1.5.0",
            "box_style": "",
            "layout": "IPY_MODEL_252ee0f364e242968e4bfb0bf60ed0e6",
            "_model_module": "@jupyter-widgets/controls",
            "children": [
              "IPY_MODEL_cf182d64f6d4493890034749e8313398",
              "IPY_MODEL_bfae327bc4114f708e0f8f83d17c71e9"
            ]
          }
        },
        "252ee0f364e242968e4bfb0bf60ed0e6": {
          "model_module": "@jupyter-widgets/base",
          "model_name": "LayoutModel",
          "state": {
            "_view_name": "LayoutView",
            "grid_template_rows": null,
            "right": null,
            "justify_content": null,
            "_view_module": "@jupyter-widgets/base",
            "overflow": null,
            "_model_module_version": "1.2.0",
            "_view_count": null,
            "flex_flow": null,
            "width": null,
            "min_width": null,
            "border": null,
            "align_items": null,
            "bottom": null,
            "_model_module": "@jupyter-widgets/base",
            "top": null,
            "grid_column": null,
            "overflow_y": null,
            "overflow_x": null,
            "grid_auto_flow": null,
            "grid_area": null,
            "grid_template_columns": null,
            "flex": null,
            "_model_name": "LayoutModel",
            "justify_items": null,
            "grid_row": null,
            "max_height": null,
            "align_content": null,
            "visibility": null,
            "align_self": null,
            "height": null,
            "min_height": null,
            "padding": null,
            "grid_auto_rows": null,
            "grid_gap": null,
            "max_width": null,
            "order": null,
            "_view_module_version": "1.2.0",
            "grid_template_areas": null,
            "object_position": null,
            "object_fit": null,
            "grid_auto_columns": null,
            "margin": null,
            "display": null,
            "left": null
          }
        },
        "cf182d64f6d4493890034749e8313398": {
          "model_module": "@jupyter-widgets/controls",
          "model_name": "FloatProgressModel",
          "state": {
            "_view_name": "ProgressView",
            "style": "IPY_MODEL_64f1b26948ce438f9752726a8c22a2e4",
            "_dom_classes": [],
            "description": "100%",
            "_model_name": "FloatProgressModel",
            "bar_style": "success",
            "max": 400,
            "_view_module": "@jupyter-widgets/controls",
            "_model_module_version": "1.5.0",
            "value": 400,
            "_view_count": null,
            "_view_module_version": "1.5.0",
            "orientation": "horizontal",
            "min": 0,
            "description_tooltip": null,
            "_model_module": "@jupyter-widgets/controls",
            "layout": "IPY_MODEL_f288826775a04be5bff3210c60c5c76c"
          }
        },
        "bfae327bc4114f708e0f8f83d17c71e9": {
          "model_module": "@jupyter-widgets/controls",
          "model_name": "HTMLModel",
          "state": {
            "_view_name": "HTMLView",
            "style": "IPY_MODEL_04b554f422dc4d8f85c8162e4bc3eccd",
            "_dom_classes": [],
            "description": "",
            "_model_name": "HTMLModel",
            "placeholder": "​",
            "_view_module": "@jupyter-widgets/controls",
            "_model_module_version": "1.5.0",
            "value": " 400/400 [02:22&lt;00:00,  2.81it/s]",
            "_view_count": null,
            "_view_module_version": "1.5.0",
            "description_tooltip": null,
            "_model_module": "@jupyter-widgets/controls",
            "layout": "IPY_MODEL_daf0782fb2ac45b8a561ff529ad75d35"
          }
        },
        "64f1b26948ce438f9752726a8c22a2e4": {
          "model_module": "@jupyter-widgets/controls",
          "model_name": "ProgressStyleModel",
          "state": {
            "_view_name": "StyleView",
            "_model_name": "ProgressStyleModel",
            "description_width": "initial",
            "_view_module": "@jupyter-widgets/base",
            "_model_module_version": "1.5.0",
            "_view_count": null,
            "_view_module_version": "1.2.0",
            "bar_color": null,
            "_model_module": "@jupyter-widgets/controls"
          }
        },
        "f288826775a04be5bff3210c60c5c76c": {
          "model_module": "@jupyter-widgets/base",
          "model_name": "LayoutModel",
          "state": {
            "_view_name": "LayoutView",
            "grid_template_rows": null,
            "right": null,
            "justify_content": null,
            "_view_module": "@jupyter-widgets/base",
            "overflow": null,
            "_model_module_version": "1.2.0",
            "_view_count": null,
            "flex_flow": null,
            "width": null,
            "min_width": null,
            "border": null,
            "align_items": null,
            "bottom": null,
            "_model_module": "@jupyter-widgets/base",
            "top": null,
            "grid_column": null,
            "overflow_y": null,
            "overflow_x": null,
            "grid_auto_flow": null,
            "grid_area": null,
            "grid_template_columns": null,
            "flex": null,
            "_model_name": "LayoutModel",
            "justify_items": null,
            "grid_row": null,
            "max_height": null,
            "align_content": null,
            "visibility": null,
            "align_self": null,
            "height": null,
            "min_height": null,
            "padding": null,
            "grid_auto_rows": null,
            "grid_gap": null,
            "max_width": null,
            "order": null,
            "_view_module_version": "1.2.0",
            "grid_template_areas": null,
            "object_position": null,
            "object_fit": null,
            "grid_auto_columns": null,
            "margin": null,
            "display": null,
            "left": null
          }
        },
        "04b554f422dc4d8f85c8162e4bc3eccd": {
          "model_module": "@jupyter-widgets/controls",
          "model_name": "DescriptionStyleModel",
          "state": {
            "_view_name": "StyleView",
            "_model_name": "DescriptionStyleModel",
            "description_width": "",
            "_view_module": "@jupyter-widgets/base",
            "_model_module_version": "1.5.0",
            "_view_count": null,
            "_view_module_version": "1.2.0",
            "_model_module": "@jupyter-widgets/controls"
          }
        },
        "daf0782fb2ac45b8a561ff529ad75d35": {
          "model_module": "@jupyter-widgets/base",
          "model_name": "LayoutModel",
          "state": {
            "_view_name": "LayoutView",
            "grid_template_rows": null,
            "right": null,
            "justify_content": null,
            "_view_module": "@jupyter-widgets/base",
            "overflow": null,
            "_model_module_version": "1.2.0",
            "_view_count": null,
            "flex_flow": null,
            "width": null,
            "min_width": null,
            "border": null,
            "align_items": null,
            "bottom": null,
            "_model_module": "@jupyter-widgets/base",
            "top": null,
            "grid_column": null,
            "overflow_y": null,
            "overflow_x": null,
            "grid_auto_flow": null,
            "grid_area": null,
            "grid_template_columns": null,
            "flex": null,
            "_model_name": "LayoutModel",
            "justify_items": null,
            "grid_row": null,
            "max_height": null,
            "align_content": null,
            "visibility": null,
            "align_self": null,
            "height": null,
            "min_height": null,
            "padding": null,
            "grid_auto_rows": null,
            "grid_gap": null,
            "max_width": null,
            "order": null,
            "_view_module_version": "1.2.0",
            "grid_template_areas": null,
            "object_position": null,
            "object_fit": null,
            "grid_auto_columns": null,
            "margin": null,
            "display": null,
            "left": null
          }
        }
      }
    }
  },
  "cells": [
    {
      "cell_type": "code",
      "metadata": {
        "colab": {
          "base_uri": "https://localhost:8080/",
          "height": 411
        },
        "id": "6VX_GCQj0E1L",
        "outputId": "2aa1e950-2c0a-4f2c-8319-28adba25afa7"
      },
      "source": [
        "# Use scikit-learn to grid search the batch size and epochs\n",
        "import numpy as np\n",
        "from numpy.random import seed\n",
        "import tensorflow\n",
        "from numpy import loadtxt\n",
        "import itertools\n",
        "from matplotlib import pyplot as plt\n",
        "from urllib.request import urlopen\n",
        "from sklearn.model_selection import GridSearchCV\n",
        "from keras.models import Sequential\n",
        "from keras.layers import Dense\n",
        "from keras.wrappers.scikit_learn import KerasClassifier\n",
        "\n",
        "\n",
        "# load dataset\n",
        "url = 'https://raw.githubusercontent.com/manazirahsan1/Fetal-Health-Classification/main/fetal_health.csv'\n",
        "raw_data = urlopen(url)\n",
        "dataset = np.loadtxt(raw_data, delimiter=\",\", skiprows=1)\n",
        "num_features = len(dataset[0, :]) - 1\n",
        "\n",
        "# split into input (X) and output (Y) variables\n",
        "X = dataset[:, 0:num_features]\n",
        "Y = dataset[:, num_features]\n",
        "\n",
        "\n",
        "# Function to create model, required for KerasClassifier\n",
        "def create_model():\n",
        "    # create model\n",
        "    model = Sequential()\n",
        "    model.add(Dense(30, input_dim=num_features, activation='relu'))\n",
        "    model.add(Dense(6, input_dim=30, activation='relu'))\n",
        "    model.add(Dense(1, activation='sigmoid'))\n",
        "    # Compile model\n",
        "    model.compile(loss='binary_crossentropy', optimizer='adam', metrics=['accuracy'])\n",
        "    return model\n",
        "\n",
        "\n",
        "# fix random seed for reproducibility\n",
        "seed = 65\n",
        "np.random.seed(seed)\n",
        "tensorflow.random.set_seed(seed)\n",
        "\n",
        "# create model\n",
        "model = KerasClassifier(build_fn=create_model, verbose=0)\n",
        "\n",
        "# define the grid search parameters\n",
        "batch_size = [8, 16, 32, 64, 128]\n",
        "epochs = [50, 100, 200, 300, 400]\n",
        "param_grid = dict(batch_size=batch_size, epochs=epochs)\n",
        "grid = GridSearchCV(estimator=model, param_grid=param_grid, n_jobs=-1, cv=4, verbose=2)\n",
        "grid_result = grid.fit(X, Y)\n",
        "\n",
        "# summarize results\n",
        "print(\"\\n\\n\\nBest: %f using %s\" % (grid_result.best_score_, grid_result.best_params_))\n",
        "# means = grid_result.cv_results_['mean_test_score']\n",
        "# stds = grid_result.cv_results_['std_test_score']\n",
        "# params = grid_result.cv_results_['params']\n",
        "# for mean, stdev, param in zip(means, stds, params):\n",
        "#     print(\"%f (%f) with: %r\" % (mean, stdev, param))\n",
        "\n",
        "x = []\n",
        "y = []\n",
        "for a, b in itertools.product(batch_size, epochs):\n",
        "    x.append(a)\n",
        "    y.append(b)\n",
        "\n",
        "\n",
        "plt.style.use('ggplot')\n",
        "fig = plt.figure()\n",
        "ax = fig.add_subplot(111, projection='3d')\n",
        "p = ax.scatter(x, y, grid_result.cv_results_['mean_test_score'])\n",
        "ax.set_xlabel('Batch Size')\n",
        "ax.set_ylabel('Epoch')\n",
        "ax.set_zlabel('Accuracy')\n",
        "fig.colorbar(p, ax=ax)\n"
      ],
      "execution_count": 2,
      "outputs": [
        {
          "output_type": "stream",
          "text": [
            "Fitting 4 folds for each of 25 candidates, totalling 100 fits\n"
          ],
          "name": "stdout"
        },
        {
          "output_type": "stream",
          "text": [
            "[Parallel(n_jobs=-1)]: Using backend LokyBackend with 2 concurrent workers.\n",
            "[Parallel(n_jobs=-1)]: Done  37 tasks      | elapsed: 27.3min\n",
            "[Parallel(n_jobs=-1)]: Done 100 out of 100 | elapsed: 38.3min finished\n"
          ],
          "name": "stderr"
        },
        {
          "output_type": "stream",
          "text": [
            "\n",
            "\n",
            "\n",
            "Best: 0.799192 using {'batch_size': 128, 'epochs': 100}\n"
          ],
          "name": "stdout"
        },
        {
          "output_type": "execute_result",
          "data": {
            "text/plain": [
              "<matplotlib.colorbar.Colorbar at 0x7f31d2584fd0>"
            ]
          },
          "metadata": {
            "tags": []
          },
          "execution_count": 2
        },
        {
          "output_type": "display_data",
          "data": {
            "image/png": "[encoded data removed]",
            "text/plain": [
              "<Figure size 432x288 with 2 Axes>"
            ]
          },
          "metadata": {
            "tags": []
          }
        }
      ]
    },
    {
      "cell_type": "code",
      "metadata": {
        "colab": {
          "base_uri": "https://localhost:8080/",
          "height": 350
        },
        "id": "9S32OAB1BtXm",
        "outputId": "a7f11764-7656-47c5-a236-951e52bee73c"
      },
      "source": [
        "# Use scikit-learn to grid search the learning rate\n",
        "import numpy as np\n",
        "from numpy.random import seed\n",
        "import tensorflow\n",
        "from numpy import loadtxt\n",
        "import itertools\n",
        "from matplotlib import pyplot as plt\n",
        "from urllib.request import urlopen\n",
        "from sklearn.model_selection import GridSearchCV\n",
        "from keras.models import Sequential\n",
        "from keras.layers import Dense\n",
        "from keras.wrappers.scikit_learn import KerasClassifier\n",
        "from keras.optimizers import SGD\n",
        "\n",
        "\n",
        "# load dataset\n",
        "url = 'https://raw.githubusercontent.com/manazirahsan1/Fetal-Health-Classification/main/fetal_health.csv'\n",
        "raw_data = urlopen(url)\n",
        "dataset = np.loadtxt(raw_data, delimiter=\",\", skiprows=1)\n",
        "num_features = len(dataset[0, :]) - 1\n",
        "\n",
        "# split into input (X) and output (Y) variables\n",
        "X = dataset[:, 0:num_features]\n",
        "Y = dataset[:, num_features]\n",
        "\n",
        "\n",
        "# Function to create model, required for KerasClassifier\n",
        "def create_model(learn_rate=0.01, momentum=0):\n",
        "    # create model\n",
        "    model = Sequential()\n",
        "    model.add(Dense(30, input_dim=num_features, activation='relu'))\n",
        "    model.add(Dense(6, input_dim=30, activation='relu'))\n",
        "    model.add(Dense(1, activation='sigmoid'))\n",
        "    # Compile model\n",
        "    optimizer = SGD(lr=learn_rate, momentum=momentum)\n",
        "    model.compile(loss='binary_crossentropy', optimizer=optimizer, metrics=['accuracy'])\n",
        "    return model\n",
        "\n",
        "\n",
        "# fix random seed for reproducibility\n",
        "seed = 65\n",
        "np.random.seed(seed)\n",
        "tensorflow.random.set_seed(seed)\n",
        "\n",
        "# create model\n",
        "model = KerasClassifier(build_fn=create_model, epochs=300, batch_size=16, verbose=0)\n",
        "\n",
        "# define the grid search parameters\n",
        "learning_rate = [.0005, 0.001, 0.01, 0.1, 0.2, 0.3]\n",
        "param_grid = dict(learn_rate=learning_rate)\n",
        "grid = GridSearchCV(estimator=model, param_grid=param_grid, n_jobs=-1, cv=4, verbose=2)\n",
        "grid_result = grid.fit(X, Y)\n",
        "\n",
        "# summarize results\n",
        "print(\"Best: %f using %s\" % (grid_result.best_score_, grid_result.best_params_))\n",
        "# means = grid_result.cv_results_['mean_test_score']\n",
        "# stds = grid_result.cv_results_['std_test_score']\n",
        "# params = grid_result.cv_results_['params']\n",
        "# for mean, stdev, param in zip(means, stds, params):\n",
        "#     print(\"%f (%f) with: %r\" % (mean, stdev, param))\n",
        "\n",
        "plt.style.use('ggplot')\n",
        "plt.plot(learning_rate, grid_result.cv_results_['mean_test_score'], color='green', linestyle='solid', marker='o', markerfacecolor='red')\n",
        "plt.xlabel('Learning Rate')\n",
        "plt.ylabel('Accuracy')\n",
        "plt.show()"
      ],
      "execution_count": 4,
      "outputs": [
        {
          "output_type": "stream",
          "text": [
            "Fitting 4 folds for each of 6 candidates, totalling 24 fits\n"
          ],
          "name": "stdout"
        },
        {
          "output_type": "stream",
          "text": [
            "[Parallel(n_jobs=-1)]: Using backend LokyBackend with 2 concurrent workers.\n",
            "[Parallel(n_jobs=-1)]: Done  24 out of  24 | elapsed: 16.1min finished\n"
          ],
          "name": "stderr"
        },
        {
          "output_type": "stream",
          "text": [
            "Best: 0.778540 using {'learn_rate': 0.001}\n"
          ],
          "name": "stdout"
        },
        {
          "output_type": "display_data",
          "data": {
            "image/png": "[encoded data removed]",
            "text/plain": [
              "<Figure size 432x288 with 1 Axes>"
            ]
          },
          "metadata": {
            "tags": []
          }
        }
      ]
    },
    {
      "cell_type": "code",
      "metadata": {
        "colab": {
          "base_uri": "https://localhost:8080/"
        },
        "id": "74lpVOYkSbkR",
        "outputId": "a3b712e7-6ddd-4079-b1ec-6df7d3d15e94"
      },
      "source": [
        "# Use scikit-learn to grid search the optimizer\n",
        "import numpy as np\n",
        "from numpy.random import seed\n",
        "import tensorflow\n",
        "from numpy import loadtxt\n",
        "import itertools\n",
        "from matplotlib import pyplot as plt\n",
        "from urllib.request import urlopen\n",
        "from sklearn.model_selection import GridSearchCV\n",
        "from keras.models import Sequential\n",
        "from keras.layers import Dense\n",
        "from keras.wrappers.scikit_learn import KerasClassifier\n",
        "\n",
        "\n",
        "# load dataset\n",
        "url = 'https://raw.githubusercontent.com/manazirahsan1/Fetal-Health-Classification/main/fetal_health.csv'\n",
        "raw_data = urlopen(url)\n",
        "dataset = np.loadtxt(raw_data, delimiter=\",\", skiprows=1)\n",
        "num_features = len(dataset[0, :]) - 1\n",
        "\n",
        "# split into input (X) and output (Y) variables\n",
        "X = dataset[:, 0:num_features]\n",
        "Y = dataset[:, num_features]\n",
        "\n",
        "\n",
        "# Function to create model, required for KerasClassifier\n",
        "def create_model(optimizer='adam'):\n",
        "    # create model\n",
        "    model = Sequential()\n",
        "    model.add(Dense(30, input_dim=num_features, activation='relu'))\n",
        "    model.add(Dense(6, input_dim=30, activation='relu'))\n",
        "    model.add(Dense(1, activation='sigmoid'))\n",
        "    # Compile model\n",
        "    model.compile(loss='binary_crossentropy', optimizer=optimizer, metrics=['accuracy'])\n",
        "    return model\n",
        "\n",
        "\n",
        "# fix random seed for reproducibility\n",
        "seed = 65\n",
        "np.random.seed(seed)\n",
        "tensorflow.random.set_seed(seed)\n",
        "\n",
        "# create model\n",
        "model = KerasClassifier(build_fn=create_model, epochs=300, batch_size=16, verbose=0)\n",
        "\n",
        "# define the grid search parameters\n",
        "optimizer = ['SGD', 'RMSprop', 'Adagrad', 'Adadelta', 'Adam', 'Adamax', 'Nadam']\n",
        "param_grid = dict(optimizer=optimizer)\n",
        "grid = GridSearchCV(estimator=model, param_grid=param_grid, n_jobs=-1, cv=4, verbose=2)\n",
        "grid_result = grid.fit(X, Y)\n",
        "\n",
        "# summarize results\n",
        "print(\"Best: %f using %s\" % (grid_result.best_score_, grid_result.best_params_))\n",
        "# means = grid_result.cv_results_['mean_test_score']\n",
        "# stds = grid_result.cv_results_['std_test_score']\n",
        "# params = grid_result.cv_results_['params']\n",
        "# for mean, stdev, param in zip(means, stds, params):\n",
        "#     print(\"%f (%f) with: %r\" % (mean, stdev, param))"
      ],
      "execution_count": 7,
      "outputs": [
        {
          "output_type": "stream",
          "text": [
            "Fitting 4 folds for each of 7 candidates, totalling 28 fits\n"
          ],
          "name": "stdout"
        },
        {
          "output_type": "stream",
          "text": [
            "[Parallel(n_jobs=-1)]: Using backend LokyBackend with 2 concurrent workers.\n",
            "[Parallel(n_jobs=-1)]: Done  28 out of  28 | elapsed: 20.5min finished\n"
          ],
          "name": "stderr"
        },
        {
          "output_type": "stream",
          "text": [
            "Best: 0.805795 using {'optimizer': 'SGD'}\n"
          ],
          "name": "stdout"
        }
      ]
    },
    {
      "cell_type": "code",
      "metadata": {
        "colab": {
          "base_uri": "https://localhost:8080/"
        },
        "id": "ROqFi3ZMjaqo",
        "outputId": "668cc57b-44c0-4f29-ae1d-bf6a7cd431b2"
      },
      "source": [
        "# Use scikit-learn to grid search the activation function\n",
        "import numpy as np\n",
        "from numpy.random import seed\n",
        "import tensorflow\n",
        "from numpy import loadtxt\n",
        "import itertools\n",
        "from matplotlib import pyplot as plt\n",
        "from urllib.request import urlopen\n",
        "from sklearn.model_selection import GridSearchCV\n",
        "from keras.models import Sequential\n",
        "from keras.layers import Dense\n",
        "from keras.wrappers.scikit_learn import KerasClassifier\n",
        "\n",
        "\n",
        "# load dataset\n",
        "url = 'https://raw.githubusercontent.com/manazirahsan1/Fetal-Health-Classification/main/fetal_health.csv'\n",
        "raw_data = urlopen(url)\n",
        "dataset = np.loadtxt(raw_data, delimiter=\",\", skiprows=1)\n",
        "num_features = len(dataset[0, :]) - 1\n",
        "\n",
        "# split into input (X) and output (Y) variables\n",
        "X = dataset[:, 0:num_features]\n",
        "Y = dataset[:, num_features]\n",
        "\n",
        "\n",
        "# Function to create model, required for KerasClassifier\n",
        "def create_model(activation='relu'):\n",
        "    # create model\n",
        "    model = Sequential()\n",
        "    model.add(Dense(30, input_dim=num_features, activation='relu'))\n",
        "    model.add(Dense(6, input_dim=30, activation='relu'))\n",
        "    model.add(Dense(1, activation='sigmoid'))\n",
        "    # Compile model\n",
        "    model.compile(loss='binary_crossentropy', optimizer='adam', metrics=['accuracy'])\n",
        "    return model\n",
        "\n",
        "\n",
        "# fix random seed for reproducibility\n",
        "seed = 65\n",
        "np.random.seed(seed)\n",
        "tensorflow.random.set_seed(seed)\n",
        "\n",
        "# create model\n",
        "model = KerasClassifier(build_fn=create_model, epochs=100, batch_size=16, verbose=0)\n",
        "\n",
        "# define the grid search parameters\n",
        "activation = ['softmax', 'softplus', 'softsign', 'relu', 'tanh', 'sigmoid', 'hard_sigmoid', 'linear']\n",
        "param_grid = dict(activation=activation)\n",
        "grid = GridSearchCV(estimator=model, param_grid=param_grid, n_jobs=-1, cv=4, verbose=2)\n",
        "grid_result = grid.fit(X, Y)\n",
        "\n",
        "# summarize results\n",
        "print(\"Best: %f using %s\" % (grid_result.best_score_, grid_result.best_params_))\n",
        "# means = grid_result.cv_results_['mean_test_score']\n",
        "# stds = grid_result.cv_results_['std_test_score']\n",
        "# params = grid_result.cv_results_['params']\n",
        "# for mean, stdev, param in zip(means, stds, params):\n",
        "#     print(\"%f (%f) with: %r\" % (mean, stdev, param))"
      ],
      "execution_count": null,
      "outputs": [
        {
          "output_type": "stream",
          "text": [
            "Fitting 4 folds for each of 8 candidates, totalling 32 fits\n"
          ],
          "name": "stdout"
        },
        {
          "output_type": "stream",
          "text": [
            "[Parallel(n_jobs=-1)]: Using backend LokyBackend with 2 concurrent workers.\n",
            "[Parallel(n_jobs=-1)]: Done  32 out of  32 | elapsed:  7.6min finished\n"
          ],
          "name": "stderr"
        },
        {
          "output_type": "stream",
          "text": [
            "Best: 0.807662 using {'activation': 'softmax'}\n"
          ],
          "name": "stdout"
        }
      ]
    },
    {
      "cell_type": "code",
      "metadata": {
        "colab": {
          "base_uri": "https://localhost:8080/",
          "height": 367
        },
        "id": "MD53aPXi1g0R",
        "outputId": "38066e97-58e2-420b-ca94-406a4511044c"
      },
      "source": [
        "# Use scikit-learn to grid search the dropout rate\n",
        "import numpy as np\n",
        "from numpy.random import seed\n",
        "import tensorflow\n",
        "from numpy import loadtxt\n",
        "import itertools\n",
        "from matplotlib import pyplot as plt\n",
        "from urllib.request import urlopen\n",
        "from sklearn.model_selection import GridSearchCV\n",
        "from keras.models import Sequential\n",
        "from keras.layers import Dense\n",
        "from keras.layers import Dropout\n",
        "from keras.wrappers.scikit_learn import KerasClassifier\n",
        "from keras.constraints import maxnorm\n",
        "\n",
        "\n",
        "# load dataset\n",
        "url = 'https://raw.githubusercontent.com/manazirahsan1/Fetal-Health-Classification/main/fetal_health.csv'\n",
        "raw_data = urlopen(url)\n",
        "dataset = np.loadtxt(raw_data, delimiter=\",\", skiprows=1)\n",
        "num_features = len(dataset[0, :]) - 1\n",
        "\n",
        "# split into input (X) and output (Y) variables\n",
        "X = dataset[:, 0:num_features]\n",
        "Y = dataset[:, num_features]\n",
        "\n",
        "\n",
        "# Function to create model, required for KerasClassifier\n",
        "def create_model(dropout_rate=0.0, weight_constraint=0):\n",
        "    # create model\n",
        "    model = Sequential()\n",
        "    model.add(Dense(30, input_dim=num_features, activation='relu'))\n",
        "    model.add(Dense(6, input_dim=30, activation='relu'))\n",
        "    model.add(Dense(1, activation='sigmoid'))\n",
        "    # Compile model\n",
        "    model.compile(loss='binary_crossentropy', optimizer='adam', metrics=['accuracy'])\n",
        "    return model\n",
        "\n",
        "\n",
        "# fix random seed for reproducibility\n",
        "seed = 65\n",
        "np.random.seed(seed)\n",
        "tensorflow.random.set_seed(seed)\n",
        "\n",
        "\n",
        "# create model\n",
        "model = KerasClassifier(build_fn=create_model, epochs=300, batch_size=16, verbose=0)\n",
        "\n",
        "# define the grid search parameters\n",
        "dropout_rate = [0.0, 0.1, 0.2, 0.3, 0.4, 0.5, 0.6, 0.7, 0.8, 0.9]\n",
        "param_grid = dict(dropout_rate=dropout_rate)\n",
        "grid = GridSearchCV(estimator=model, param_grid=param_grid, n_jobs=-1, cv=4, verbose=2)\n",
        "grid_result = grid.fit(X, Y)\n",
        "\n",
        "# summarize results\n",
        "print(\"Best: %f using %s\" % (grid_result.best_score_, grid_result.best_params_))\n",
        "# means = grid_result.cv_results_['mean_test_score']\n",
        "# stds = grid_result.cv_results_['std_test_score']\n",
        "# params = grid_result.cv_results_['params']\n",
        "# for mean, stdev, param in zip(means, stds, params):\n",
        "#     print(\"%f (%f) with: %r\" % (mean, stdev, param))\n",
        "\n",
        "plt.style.use('ggplot')\n",
        "plt.plot(dropout_rate, grid_result.cv_results_['mean_test_score'], color='green', linestyle='solid', marker='o', markerfacecolor='red')\n",
        "plt.xlabel('Dropout Rate')\n",
        "plt.ylabel('Accuracy')\n",
        "plt.show()"
      ],
      "execution_count": 9,
      "outputs": [
        {
          "output_type": "stream",
          "text": [
            "Fitting 4 folds for each of 10 candidates, totalling 40 fits\n"
          ],
          "name": "stdout"
        },
        {
          "output_type": "stream",
          "text": [
            "[Parallel(n_jobs=-1)]: Using backend LokyBackend with 2 concurrent workers.\n",
            "[Parallel(n_jobs=-1)]: Done  37 tasks      | elapsed: 26.5min\n",
            "[Parallel(n_jobs=-1)]: Done  40 out of  40 | elapsed: 27.9min finished\n"
          ],
          "name": "stderr"
        },
        {
          "output_type": "stream",
          "text": [
            "Best: 0.708786 using {'dropout_rate': 0.1}\n"
          ],
          "name": "stdout"
        },
        {
          "output_type": "display_data",
          "data": {
            "image/png": "[encoded data removed]",
            "text/plain": [
              "<Figure size 432x288 with 1 Axes>"
            ]
          },
          "metadata": {
            "tags": []
          }
        }
      ]
    },
    {
      "cell_type": "code",
      "metadata": {
        "id": "Hqa-qI91k7Rj",
        "colab": {
          "base_uri": "https://localhost:8080/"
        },
        "outputId": "a6ffd816-3223-4544-d624-716ad3fadb26"
      },
      "source": [
        "import numpy as np\n",
        "import pandas as pd\n",
        "import seaborn as sns\n",
        "from tqdm.notebook import tqdm\n",
        "import matplotlib.pyplot as plt\n",
        "\n",
        "import torch\n",
        "import torch.nn as nn\n",
        "import torch.optim as optim\n",
        "from torch.utils.data import Dataset, DataLoader, WeightedRandomSampler\n",
        "\n",
        "from sklearn.preprocessing import MinMaxScaler\n",
        "from sklearn.preprocessing import StandardScaler   \n",
        "from sklearn.model_selection import train_test_split\n",
        "from sklearn.metrics import confusion_matrix, classification_report\n",
        "\n",
        "# fix manual seed for reproducibility\n",
        "seed = 65\n",
        "np.random.seed(seed)\n",
        "torch.manual_seed(seed)"
      ],
      "execution_count": 86,
      "outputs": [
        {
          "output_type": "execute_result",
          "data": {
            "text/plain": [
              "<torch._C.Generator at 0x7f31badc0cb0>"
            ]
          },
          "metadata": {
            "tags": []
          },
          "execution_count": 86
        }
      ]
    },
    {
      "cell_type": "code",
      "metadata": {
        "id": "fR5lIqZsoud4"
      },
      "source": [
        "df = pd.read_csv(\"https://raw.githubusercontent.com/manazirahsan1/Fetal-Health-Classification/main/fetal_health.csv\")\n",
        "# df.head() \n",
        "# sns.countplot(x = 'fetal_health', data=df)"
      ],
      "execution_count": 87,
      "outputs": []
    },
    {
      "cell_type": "code",
      "metadata": {
        "colab": {
          "base_uri": "https://localhost:8080/",
          "height": 299
        },
        "id": "619wZXTvo5ic",
        "outputId": "c71b6d01-8c27-4f49-9419-1fac53d363a2"
      },
      "source": [
        "class2idx = {\n",
        "    1:0,\n",
        "    2:1,\n",
        "    3:2\n",
        "}\n",
        "idx2class = {v: k for k, v in class2idx.items()}\n",
        "df['fetal_health'].replace(class2idx, inplace=True)\n",
        "sns.countplot(x = 'fetal_health', data=df)"
      ],
      "execution_count": 88,
      "outputs": [
        {
          "output_type": "execute_result",
          "data": {
            "text/plain": [
              "<matplotlib.axes._subplots.AxesSubplot at 0x7f315acf23d0>"
            ]
          },
          "metadata": {
            "tags": []
          },
          "execution_count": 88
        },
        {
          "output_type": "display_data",
          "data": {
            "image/png": "[encoded data removed]",
            "text/plain": [
              "<Figure size 432x288 with 1 Axes>"
            ]
          },
          "metadata": {
            "tags": []
          }
        }
      ]
    },
    {
      "cell_type": "code",
      "metadata": {
        "id": "gn3SX2ngpwO-"
      },
      "source": [
        "X = df.iloc[:, 0:-1]\n",
        "y = df.iloc[:, -1]"
      ],
      "execution_count": 89,
      "outputs": []
    },
    {
      "cell_type": "code",
      "metadata": {
        "id": "b5SBvTr0qcnJ"
      },
      "source": [
        "# Split into train+val and test\n",
        "X_trainval, X_test, y_trainval, y_test = train_test_split(X,\n",
        "                                                          y,\n",
        "                                                          test_size=0.2,\n",
        "                                                          stratify=y,\n",
        "                                                          random_state=65)\n",
        "\n",
        "# Split train into train-val\n",
        "X_train, X_val, y_train, y_val = train_test_split(X_trainval,\n",
        "                                                  y_trainval,\n",
        "                                                  test_size=0.1,\n",
        "                                                  stratify=y_trainval,\n",
        "                                                  random_state=65)\n",
        "\n",
        "scaler = MinMaxScaler()\n",
        "X_train = scaler.fit_transform(X_train)\n",
        "X_val = scaler.transform(X_val)\n",
        "X_test = scaler.transform(X_test)\n",
        "X_train, y_train = np.array(X_train), np.array(y_train)\n",
        "X_val, y_val = np.array(X_val), np.array(y_val)\n",
        "X_test, y_test = np.array(X_test), np.array(y_test)"
      ],
      "execution_count": 90,
      "outputs": []
    },
    {
      "cell_type": "code",
      "metadata": {
        "colab": {
          "base_uri": "https://localhost:8080/",
          "height": 322
        },
        "id": "B8btLCCsr5lq",
        "outputId": "41f2c1da-c7ec-40fc-da5f-42d9f631ad2a"
      },
      "source": [
        "def get_class_distribution(obj):\n",
        "    count_dict = {\n",
        "        \"rating_1\": 0,\n",
        "        \"rating_2\": 0,\n",
        "        \"rating_3\": 0\n",
        "    }\n",
        "    for i in obj:\n",
        "        if i == 0: \n",
        "            count_dict['rating_1'] += 1\n",
        "        elif i == 1: \n",
        "            count_dict['rating_2'] += 1\n",
        "        elif i == 2: \n",
        "            count_dict['rating_3'] += 1\n",
        "        else:\n",
        "            print(\"Check classes.\")\n",
        "    return count_dict\n",
        "\n",
        "\n",
        "fig, axes = plt.subplots(nrows=1, ncols=3, figsize=(25,7))\n",
        "# Train\n",
        "sns.barplot(data = pd.DataFrame.from_dict([get_class_distribution(y_train)]).melt(), x = \"variable\", y=\"value\", hue=\"variable\",  ax=axes[0]).set_title('Class Distribution in Train Set')\n",
        "# Validation\n",
        "sns.barplot(data = pd.DataFrame.from_dict([get_class_distribution(y_val)]).melt(), x = \"variable\", y=\"value\", hue=\"variable\",  ax=axes[1]).set_title('Class Distribution in Val Set')\n",
        "# Test\n",
        "sns.barplot(data = pd.DataFrame.from_dict([get_class_distribution(y_test)]).melt(), x = \"variable\", y=\"value\", hue=\"variable\",  ax=axes[2]).set_title('Class Distribution in Test Set')\n"
      ],
      "execution_count": 91,
      "outputs": [
        {
          "output_type": "execute_result",
          "data": {
            "text/plain": [
              "Text(0.5, 1.0, 'Class Distribution in Test Set')"
            ]
          },
          "metadata": {
            "tags": []
          },
          "execution_count": 91
        },
        {
          "output_type": "display_data",
          "data": {
            "image/png": "[encoded data removed]",
            "text/plain": [
              "<Figure size 1800x504 with 3 Axes>"
            ]
          },
          "metadata": {
            "tags": []
          }
        }
      ]
    },
    {
      "cell_type": "code",
      "metadata": {
        "id": "tkni1WK_srrF"
      },
      "source": [
        "class ClassifierDataset(Dataset):\n",
        "    def __init__(self, X_data, y_data):\n",
        "        self.X_data = X_data\n",
        "        self.y_data = y_data\n",
        "        \n",
        "    def __getitem__(self, index):\n",
        "        return self.X_data[index], self.y_data[index]\n",
        "        \n",
        "    def __len__ (self):\n",
        "        return len(self.X_data)\n",
        "\n",
        "\n",
        "train_dataset = ClassifierDataset(torch.from_numpy(X_train).float(), torch.from_numpy(y_train).long())\n",
        "val_dataset = ClassifierDataset(torch.from_numpy(X_val).float(), torch.from_numpy(y_val).long())\n",
        "test_dataset = ClassifierDataset(torch.from_numpy(X_test).float(), torch.from_numpy(y_test).long())"
      ],
      "execution_count": 92,
      "outputs": []
    },
    {
      "cell_type": "code",
      "metadata": {
        "id": "dQNizrWEt5F5"
      },
      "source": [
        "target_list = []\n",
        "for _, t in train_dataset:\n",
        "    target_list.append(t)\n",
        "    \n",
        "target_list = torch.tensor(target_list)\n",
        "target_list = target_list[torch.randperm(len(target_list))]\n",
        "\n",
        "class_count = [i for i in get_class_distribution(y_train).values()]\n",
        "class_weights = 1./torch.tensor(class_count, dtype=torch.float) \n",
        "\n",
        "class_weights_all = class_weights[target_list]\n",
        "\n",
        "weighted_sampler = WeightedRandomSampler(\n",
        "    weights=class_weights_all,\n",
        "    num_samples=len(class_weights_all),\n",
        "    replacement=True\n",
        ")"
      ],
      "execution_count": 93,
      "outputs": []
    },
    {
      "cell_type": "code",
      "metadata": {
        "id": "eQhM2iYRtWUP"
      },
      "source": [
        "EPOCHS = 400\n",
        "BATCH_SIZE = 16\n",
        "LEARNING_RATE = 0.0005\n",
        "DROPOUT_PROBILITY = 0.05\n",
        "NUM_FEATURES = len(X.columns)\n",
        "NUM_CLASSES = 3"
      ],
      "execution_count": 94,
      "outputs": []
    },
    {
      "cell_type": "code",
      "metadata": {
        "id": "loWRs_UhuEjo"
      },
      "source": [
        "train_loader = DataLoader(dataset=train_dataset,\n",
        "                          batch_size=BATCH_SIZE,\n",
        "                          sampler=weighted_sampler\n",
        ")\n",
        "val_loader = DataLoader(dataset=val_dataset, batch_size=1)\n",
        "test_loader = DataLoader(dataset=test_dataset, batch_size=1)"
      ],
      "execution_count": 95,
      "outputs": []
    },
    {
      "cell_type": "code",
      "metadata": {
        "id": "I4SrLLn0uM3K"
      },
      "source": [
        "class MulticlassClassification(nn.Module):\n",
        "    def __init__(self, num_feature, num_class):\n",
        "        super(MulticlassClassification, self).__init__()\n",
        "        \n",
        "        self.layer_1 = nn.Linear(num_feature, 30)\n",
        "        # self.layer_2 = nn.Linear(100, 20)\n",
        "        self.layer_3 = nn.Linear(30, 6)\n",
        "        self.layer_out = nn.Linear(6, num_class) \n",
        "        \n",
        "        self.relu = nn.ReLU()\n",
        "        self.dropout = nn.Dropout(p=DROPOUT_PROBILITY)\n",
        "        self.batchnorm1 = nn.BatchNorm1d(30)\n",
        "        # self.batchnorm2 = nn.BatchNorm1d(20)\n",
        "        self.batchnorm3 = nn.BatchNorm1d(6)\n",
        "        \n",
        "    def forward(self, x):\n",
        "        x = self.layer_1(x)\n",
        "        x = self.batchnorm1(x)\n",
        "        x = self.relu(x)\n",
        "        x = self.dropout(x)\n",
        "        \n",
        "        # x = self.layer_2(x)\n",
        "        # x = self.batchnorm2(x)\n",
        "        # x = self.relu(x)\n",
        "        # x = self.dropout(x)\n",
        "        \n",
        "        x = self.layer_3(x)\n",
        "        x = self.batchnorm3(x)\n",
        "        x = self.relu(x)\n",
        "        x = self.dropout(x)\n",
        "        \n",
        "        x = self.layer_out(x)\n",
        "        \n",
        "        return x"
      ],
      "execution_count": 96,
      "outputs": []
    },
    {
      "cell_type": "code",
      "metadata": {
        "id": "sMpGumR2ta1v"
      },
      "source": [
        "device = torch.device(\"cuda:0\" if torch.cuda.is_available() else \"cpu\")\n",
        "# print(device)\n",
        "\n",
        "model = MulticlassClassification(num_feature = NUM_FEATURES, num_class=NUM_CLASSES)\n",
        "model.to(device)\n",
        "\n",
        "criterion = nn.CrossEntropyLoss(weight=class_weights.to(device))\n",
        "optimizer = optim.Adam(model.parameters(), lr=LEARNING_RATE)\n",
        "# print(model)"
      ],
      "execution_count": 97,
      "outputs": []
    },
    {
      "cell_type": "code",
      "metadata": {
        "id": "or2ovua6uxa9"
      },
      "source": [
        "def multi_acc(y_pred, y_test):\n",
        "    y_pred_softmax = torch.log_softmax(y_pred, dim = 1)\n",
        "    _, y_pred_tags = torch.max(y_pred_softmax, dim = 1)    \n",
        "    \n",
        "    correct_pred = (y_pred_tags == y_test).float()\n",
        "    acc = correct_pred.sum() / len(correct_pred)\n",
        "    \n",
        "    acc = torch.round(acc * 100)\n",
        "    \n",
        "    return acc"
      ],
      "execution_count": 98,
      "outputs": []
    },
    {
      "cell_type": "code",
      "metadata": {
        "id": "2xsngvIiu98h"
      },
      "source": [
        "accuracy_stats = {\n",
        "    'train': [],\n",
        "    \"val\": []\n",
        "}\n",
        "loss_stats = {\n",
        "    'train': [],\n",
        "    \"val\": []\n",
        "}"
      ],
      "execution_count": 99,
      "outputs": []
    },
    {
      "cell_type": "code",
      "metadata": {
        "colab": {
          "base_uri": "https://localhost:8080/",
          "height": 1000,
          "referenced_widgets": [
            "e729ac87a37b49229b021cbdb4501c0a",
            "252ee0f364e242968e4bfb0bf60ed0e6",
            "cf182d64f6d4493890034749e8313398",
            "bfae327bc4114f708e0f8f83d17c71e9",
            "64f1b26948ce438f9752726a8c22a2e4",
            "f288826775a04be5bff3210c60c5c76c",
            "04b554f422dc4d8f85c8162e4bc3eccd",
            "daf0782fb2ac45b8a561ff529ad75d35"
          ]
        },
        "id": "hWMK5smDvAFA",
        "outputId": "7a059673-7537-45dc-d772-e3556fadef77"
      },
      "source": [
        "print(\"Begin training.\")\n",
        "for e in tqdm(range(1, EPOCHS+1)):\n",
        "    \n",
        "    # TRAINING\n",
        "    train_epoch_loss = 0\n",
        "    train_epoch_acc = 0\n",
        "    model.train()\n",
        "    for X_train_batch, y_train_batch in train_loader:\n",
        "        X_train_batch, y_train_batch = X_train_batch.to(device), y_train_batch.to(device)\n",
        "        optimizer.zero_grad()\n",
        "        \n",
        "        y_train_pred = model(X_train_batch)\n",
        "        \n",
        "        train_loss = criterion(y_train_pred, y_train_batch)\n",
        "        train_acc = multi_acc(y_train_pred, y_train_batch)\n",
        "        \n",
        "        train_loss.backward()\n",
        "        optimizer.step()\n",
        "        \n",
        "        train_epoch_loss += train_loss.item()\n",
        "        train_epoch_acc += train_acc.item()\n",
        "        \n",
        "        \n",
        "    # VALIDATION    \n",
        "    with torch.no_grad():\n",
        "        \n",
        "        val_epoch_loss = 0\n",
        "        val_epoch_acc = 0\n",
        "        \n",
        "        model.eval()\n",
        "        for X_val_batch, y_val_batch in val_loader:\n",
        "            X_val_batch, y_val_batch = X_val_batch.to(device), y_val_batch.to(device)\n",
        "            \n",
        "            y_val_pred = model(X_val_batch)\n",
        "                        \n",
        "            val_loss = criterion(y_val_pred, y_val_batch)\n",
        "            val_acc = multi_acc(y_val_pred, y_val_batch)\n",
        "            \n",
        "            val_epoch_loss += val_loss.item()\n",
        "            val_epoch_acc += val_acc.item()\n",
        "    loss_stats['train'].append(train_epoch_loss/len(train_loader))\n",
        "    loss_stats['val'].append(val_epoch_loss/len(val_loader))\n",
        "    accuracy_stats['train'].append(train_epoch_acc/len(train_loader))\n",
        "    accuracy_stats['val'].append(val_epoch_acc/len(val_loader))\n",
        "                              \n",
        "    \n",
        "    print(f'Epoch {e+0:03}: | Train Loss: {train_epoch_loss/len(train_loader):.5f} | Val Loss: {val_epoch_loss/len(val_loader):.5f} | Train Acc: {train_epoch_acc/len(train_loader):.3f}| Val Acc: {val_epoch_acc/len(val_loader):.3f}')\n"
      ],
      "execution_count": 100,
      "outputs": [
        {
          "output_type": "stream",
          "text": [
            "Begin training.\n"
          ],
          "name": "stdout"
        },
        {
          "output_type": "display_data",
          "data": {
            "application/vnd.jupyter.widget-view+json": {
              "model_id": "e729ac87a37b49229b021cbdb4501c0a",
              "version_minor": 0,
              "version_major": 2
            },
            "text/plain": [
              "HBox(children=(FloatProgress(value=0.0, max=400.0), HTML(value='')))"
            ]
          },
          "metadata": {
            "tags": []
          }
        },
        {
          "output_type": "stream",
          "text": [
            "Epoch 001: | Train Loss: 1.11665 | Val Loss: 1.06952 | Train Acc: 30.885| Val Acc: 36.471\n",
            "Epoch 002: | Train Loss: 0.94146 | Val Loss: 1.03772 | Train Acc: 42.542| Val Acc: 45.294\n",
            "Epoch 003: | Train Loss: 0.88893 | Val Loss: 0.99868 | Train Acc: 48.083| Val Acc: 48.824\n",
            "Epoch 004: | Train Loss: 0.85404 | Val Loss: 0.95270 | Train Acc: 52.406| Val Acc: 55.294\n",
            "Epoch 005: | Train Loss: 0.80301 | Val Loss: 0.92576 | Train Acc: 59.698| Val Acc: 59.412\n",
            "Epoch 006: | Train Loss: 0.74852 | Val Loss: 0.84948 | Train Acc: 67.844| Val Acc: 70.000\n",
            "Epoch 007: | Train Loss: 0.70676 | Val Loss: 0.80467 | Train Acc: 71.917| Val Acc: 70.588\n",
            "Epoch 008: | Train Loss: 0.67177 | Val Loss: 0.76792 | Train Acc: 71.448| Val Acc: 70.000\n",
            "Epoch 009: | Train Loss: 0.63666 | Val Loss: 0.67908 | Train Acc: 74.927| Val Acc: 75.294\n",
            "Epoch 010: | Train Loss: 0.59965 | Val Loss: 0.67086 | Train Acc: 76.802| Val Acc: 74.706\n",
            "Epoch 011: | Train Loss: 0.55743 | Val Loss: 0.59981 | Train Acc: 80.292| Val Acc: 77.059\n",
            "Epoch 012: | Train Loss: 0.53763 | Val Loss: 0.58238 | Train Acc: 80.448| Val Acc: 75.882\n",
            "Epoch 013: | Train Loss: 0.55575 | Val Loss: 0.54713 | Train Acc: 82.156| Val Acc: 79.412\n",
            "Epoch 014: | Train Loss: 0.46750 | Val Loss: 0.51810 | Train Acc: 82.281| Val Acc: 77.059\n",
            "Epoch 015: | Train Loss: 0.51278 | Val Loss: 0.47516 | Train Acc: 82.146| Val Acc: 80.000\n",
            "Epoch 016: | Train Loss: 0.44676 | Val Loss: 0.44642 | Train Acc: 82.792| Val Acc: 81.765\n",
            "Epoch 017: | Train Loss: 0.43338 | Val Loss: 0.44300 | Train Acc: 84.594| Val Acc: 80.000\n",
            "Epoch 018: | Train Loss: 0.47313 | Val Loss: 0.39428 | Train Acc: 83.656| Val Acc: 83.529\n",
            "Epoch 019: | Train Loss: 0.47585 | Val Loss: 0.35811 | Train Acc: 84.479| Val Acc: 83.529\n",
            "Epoch 020: | Train Loss: 0.43603 | Val Loss: 0.38581 | Train Acc: 85.333| Val Acc: 83.529\n",
            "Epoch 021: | Train Loss: 0.43916 | Val Loss: 0.37879 | Train Acc: 83.469| Val Acc: 84.118\n",
            "Epoch 022: | Train Loss: 0.39622 | Val Loss: 0.38165 | Train Acc: 84.844| Val Acc: 83.529\n",
            "Epoch 023: | Train Loss: 0.41819 | Val Loss: 0.36949 | Train Acc: 84.938| Val Acc: 84.118\n",
            "Epoch 024: | Train Loss: 0.32701 | Val Loss: 0.34206 | Train Acc: 89.677| Val Acc: 85.882\n",
            "Epoch 025: | Train Loss: 0.42169 | Val Loss: 0.32806 | Train Acc: 84.260| Val Acc: 87.059\n",
            "Epoch 026: | Train Loss: 0.35681 | Val Loss: 0.35212 | Train Acc: 87.615| Val Acc: 85.294\n",
            "Epoch 027: | Train Loss: 0.34924 | Val Loss: 0.38518 | Train Acc: 87.875| Val Acc: 82.941\n",
            "Epoch 028: | Train Loss: 0.34469 | Val Loss: 0.34431 | Train Acc: 87.010| Val Acc: 86.471\n",
            "Epoch 029: | Train Loss: 0.35835 | Val Loss: 0.40254 | Train Acc: 87.552| Val Acc: 82.941\n",
            "Epoch 030: | Train Loss: 0.34710 | Val Loss: 0.38300 | Train Acc: 87.000| Val Acc: 82.941\n",
            "Epoch 031: | Train Loss: 0.35689 | Val Loss: 0.32112 | Train Acc: 86.448| Val Acc: 86.471\n",
            "Epoch 032: | Train Loss: 0.36939 | Val Loss: 0.33392 | Train Acc: 85.990| Val Acc: 85.882\n",
            "Epoch 033: | Train Loss: 0.35238 | Val Loss: 0.34461 | Train Acc: 87.073| Val Acc: 82.941\n",
            "Epoch 034: | Train Loss: 0.32183 | Val Loss: 0.36233 | Train Acc: 87.812| Val Acc: 84.118\n",
            "Epoch 035: | Train Loss: 0.34453 | Val Loss: 0.35373 | Train Acc: 86.979| Val Acc: 84.118\n",
            "Epoch 036: | Train Loss: 0.32422 | Val Loss: 0.32793 | Train Acc: 88.219| Val Acc: 84.706\n",
            "Epoch 037: | Train Loss: 0.36914 | Val Loss: 0.42251 | Train Acc: 86.646| Val Acc: 81.176\n",
            "Epoch 038: | Train Loss: 0.32274 | Val Loss: 0.40149 | Train Acc: 88.490| Val Acc: 82.941\n",
            "Epoch 039: | Train Loss: 0.30665 | Val Loss: 0.32914 | Train Acc: 87.865| Val Acc: 83.529\n",
            "Epoch 040: | Train Loss: 0.35926 | Val Loss: 0.30905 | Train Acc: 87.458| Val Acc: 85.294\n",
            "Epoch 041: | Train Loss: 0.29877 | Val Loss: 0.35946 | Train Acc: 89.552| Val Acc: 84.118\n",
            "Epoch 042: | Train Loss: 0.29636 | Val Loss: 0.35364 | Train Acc: 89.510| Val Acc: 85.294\n",
            "Epoch 043: | Train Loss: 0.31857 | Val Loss: 0.38087 | Train Acc: 88.073| Val Acc: 82.353\n",
            "Epoch 044: | Train Loss: 0.33719 | Val Loss: 0.37943 | Train Acc: 87.812| Val Acc: 84.706\n",
            "Epoch 045: | Train Loss: 0.32804 | Val Loss: 0.36767 | Train Acc: 88.406| Val Acc: 83.529\n",
            "Epoch 046: | Train Loss: 0.32605 | Val Loss: 0.36556 | Train Acc: 88.167| Val Acc: 84.118\n",
            "Epoch 047: | Train Loss: 0.31093 | Val Loss: 0.35357 | Train Acc: 88.594| Val Acc: 85.882\n",
            "Epoch 048: | Train Loss: 0.31112 | Val Loss: 0.33182 | Train Acc: 88.250| Val Acc: 85.882\n",
            "Epoch 049: | Train Loss: 0.28263 | Val Loss: 0.30677 | Train Acc: 88.979| Val Acc: 86.471\n",
            "Epoch 050: | Train Loss: 0.29924 | Val Loss: 0.30560 | Train Acc: 89.812| Val Acc: 84.706\n",
            "Epoch 051: | Train Loss: 0.30550 | Val Loss: 0.31283 | Train Acc: 88.990| Val Acc: 85.294\n",
            "Epoch 052: | Train Loss: 0.28879 | Val Loss: 0.34020 | Train Acc: 88.885| Val Acc: 85.882\n",
            "Epoch 053: | Train Loss: 0.27811 | Val Loss: 0.37037 | Train Acc: 88.750| Val Acc: 83.529\n",
            "Epoch 054: | Train Loss: 0.33141 | Val Loss: 0.32094 | Train Acc: 88.240| Val Acc: 84.118\n",
            "Epoch 055: | Train Loss: 0.27153 | Val Loss: 0.31191 | Train Acc: 88.365| Val Acc: 83.529\n",
            "Epoch 056: | Train Loss: 0.33179 | Val Loss: 0.29551 | Train Acc: 88.208| Val Acc: 85.294\n",
            "Epoch 057: | Train Loss: 0.34211 | Val Loss: 0.33138 | Train Acc: 87.354| Val Acc: 84.706\n",
            "Epoch 058: | Train Loss: 0.28141 | Val Loss: 0.32398 | Train Acc: 90.135| Val Acc: 86.471\n",
            "Epoch 059: | Train Loss: 0.25754 | Val Loss: 0.29840 | Train Acc: 90.656| Val Acc: 86.471\n",
            "Epoch 060: | Train Loss: 0.29652 | Val Loss: 0.31712 | Train Acc: 88.573| Val Acc: 85.294\n",
            "Epoch 061: | Train Loss: 0.28132 | Val Loss: 0.35311 | Train Acc: 89.562| Val Acc: 84.118\n",
            "Epoch 062: | Train Loss: 0.29719 | Val Loss: 0.30735 | Train Acc: 89.552| Val Acc: 85.882\n",
            "Epoch 063: | Train Loss: 0.27820 | Val Loss: 0.30307 | Train Acc: 90.104| Val Acc: 86.471\n",
            "Epoch 064: | Train Loss: 0.33653 | Val Loss: 0.30230 | Train Acc: 88.771| Val Acc: 87.059\n",
            "Epoch 065: | Train Loss: 0.24138 | Val Loss: 0.30714 | Train Acc: 91.240| Val Acc: 88.824\n",
            "Epoch 066: | Train Loss: 0.30900 | Val Loss: 0.28499 | Train Acc: 89.062| Val Acc: 87.647\n",
            "Epoch 067: | Train Loss: 0.27816 | Val Loss: 0.34804 | Train Acc: 90.646| Val Acc: 85.294\n",
            "Epoch 068: | Train Loss: 0.27162 | Val Loss: 0.32776 | Train Acc: 90.062| Val Acc: 86.471\n",
            "Epoch 069: | Train Loss: 0.29710 | Val Loss: 0.30347 | Train Acc: 89.604| Val Acc: 85.882\n",
            "Epoch 070: | Train Loss: 0.32557 | Val Loss: 0.32101 | Train Acc: 88.000| Val Acc: 86.471\n",
            "Epoch 071: | Train Loss: 0.28136 | Val Loss: 0.34666 | Train Acc: 88.729| Val Acc: 85.882\n",
            "Epoch 072: | Train Loss: 0.25676 | Val Loss: 0.28696 | Train Acc: 90.333| Val Acc: 86.471\n",
            "Epoch 073: | Train Loss: 0.29635 | Val Loss: 0.29691 | Train Acc: 89.771| Val Acc: 88.235\n",
            "Epoch 074: | Train Loss: 0.28363 | Val Loss: 0.31942 | Train Acc: 89.927| Val Acc: 86.471\n",
            "Epoch 075: | Train Loss: 0.25019 | Val Loss: 0.33169 | Train Acc: 90.833| Val Acc: 87.059\n",
            "Epoch 076: | Train Loss: 0.31663 | Val Loss: 0.31882 | Train Acc: 89.938| Val Acc: 87.059\n",
            "Epoch 077: | Train Loss: 0.28363 | Val Loss: 0.33437 | Train Acc: 88.271| Val Acc: 85.882\n",
            "Epoch 078: | Train Loss: 0.27904 | Val Loss: 0.32676 | Train Acc: 89.562| Val Acc: 85.294\n",
            "Epoch 079: | Train Loss: 0.26873 | Val Loss: 0.28293 | Train Acc: 89.583| Val Acc: 87.059\n",
            "Epoch 080: | Train Loss: 0.22911 | Val Loss: 0.34346 | Train Acc: 91.417| Val Acc: 84.706\n",
            "Epoch 081: | Train Loss: 0.25392 | Val Loss: 0.32565 | Train Acc: 90.406| Val Acc: 85.882\n",
            "Epoch 082: | Train Loss: 0.28110 | Val Loss: 0.32354 | Train Acc: 89.510| Val Acc: 84.706\n",
            "Epoch 083: | Train Loss: 0.28923 | Val Loss: 0.29596 | Train Acc: 88.750| Val Acc: 87.059\n",
            "Epoch 084: | Train Loss: 0.29235 | Val Loss: 0.29811 | Train Acc: 90.479| Val Acc: 88.235\n",
            "Epoch 085: | Train Loss: 0.29765 | Val Loss: 0.28776 | Train Acc: 88.750| Val Acc: 88.235\n",
            "Epoch 086: | Train Loss: 0.30516 | Val Loss: 0.33782 | Train Acc: 88.583| Val Acc: 85.882\n",
            "Epoch 087: | Train Loss: 0.29454 | Val Loss: 0.30609 | Train Acc: 89.281| Val Acc: 87.647\n",
            "Epoch 088: | Train Loss: 0.27940 | Val Loss: 0.30763 | Train Acc: 90.000| Val Acc: 87.059\n",
            "Epoch 089: | Train Loss: 0.30172 | Val Loss: 0.33449 | Train Acc: 89.271| Val Acc: 87.059\n",
            "Epoch 090: | Train Loss: 0.22485 | Val Loss: 0.30999 | Train Acc: 91.146| Val Acc: 86.471\n",
            "Epoch 091: | Train Loss: 0.24560 | Val Loss: 0.35288 | Train Acc: 89.740| Val Acc: 86.471\n",
            "Epoch 092: | Train Loss: 0.27389 | Val Loss: 0.32533 | Train Acc: 89.927| Val Acc: 85.882\n",
            "Epoch 093: | Train Loss: 0.22108 | Val Loss: 0.32697 | Train Acc: 90.458| Val Acc: 86.471\n",
            "Epoch 094: | Train Loss: 0.23336 | Val Loss: 0.31923 | Train Acc: 90.646| Val Acc: 87.647\n",
            "Epoch 095: | Train Loss: 0.24825 | Val Loss: 0.28732 | Train Acc: 90.167| Val Acc: 87.647\n",
            "Epoch 096: | Train Loss: 0.26525 | Val Loss: 0.34314 | Train Acc: 89.844| Val Acc: 86.471\n",
            "Epoch 097: | Train Loss: 0.28993 | Val Loss: 0.28264 | Train Acc: 90.094| Val Acc: 88.824\n",
            "Epoch 098: | Train Loss: 0.25667 | Val Loss: 0.32283 | Train Acc: 89.802| Val Acc: 86.471\n",
            "Epoch 099: | Train Loss: 0.26471 | Val Loss: 0.34699 | Train Acc: 89.802| Val Acc: 87.059\n",
            "Epoch 100: | Train Loss: 0.23521 | Val Loss: 0.32657 | Train Acc: 90.542| Val Acc: 86.471\n",
            "Epoch 101: | Train Loss: 0.26705 | Val Loss: 0.29473 | Train Acc: 90.635| Val Acc: 85.882\n",
            "Epoch 102: | Train Loss: 0.25088 | Val Loss: 0.33164 | Train Acc: 91.052| Val Acc: 85.882\n",
            "Epoch 103: | Train Loss: 0.24776 | Val Loss: 0.34012 | Train Acc: 89.979| Val Acc: 85.882\n",
            "Epoch 104: | Train Loss: 0.26119 | Val Loss: 0.29122 | Train Acc: 90.396| Val Acc: 86.471\n",
            "Epoch 105: | Train Loss: 0.26441 | Val Loss: 0.26251 | Train Acc: 90.250| Val Acc: 87.647\n",
            "Epoch 106: | Train Loss: 0.24985 | Val Loss: 0.31222 | Train Acc: 91.177| Val Acc: 87.059\n",
            "Epoch 107: | Train Loss: 0.24762 | Val Loss: 0.27207 | Train Acc: 90.969| Val Acc: 87.647\n",
            "Epoch 108: | Train Loss: 0.25743 | Val Loss: 0.30903 | Train Acc: 91.792| Val Acc: 87.059\n",
            "Epoch 109: | Train Loss: 0.28112 | Val Loss: 0.32430 | Train Acc: 89.552| Val Acc: 86.471\n",
            "Epoch 110: | Train Loss: 0.23383 | Val Loss: 0.32030 | Train Acc: 91.344| Val Acc: 88.235\n",
            "Epoch 111: | Train Loss: 0.26118 | Val Loss: 0.28048 | Train Acc: 91.531| Val Acc: 87.647\n",
            "Epoch 112: | Train Loss: 0.26951 | Val Loss: 0.31124 | Train Acc: 90.062| Val Acc: 87.059\n",
            "Epoch 113: | Train Loss: 0.28897 | Val Loss: 0.32865 | Train Acc: 89.635| Val Acc: 87.059\n",
            "Epoch 114: | Train Loss: 0.24921 | Val Loss: 0.33695 | Train Acc: 90.417| Val Acc: 86.471\n",
            "Epoch 115: | Train Loss: 0.26322 | Val Loss: 0.31780 | Train Acc: 90.635| Val Acc: 86.471\n",
            "Epoch 116: | Train Loss: 0.24061 | Val Loss: 0.31132 | Train Acc: 90.219| Val Acc: 87.647\n",
            "Epoch 117: | Train Loss: 0.26706 | Val Loss: 0.35120 | Train Acc: 91.312| Val Acc: 86.471\n",
            "Epoch 118: | Train Loss: 0.23602 | Val Loss: 0.29701 | Train Acc: 90.667| Val Acc: 87.647\n",
            "Epoch 119: | Train Loss: 0.24116 | Val Loss: 0.30506 | Train Acc: 91.552| Val Acc: 88.235\n",
            "Epoch 120: | Train Loss: 0.21809 | Val Loss: 0.29967 | Train Acc: 91.823| Val Acc: 88.235\n",
            "Epoch 121: | Train Loss: 0.26904 | Val Loss: 0.31729 | Train Acc: 89.365| Val Acc: 88.824\n",
            "Epoch 122: | Train Loss: 0.21834 | Val Loss: 0.28817 | Train Acc: 91.052| Val Acc: 88.235\n",
            "Epoch 123: | Train Loss: 0.22016 | Val Loss: 0.27883 | Train Acc: 92.115| Val Acc: 87.647\n",
            "Epoch 124: | Train Loss: 0.23049 | Val Loss: 0.28265 | Train Acc: 91.094| Val Acc: 87.059\n",
            "Epoch 125: | Train Loss: 0.24637 | Val Loss: 0.26450 | Train Acc: 90.833| Val Acc: 88.824\n",
            "Epoch 126: | Train Loss: 0.24875 | Val Loss: 0.29387 | Train Acc: 92.156| Val Acc: 88.235\n",
            "Epoch 127: | Train Loss: 0.23422 | Val Loss: 0.28866 | Train Acc: 90.844| Val Acc: 90.000\n",
            "Epoch 128: | Train Loss: 0.30059 | Val Loss: 0.29820 | Train Acc: 90.635| Val Acc: 88.824\n",
            "Epoch 129: | Train Loss: 0.22784 | Val Loss: 0.29619 | Train Acc: 91.167| Val Acc: 87.647\n",
            "Epoch 130: | Train Loss: 0.26039 | Val Loss: 0.32610 | Train Acc: 90.646| Val Acc: 86.471\n",
            "Epoch 131: | Train Loss: 0.29043 | Val Loss: 0.31627 | Train Acc: 89.896| Val Acc: 88.824\n",
            "Epoch 132: | Train Loss: 0.25347 | Val Loss: 0.28757 | Train Acc: 90.760| Val Acc: 88.824\n",
            "Epoch 133: | Train Loss: 0.21183 | Val Loss: 0.26473 | Train Acc: 91.573| Val Acc: 89.412\n",
            "Epoch 134: | Train Loss: 0.25776 | Val Loss: 0.32209 | Train Acc: 90.990| Val Acc: 87.647\n",
            "Epoch 135: | Train Loss: 0.24481 | Val Loss: 0.28864 | Train Acc: 90.646| Val Acc: 88.824\n",
            "Epoch 136: | Train Loss: 0.26143 | Val Loss: 0.27715 | Train Acc: 88.833| Val Acc: 87.647\n",
            "Epoch 137: | Train Loss: 0.27231 | Val Loss: 0.31888 | Train Acc: 89.958| Val Acc: 86.471\n",
            "Epoch 138: | Train Loss: 0.28299 | Val Loss: 0.28608 | Train Acc: 89.479| Val Acc: 87.059\n",
            "Epoch 139: | Train Loss: 0.28456 | Val Loss: 0.29314 | Train Acc: 88.469| Val Acc: 87.647\n",
            "Epoch 140: | Train Loss: 0.20854 | Val Loss: 0.29653 | Train Acc: 91.906| Val Acc: 87.647\n",
            "Epoch 141: | Train Loss: 0.21993 | Val Loss: 0.29266 | Train Acc: 92.271| Val Acc: 88.824\n",
            "Epoch 142: | Train Loss: 0.25415 | Val Loss: 0.27718 | Train Acc: 91.385| Val Acc: 86.471\n",
            "Epoch 143: | Train Loss: 0.22281 | Val Loss: 0.28255 | Train Acc: 91.406| Val Acc: 86.471\n",
            "Epoch 144: | Train Loss: 0.23598 | Val Loss: 0.31639 | Train Acc: 90.615| Val Acc: 88.824\n",
            "Epoch 145: | Train Loss: 0.24282 | Val Loss: 0.27708 | Train Acc: 90.615| Val Acc: 89.412\n",
            "Epoch 146: | Train Loss: 0.23787 | Val Loss: 0.29124 | Train Acc: 89.958| Val Acc: 88.824\n",
            "Epoch 147: | Train Loss: 0.25323 | Val Loss: 0.29897 | Train Acc: 90.042| Val Acc: 88.235\n",
            "Epoch 148: | Train Loss: 0.25605 | Val Loss: 0.32117 | Train Acc: 89.833| Val Acc: 87.647\n",
            "Epoch 149: | Train Loss: 0.23720 | Val Loss: 0.32969 | Train Acc: 91.208| Val Acc: 87.647\n",
            "Epoch 150: | Train Loss: 0.25400 | Val Loss: 0.27483 | Train Acc: 91.198| Val Acc: 89.412\n",
            "Epoch 151: | Train Loss: 0.21994 | Val Loss: 0.27670 | Train Acc: 90.771| Val Acc: 87.647\n",
            "Epoch 152: | Train Loss: 0.23088 | Val Loss: 0.28440 | Train Acc: 91.625| Val Acc: 86.471\n",
            "Epoch 153: | Train Loss: 0.23894 | Val Loss: 0.29750 | Train Acc: 91.688| Val Acc: 88.235\n",
            "Epoch 154: | Train Loss: 0.23854 | Val Loss: 0.28270 | Train Acc: 92.333| Val Acc: 88.824\n",
            "Epoch 155: | Train Loss: 0.20732 | Val Loss: 0.29994 | Train Acc: 91.552| Val Acc: 88.235\n",
            "Epoch 156: | Train Loss: 0.21541 | Val Loss: 0.28274 | Train Acc: 91.562| Val Acc: 88.824\n",
            "Epoch 157: | Train Loss: 0.27788 | Val Loss: 0.27534 | Train Acc: 89.927| Val Acc: 89.412\n",
            "Epoch 158: | Train Loss: 0.19406 | Val Loss: 0.31000 | Train Acc: 93.031| Val Acc: 87.647\n",
            "Epoch 159: | Train Loss: 0.22876 | Val Loss: 0.28141 | Train Acc: 91.927| Val Acc: 90.000\n",
            "Epoch 160: | Train Loss: 0.22604 | Val Loss: 0.31085 | Train Acc: 91.042| Val Acc: 87.647\n",
            "Epoch 161: | Train Loss: 0.25053 | Val Loss: 0.31423 | Train Acc: 90.917| Val Acc: 87.647\n",
            "Epoch 162: | Train Loss: 0.23584 | Val Loss: 0.30009 | Train Acc: 89.875| Val Acc: 86.471\n",
            "Epoch 163: | Train Loss: 0.24360 | Val Loss: 0.31110 | Train Acc: 90.479| Val Acc: 87.647\n",
            "Epoch 164: | Train Loss: 0.25432 | Val Loss: 0.35085 | Train Acc: 92.073| Val Acc: 87.059\n",
            "Epoch 165: | Train Loss: 0.21401 | Val Loss: 0.33127 | Train Acc: 90.979| Val Acc: 89.412\n",
            "Epoch 166: | Train Loss: 0.21949 | Val Loss: 0.33310 | Train Acc: 91.312| Val Acc: 89.412\n",
            "Epoch 167: | Train Loss: 0.23473 | Val Loss: 0.33109 | Train Acc: 91.083| Val Acc: 87.647\n",
            "Epoch 168: | Train Loss: 0.24140 | Val Loss: 0.34593 | Train Acc: 90.698| Val Acc: 88.235\n",
            "Epoch 169: | Train Loss: 0.26172 | Val Loss: 0.30786 | Train Acc: 90.240| Val Acc: 89.412\n",
            "Epoch 170: | Train Loss: 0.24301 | Val Loss: 0.29472 | Train Acc: 90.750| Val Acc: 88.824\n",
            "Epoch 171: | Train Loss: 0.20938 | Val Loss: 0.30946 | Train Acc: 91.552| Val Acc: 88.235\n",
            "Epoch 172: | Train Loss: 0.22559 | Val Loss: 0.29717 | Train Acc: 91.552| Val Acc: 87.647\n",
            "Epoch 173: | Train Loss: 0.22115 | Val Loss: 0.32422 | Train Acc: 91.802| Val Acc: 88.824\n",
            "Epoch 174: | Train Loss: 0.24350 | Val Loss: 0.31021 | Train Acc: 90.750| Val Acc: 88.235\n",
            "Epoch 175: | Train Loss: 0.24018 | Val Loss: 0.30101 | Train Acc: 92.292| Val Acc: 88.824\n",
            "Epoch 176: | Train Loss: 0.27470 | Val Loss: 0.27069 | Train Acc: 91.573| Val Acc: 88.824\n",
            "Epoch 177: | Train Loss: 0.21188 | Val Loss: 0.30424 | Train Acc: 91.833| Val Acc: 87.647\n",
            "Epoch 178: | Train Loss: 0.24794 | Val Loss: 0.27891 | Train Acc: 90.260| Val Acc: 89.412\n",
            "Epoch 179: | Train Loss: 0.22196 | Val Loss: 0.30419 | Train Acc: 91.344| Val Acc: 89.412\n",
            "Epoch 180: | Train Loss: 0.22237 | Val Loss: 0.28995 | Train Acc: 91.594| Val Acc: 88.824\n",
            "Epoch 181: | Train Loss: 0.27101 | Val Loss: 0.29993 | Train Acc: 91.917| Val Acc: 88.235\n",
            "Epoch 182: | Train Loss: 0.22312 | Val Loss: 0.30350 | Train Acc: 91.167| Val Acc: 90.000\n",
            "Epoch 183: | Train Loss: 0.22322 | Val Loss: 0.32076 | Train Acc: 92.594| Val Acc: 88.235\n",
            "Epoch 184: | Train Loss: 0.25082 | Val Loss: 0.33094 | Train Acc: 90.427| Val Acc: 89.412\n",
            "Epoch 185: | Train Loss: 0.23384 | Val Loss: 0.34075 | Train Acc: 90.208| Val Acc: 87.647\n",
            "Epoch 186: | Train Loss: 0.23684 | Val Loss: 0.28133 | Train Acc: 91.188| Val Acc: 90.588\n",
            "Epoch 187: | Train Loss: 0.25434 | Val Loss: 0.27998 | Train Acc: 90.771| Val Acc: 89.412\n",
            "Epoch 188: | Train Loss: 0.22325 | Val Loss: 0.27764 | Train Acc: 92.188| Val Acc: 89.412\n",
            "Epoch 189: | Train Loss: 0.24230 | Val Loss: 0.31971 | Train Acc: 90.667| Val Acc: 88.824\n",
            "Epoch 190: | Train Loss: 0.21058 | Val Loss: 0.28720 | Train Acc: 91.802| Val Acc: 90.588\n",
            "Epoch 191: | Train Loss: 0.23971 | Val Loss: 0.29637 | Train Acc: 91.031| Val Acc: 89.412\n",
            "Epoch 192: | Train Loss: 0.22685 | Val Loss: 0.27920 | Train Acc: 91.104| Val Acc: 90.588\n",
            "Epoch 193: | Train Loss: 0.22478 | Val Loss: 0.28169 | Train Acc: 91.771| Val Acc: 88.824\n",
            "Epoch 194: | Train Loss: 0.26663 | Val Loss: 0.31299 | Train Acc: 91.427| Val Acc: 89.412\n",
            "Epoch 195: | Train Loss: 0.24175 | Val Loss: 0.29194 | Train Acc: 90.927| Val Acc: 90.000\n",
            "Epoch 196: | Train Loss: 0.21608 | Val Loss: 0.29069 | Train Acc: 91.240| Val Acc: 89.412\n",
            "Epoch 197: | Train Loss: 0.22302 | Val Loss: 0.28129 | Train Acc: 92.781| Val Acc: 90.000\n",
            "Epoch 198: | Train Loss: 0.20004 | Val Loss: 0.33838 | Train Acc: 91.781| Val Acc: 88.824\n",
            "Epoch 199: | Train Loss: 0.23104 | Val Loss: 0.31105 | Train Acc: 91.885| Val Acc: 88.824\n",
            "Epoch 200: | Train Loss: 0.18908 | Val Loss: 0.31399 | Train Acc: 92.625| Val Acc: 88.824\n",
            "Epoch 201: | Train Loss: 0.21143 | Val Loss: 0.33378 | Train Acc: 92.479| Val Acc: 87.647\n",
            "Epoch 202: | Train Loss: 0.18979 | Val Loss: 0.30059 | Train Acc: 92.052| Val Acc: 87.059\n",
            "Epoch 203: | Train Loss: 0.18449 | Val Loss: 0.33328 | Train Acc: 91.823| Val Acc: 88.235\n",
            "Epoch 204: | Train Loss: 0.22227 | Val Loss: 0.33187 | Train Acc: 91.125| Val Acc: 88.235\n",
            "Epoch 205: | Train Loss: 0.23888 | Val Loss: 0.31864 | Train Acc: 90.781| Val Acc: 87.647\n",
            "Epoch 206: | Train Loss: 0.24784 | Val Loss: 0.36577 | Train Acc: 90.344| Val Acc: 88.235\n",
            "Epoch 207: | Train Loss: 0.22271 | Val Loss: 0.32997 | Train Acc: 91.323| Val Acc: 88.824\n",
            "Epoch 208: | Train Loss: 0.22952 | Val Loss: 0.29687 | Train Acc: 90.990| Val Acc: 89.412\n",
            "Epoch 209: | Train Loss: 0.24498 | Val Loss: 0.31660 | Train Acc: 89.521| Val Acc: 88.235\n",
            "Epoch 210: | Train Loss: 0.21542 | Val Loss: 0.32325 | Train Acc: 92.177| Val Acc: 88.235\n",
            "Epoch 211: | Train Loss: 0.24197 | Val Loss: 0.32694 | Train Acc: 91.021| Val Acc: 89.412\n",
            "Epoch 212: | Train Loss: 0.24881 | Val Loss: 0.33755 | Train Acc: 91.125| Val Acc: 88.824\n",
            "Epoch 213: | Train Loss: 0.24886 | Val Loss: 0.32697 | Train Acc: 91.177| Val Acc: 87.647\n",
            "Epoch 214: | Train Loss: 0.22958 | Val Loss: 0.33511 | Train Acc: 92.240| Val Acc: 87.059\n",
            "Epoch 215: | Train Loss: 0.22024 | Val Loss: 0.30636 | Train Acc: 91.469| Val Acc: 87.647\n",
            "Epoch 216: | Train Loss: 0.19609 | Val Loss: 0.35287 | Train Acc: 92.000| Val Acc: 87.647\n",
            "Epoch 217: | Train Loss: 0.25892 | Val Loss: 0.34859 | Train Acc: 91.708| Val Acc: 87.059\n",
            "Epoch 218: | Train Loss: 0.19524 | Val Loss: 0.33588 | Train Acc: 92.094| Val Acc: 88.235\n",
            "Epoch 219: | Train Loss: 0.22970 | Val Loss: 0.36239 | Train Acc: 91.760| Val Acc: 88.235\n",
            "Epoch 220: | Train Loss: 0.21340 | Val Loss: 0.33351 | Train Acc: 92.469| Val Acc: 87.647\n",
            "Epoch 221: | Train Loss: 0.21106 | Val Loss: 0.33081 | Train Acc: 92.469| Val Acc: 88.235\n",
            "Epoch 222: | Train Loss: 0.22126 | Val Loss: 0.30953 | Train Acc: 92.042| Val Acc: 88.824\n",
            "Epoch 223: | Train Loss: 0.20850 | Val Loss: 0.34185 | Train Acc: 92.365| Val Acc: 87.647\n",
            "Epoch 224: | Train Loss: 0.24274 | Val Loss: 0.36304 | Train Acc: 91.885| Val Acc: 87.647\n",
            "Epoch 225: | Train Loss: 0.23882 | Val Loss: 0.33218 | Train Acc: 90.479| Val Acc: 88.824\n",
            "Epoch 226: | Train Loss: 0.21436 | Val Loss: 0.32271 | Train Acc: 92.594| Val Acc: 87.647\n",
            "Epoch 227: | Train Loss: 0.18774 | Val Loss: 0.33579 | Train Acc: 92.615| Val Acc: 88.235\n",
            "Epoch 228: | Train Loss: 0.24519 | Val Loss: 0.31748 | Train Acc: 91.875| Val Acc: 86.471\n",
            "Epoch 229: | Train Loss: 0.23987 | Val Loss: 0.31829 | Train Acc: 91.260| Val Acc: 87.647\n",
            "Epoch 230: | Train Loss: 0.22352 | Val Loss: 0.36797 | Train Acc: 91.479| Val Acc: 87.647\n",
            "Epoch 231: | Train Loss: 0.22030 | Val Loss: 0.34322 | Train Acc: 90.542| Val Acc: 87.647\n",
            "Epoch 232: | Train Loss: 0.21633 | Val Loss: 0.32155 | Train Acc: 91.604| Val Acc: 88.824\n",
            "Epoch 233: | Train Loss: 0.24741 | Val Loss: 0.29691 | Train Acc: 91.448| Val Acc: 89.412\n",
            "Epoch 234: | Train Loss: 0.19864 | Val Loss: 0.33915 | Train Acc: 93.000| Val Acc: 87.059\n",
            "Epoch 235: | Train Loss: 0.26344 | Val Loss: 0.33174 | Train Acc: 91.250| Val Acc: 87.647\n",
            "Epoch 236: | Train Loss: 0.20798 | Val Loss: 0.32212 | Train Acc: 91.615| Val Acc: 88.235\n",
            "Epoch 237: | Train Loss: 0.22533 | Val Loss: 0.33821 | Train Acc: 91.146| Val Acc: 87.647\n",
            "Epoch 238: | Train Loss: 0.20089 | Val Loss: 0.31841 | Train Acc: 92.260| Val Acc: 86.471\n",
            "Epoch 239: | Train Loss: 0.20998 | Val Loss: 0.37590 | Train Acc: 92.188| Val Acc: 87.059\n",
            "Epoch 240: | Train Loss: 0.18110 | Val Loss: 0.34901 | Train Acc: 93.052| Val Acc: 85.882\n",
            "Epoch 241: | Train Loss: 0.19860 | Val Loss: 0.32885 | Train Acc: 91.635| Val Acc: 87.647\n",
            "Epoch 242: | Train Loss: 0.18569 | Val Loss: 0.32251 | Train Acc: 91.854| Val Acc: 87.059\n",
            "Epoch 243: | Train Loss: 0.21040 | Val Loss: 0.31912 | Train Acc: 91.396| Val Acc: 87.059\n",
            "Epoch 244: | Train Loss: 0.20689 | Val Loss: 0.30542 | Train Acc: 91.750| Val Acc: 88.235\n",
            "Epoch 245: | Train Loss: 0.23156 | Val Loss: 0.38082 | Train Acc: 90.760| Val Acc: 85.882\n",
            "Epoch 246: | Train Loss: 0.23877 | Val Loss: 0.30183 | Train Acc: 92.219| Val Acc: 88.824\n",
            "Epoch 247: | Train Loss: 0.20154 | Val Loss: 0.32439 | Train Acc: 92.865| Val Acc: 87.647\n",
            "Epoch 248: | Train Loss: 0.20969 | Val Loss: 0.33273 | Train Acc: 92.073| Val Acc: 88.235\n",
            "Epoch 249: | Train Loss: 0.22533 | Val Loss: 0.32899 | Train Acc: 92.667| Val Acc: 88.824\n",
            "Epoch 250: | Train Loss: 0.19510 | Val Loss: 0.29143 | Train Acc: 92.812| Val Acc: 88.235\n",
            "Epoch 251: | Train Loss: 0.21435 | Val Loss: 0.31451 | Train Acc: 92.125| Val Acc: 87.647\n",
            "Epoch 252: | Train Loss: 0.19150 | Val Loss: 0.33620 | Train Acc: 92.927| Val Acc: 88.235\n",
            "Epoch 253: | Train Loss: 0.20908 | Val Loss: 0.28861 | Train Acc: 91.427| Val Acc: 88.235\n",
            "Epoch 254: | Train Loss: 0.21196 | Val Loss: 0.30688 | Train Acc: 92.708| Val Acc: 88.824\n",
            "Epoch 255: | Train Loss: 0.21454 | Val Loss: 0.29712 | Train Acc: 91.792| Val Acc: 88.824\n",
            "Epoch 256: | Train Loss: 0.23683 | Val Loss: 0.31683 | Train Acc: 91.458| Val Acc: 88.824\n",
            "Epoch 257: | Train Loss: 0.18782 | Val Loss: 0.31303 | Train Acc: 92.969| Val Acc: 88.235\n",
            "Epoch 258: | Train Loss: 0.22667 | Val Loss: 0.28167 | Train Acc: 92.135| Val Acc: 90.588\n",
            "Epoch 259: | Train Loss: 0.21729 | Val Loss: 0.32842 | Train Acc: 92.146| Val Acc: 87.647\n",
            "Epoch 260: | Train Loss: 0.20379 | Val Loss: 0.32518 | Train Acc: 92.208| Val Acc: 88.235\n",
            "Epoch 261: | Train Loss: 0.20777 | Val Loss: 0.29136 | Train Acc: 92.750| Val Acc: 88.824\n",
            "Epoch 262: | Train Loss: 0.16610 | Val Loss: 0.31118 | Train Acc: 93.323| Val Acc: 87.647\n",
            "Epoch 263: | Train Loss: 0.22101 | Val Loss: 0.31251 | Train Acc: 91.969| Val Acc: 88.824\n",
            "Epoch 264: | Train Loss: 0.24154 | Val Loss: 0.33150 | Train Acc: 90.000| Val Acc: 88.824\n",
            "Epoch 265: | Train Loss: 0.22437 | Val Loss: 0.33144 | Train Acc: 92.323| Val Acc: 88.235\n",
            "Epoch 266: | Train Loss: 0.23706 | Val Loss: 0.31703 | Train Acc: 90.625| Val Acc: 88.824\n",
            "Epoch 267: | Train Loss: 0.20235 | Val Loss: 0.28255 | Train Acc: 93.073| Val Acc: 88.824\n",
            "Epoch 268: | Train Loss: 0.18677 | Val Loss: 0.27916 | Train Acc: 93.292| Val Acc: 88.824\n",
            "Epoch 269: | Train Loss: 0.24485 | Val Loss: 0.31311 | Train Acc: 91.510| Val Acc: 88.235\n",
            "Epoch 270: | Train Loss: 0.23169 | Val Loss: 0.32968 | Train Acc: 91.021| Val Acc: 88.235\n",
            "Epoch 271: | Train Loss: 0.18559 | Val Loss: 0.30300 | Train Acc: 91.667| Val Acc: 88.235\n",
            "Epoch 272: | Train Loss: 0.24327 | Val Loss: 0.31161 | Train Acc: 92.052| Val Acc: 87.647\n",
            "Epoch 273: | Train Loss: 0.24025 | Val Loss: 0.28406 | Train Acc: 91.021| Val Acc: 88.235\n",
            "Epoch 274: | Train Loss: 0.22034 | Val Loss: 0.30208 | Train Acc: 91.396| Val Acc: 88.235\n",
            "Epoch 275: | Train Loss: 0.20023 | Val Loss: 0.29627 | Train Acc: 92.010| Val Acc: 89.412\n",
            "Epoch 276: | Train Loss: 0.21777 | Val Loss: 0.33401 | Train Acc: 92.448| Val Acc: 88.235\n",
            "Epoch 277: | Train Loss: 0.22843 | Val Loss: 0.31459 | Train Acc: 91.135| Val Acc: 89.412\n",
            "Epoch 278: | Train Loss: 0.22487 | Val Loss: 0.30809 | Train Acc: 93.031| Val Acc: 89.412\n",
            "Epoch 279: | Train Loss: 0.20179 | Val Loss: 0.32719 | Train Acc: 92.406| Val Acc: 88.824\n",
            "Epoch 280: | Train Loss: 0.22064 | Val Loss: 0.30918 | Train Acc: 91.750| Val Acc: 88.824\n",
            "Epoch 281: | Train Loss: 0.23663 | Val Loss: 0.33393 | Train Acc: 90.073| Val Acc: 88.235\n",
            "Epoch 282: | Train Loss: 0.23598 | Val Loss: 0.32378 | Train Acc: 92.531| Val Acc: 88.235\n",
            "Epoch 283: | Train Loss: 0.19674 | Val Loss: 0.29706 | Train Acc: 92.510| Val Acc: 88.235\n",
            "Epoch 284: | Train Loss: 0.17756 | Val Loss: 0.31734 | Train Acc: 93.177| Val Acc: 87.647\n",
            "Epoch 285: | Train Loss: 0.25655 | Val Loss: 0.33469 | Train Acc: 91.396| Val Acc: 87.059\n",
            "Epoch 286: | Train Loss: 0.21783 | Val Loss: 0.30218 | Train Acc: 92.010| Val Acc: 88.824\n",
            "Epoch 287: | Train Loss: 0.21330 | Val Loss: 0.34956 | Train Acc: 91.219| Val Acc: 85.882\n",
            "Epoch 288: | Train Loss: 0.18599 | Val Loss: 0.30801 | Train Acc: 92.594| Val Acc: 88.235\n",
            "Epoch 289: | Train Loss: 0.22712 | Val Loss: 0.29889 | Train Acc: 92.708| Val Acc: 87.059\n",
            "Epoch 290: | Train Loss: 0.18666 | Val Loss: 0.29100 | Train Acc: 92.677| Val Acc: 88.824\n",
            "Epoch 291: | Train Loss: 0.19483 | Val Loss: 0.30305 | Train Acc: 91.719| Val Acc: 89.412\n",
            "Epoch 292: | Train Loss: 0.20578 | Val Loss: 0.31555 | Train Acc: 92.042| Val Acc: 88.824\n",
            "Epoch 293: | Train Loss: 0.22054 | Val Loss: 0.36949 | Train Acc: 92.115| Val Acc: 87.647\n",
            "Epoch 294: | Train Loss: 0.24990 | Val Loss: 0.30549 | Train Acc: 91.573| Val Acc: 88.235\n",
            "Epoch 295: | Train Loss: 0.23458 | Val Loss: 0.33464 | Train Acc: 89.729| Val Acc: 87.647\n",
            "Epoch 296: | Train Loss: 0.23366 | Val Loss: 0.31275 | Train Acc: 91.594| Val Acc: 88.235\n",
            "Epoch 297: | Train Loss: 0.21293 | Val Loss: 0.31060 | Train Acc: 92.250| Val Acc: 87.647\n",
            "Epoch 298: | Train Loss: 0.22153 | Val Loss: 0.30972 | Train Acc: 91.688| Val Acc: 86.471\n",
            "Epoch 299: | Train Loss: 0.22012 | Val Loss: 0.27695 | Train Acc: 92.115| Val Acc: 88.235\n",
            "Epoch 300: | Train Loss: 0.17330 | Val Loss: 0.29168 | Train Acc: 93.250| Val Acc: 88.824\n",
            "Epoch 301: | Train Loss: 0.18884 | Val Loss: 0.33107 | Train Acc: 91.812| Val Acc: 87.647\n",
            "Epoch 302: | Train Loss: 0.20428 | Val Loss: 0.29525 | Train Acc: 92.219| Val Acc: 87.059\n",
            "Epoch 303: | Train Loss: 0.21684 | Val Loss: 0.32634 | Train Acc: 92.125| Val Acc: 87.059\n",
            "Epoch 304: | Train Loss: 0.23653 | Val Loss: 0.29729 | Train Acc: 90.917| Val Acc: 90.000\n",
            "Epoch 305: | Train Loss: 0.23310 | Val Loss: 0.31825 | Train Acc: 91.833| Val Acc: 89.412\n",
            "Epoch 306: | Train Loss: 0.26101 | Val Loss: 0.32342 | Train Acc: 90.958| Val Acc: 89.412\n",
            "Epoch 307: | Train Loss: 0.23232 | Val Loss: 0.31573 | Train Acc: 91.073| Val Acc: 88.824\n",
            "Epoch 308: | Train Loss: 0.19333 | Val Loss: 0.33115 | Train Acc: 92.115| Val Acc: 88.235\n",
            "Epoch 309: | Train Loss: 0.19519 | Val Loss: 0.31253 | Train Acc: 92.104| Val Acc: 87.647\n",
            "Epoch 310: | Train Loss: 0.20904 | Val Loss: 0.34086 | Train Acc: 93.021| Val Acc: 87.647\n",
            "Epoch 311: | Train Loss: 0.20079 | Val Loss: 0.31984 | Train Acc: 91.458| Val Acc: 87.059\n",
            "Epoch 312: | Train Loss: 0.17448 | Val Loss: 0.34648 | Train Acc: 93.885| Val Acc: 87.647\n",
            "Epoch 313: | Train Loss: 0.19231 | Val Loss: 0.34236 | Train Acc: 92.260| Val Acc: 88.235\n",
            "Epoch 314: | Train Loss: 0.21997 | Val Loss: 0.34046 | Train Acc: 92.375| Val Acc: 87.647\n",
            "Epoch 315: | Train Loss: 0.20892 | Val Loss: 0.34758 | Train Acc: 92.615| Val Acc: 87.059\n",
            "Epoch 316: | Train Loss: 0.20135 | Val Loss: 0.35111 | Train Acc: 91.958| Val Acc: 87.647\n",
            "Epoch 317: | Train Loss: 0.22447 | Val Loss: 0.33585 | Train Acc: 91.479| Val Acc: 88.824\n",
            "Epoch 318: | Train Loss: 0.20315 | Val Loss: 0.30745 | Train Acc: 93.229| Val Acc: 88.824\n",
            "Epoch 319: | Train Loss: 0.21035 | Val Loss: 0.32149 | Train Acc: 91.354| Val Acc: 88.824\n",
            "Epoch 320: | Train Loss: 0.22058 | Val Loss: 0.34412 | Train Acc: 93.240| Val Acc: 87.647\n",
            "Epoch 321: | Train Loss: 0.19651 | Val Loss: 0.33002 | Train Acc: 92.344| Val Acc: 86.471\n",
            "Epoch 322: | Train Loss: 0.19382 | Val Loss: 0.33924 | Train Acc: 91.625| Val Acc: 87.059\n",
            "Epoch 323: | Train Loss: 0.21430 | Val Loss: 0.29609 | Train Acc: 91.594| Val Acc: 90.588\n",
            "Epoch 324: | Train Loss: 0.18304 | Val Loss: 0.32101 | Train Acc: 93.198| Val Acc: 88.235\n",
            "Epoch 325: | Train Loss: 0.22196 | Val Loss: 0.32416 | Train Acc: 92.021| Val Acc: 88.824\n",
            "Epoch 326: | Train Loss: 0.21301 | Val Loss: 0.32169 | Train Acc: 92.875| Val Acc: 90.000\n",
            "Epoch 327: | Train Loss: 0.21205 | Val Loss: 0.32757 | Train Acc: 91.094| Val Acc: 88.235\n",
            "Epoch 328: | Train Loss: 0.17603 | Val Loss: 0.33713 | Train Acc: 94.052| Val Acc: 88.235\n",
            "Epoch 329: | Train Loss: 0.19519 | Val Loss: 0.35634 | Train Acc: 92.573| Val Acc: 87.059\n",
            "Epoch 330: | Train Loss: 0.22457 | Val Loss: 0.31682 | Train Acc: 92.500| Val Acc: 89.412\n",
            "Epoch 331: | Train Loss: 0.20178 | Val Loss: 0.30662 | Train Acc: 92.688| Val Acc: 90.588\n",
            "Epoch 332: | Train Loss: 0.21387 | Val Loss: 0.31857 | Train Acc: 92.354| Val Acc: 87.647\n",
            "Epoch 333: | Train Loss: 0.20914 | Val Loss: 0.34640 | Train Acc: 91.208| Val Acc: 87.059\n",
            "Epoch 334: | Train Loss: 0.20485 | Val Loss: 0.31617 | Train Acc: 91.948| Val Acc: 87.647\n",
            "Epoch 335: | Train Loss: 0.19575 | Val Loss: 0.31687 | Train Acc: 93.667| Val Acc: 89.412\n",
            "Epoch 336: | Train Loss: 0.25070 | Val Loss: 0.32801 | Train Acc: 90.948| Val Acc: 88.235\n",
            "Epoch 337: | Train Loss: 0.18571 | Val Loss: 0.32889 | Train Acc: 91.552| Val Acc: 88.824\n",
            "Epoch 338: | Train Loss: 0.18582 | Val Loss: 0.32228 | Train Acc: 93.406| Val Acc: 90.000\n",
            "Epoch 339: | Train Loss: 0.18627 | Val Loss: 0.34011 | Train Acc: 92.302| Val Acc: 89.412\n",
            "Epoch 340: | Train Loss: 0.21359 | Val Loss: 0.35574 | Train Acc: 92.844| Val Acc: 89.412\n",
            "Epoch 341: | Train Loss: 0.18357 | Val Loss: 0.33534 | Train Acc: 93.677| Val Acc: 87.647\n",
            "Epoch 342: | Train Loss: 0.15140 | Val Loss: 0.34207 | Train Acc: 93.688| Val Acc: 88.824\n",
            "Epoch 343: | Train Loss: 0.20380 | Val Loss: 0.31404 | Train Acc: 92.104| Val Acc: 88.824\n",
            "Epoch 344: | Train Loss: 0.21394 | Val Loss: 0.32259 | Train Acc: 91.719| Val Acc: 88.235\n",
            "Epoch 345: | Train Loss: 0.20994 | Val Loss: 0.34556 | Train Acc: 92.573| Val Acc: 89.412\n",
            "Epoch 346: | Train Loss: 0.22173 | Val Loss: 0.33125 | Train Acc: 92.646| Val Acc: 89.412\n",
            "Epoch 347: | Train Loss: 0.22325 | Val Loss: 0.39002 | Train Acc: 92.635| Val Acc: 87.059\n",
            "Epoch 348: | Train Loss: 0.18783 | Val Loss: 0.34926 | Train Acc: 92.417| Val Acc: 87.647\n",
            "Epoch 349: | Train Loss: 0.20826 | Val Loss: 0.34526 | Train Acc: 91.021| Val Acc: 87.059\n",
            "Epoch 350: | Train Loss: 0.22871 | Val Loss: 0.36988 | Train Acc: 92.781| Val Acc: 87.647\n",
            "Epoch 351: | Train Loss: 0.24341 | Val Loss: 0.33655 | Train Acc: 91.458| Val Acc: 88.235\n",
            "Epoch 352: | Train Loss: 0.22824 | Val Loss: 0.34117 | Train Acc: 91.740| Val Acc: 88.235\n",
            "Epoch 353: | Train Loss: 0.20936 | Val Loss: 0.32310 | Train Acc: 91.385| Val Acc: 88.824\n",
            "Epoch 354: | Train Loss: 0.20813 | Val Loss: 0.38463 | Train Acc: 91.583| Val Acc: 89.412\n",
            "Epoch 355: | Train Loss: 0.18272 | Val Loss: 0.33972 | Train Acc: 92.719| Val Acc: 90.588\n",
            "Epoch 356: | Train Loss: 0.24026 | Val Loss: 0.32881 | Train Acc: 90.844| Val Acc: 89.412\n",
            "Epoch 357: | Train Loss: 0.19706 | Val Loss: 0.34583 | Train Acc: 92.208| Val Acc: 88.235\n",
            "Epoch 358: | Train Loss: 0.21778 | Val Loss: 0.34815 | Train Acc: 91.823| Val Acc: 88.824\n",
            "Epoch 359: | Train Loss: 0.18631 | Val Loss: 0.34728 | Train Acc: 91.906| Val Acc: 88.824\n",
            "Epoch 360: | Train Loss: 0.20723 | Val Loss: 0.34884 | Train Acc: 91.896| Val Acc: 88.235\n",
            "Epoch 361: | Train Loss: 0.17662 | Val Loss: 0.35543 | Train Acc: 92.854| Val Acc: 89.412\n",
            "Epoch 362: | Train Loss: 0.18780 | Val Loss: 0.32033 | Train Acc: 93.104| Val Acc: 88.824\n",
            "Epoch 363: | Train Loss: 0.17050 | Val Loss: 0.35623 | Train Acc: 93.490| Val Acc: 88.824\n",
            "Epoch 364: | Train Loss: 0.17742 | Val Loss: 0.34587 | Train Acc: 92.646| Val Acc: 89.412\n",
            "Epoch 365: | Train Loss: 0.22087 | Val Loss: 0.34325 | Train Acc: 93.521| Val Acc: 89.412\n",
            "Epoch 366: | Train Loss: 0.22164 | Val Loss: 0.38135 | Train Acc: 90.875| Val Acc: 87.059\n",
            "Epoch 367: | Train Loss: 0.22780 | Val Loss: 0.34965 | Train Acc: 91.333| Val Acc: 87.059\n",
            "Epoch 368: | Train Loss: 0.21657 | Val Loss: 0.33996 | Train Acc: 91.865| Val Acc: 89.412\n",
            "Epoch 369: | Train Loss: 0.18994 | Val Loss: 0.38371 | Train Acc: 91.635| Val Acc: 88.235\n",
            "Epoch 370: | Train Loss: 0.18486 | Val Loss: 0.34837 | Train Acc: 92.823| Val Acc: 87.059\n",
            "Epoch 371: | Train Loss: 0.22331 | Val Loss: 0.33936 | Train Acc: 91.906| Val Acc: 88.235\n",
            "Epoch 372: | Train Loss: 0.21544 | Val Loss: 0.37333 | Train Acc: 92.552| Val Acc: 87.647\n",
            "Epoch 373: | Train Loss: 0.24325 | Val Loss: 0.33145 | Train Acc: 91.969| Val Acc: 88.235\n",
            "Epoch 374: | Train Loss: 0.19948 | Val Loss: 0.35471 | Train Acc: 91.906| Val Acc: 88.235\n",
            "Epoch 375: | Train Loss: 0.21208 | Val Loss: 0.34301 | Train Acc: 91.219| Val Acc: 89.412\n",
            "Epoch 376: | Train Loss: 0.19870 | Val Loss: 0.35078 | Train Acc: 92.740| Val Acc: 88.824\n",
            "Epoch 377: | Train Loss: 0.21322 | Val Loss: 0.32388 | Train Acc: 92.417| Val Acc: 88.235\n",
            "Epoch 378: | Train Loss: 0.17661 | Val Loss: 0.32516 | Train Acc: 92.979| Val Acc: 90.000\n",
            "Epoch 379: | Train Loss: 0.19614 | Val Loss: 0.31658 | Train Acc: 92.083| Val Acc: 88.235\n",
            "Epoch 380: | Train Loss: 0.18337 | Val Loss: 0.30685 | Train Acc: 91.771| Val Acc: 88.824\n",
            "Epoch 381: | Train Loss: 0.18329 | Val Loss: 0.31244 | Train Acc: 91.802| Val Acc: 90.000\n",
            "Epoch 382: | Train Loss: 0.17765 | Val Loss: 0.32817 | Train Acc: 93.062| Val Acc: 90.000\n",
            "Epoch 383: | Train Loss: 0.19359 | Val Loss: 0.34201 | Train Acc: 92.115| Val Acc: 89.412\n",
            "Epoch 384: | Train Loss: 0.18381 | Val Loss: 0.33722 | Train Acc: 93.094| Val Acc: 88.824\n",
            "Epoch 385: | Train Loss: 0.18118 | Val Loss: 0.35822 | Train Acc: 93.073| Val Acc: 89.412\n",
            "Epoch 386: | Train Loss: 0.20159 | Val Loss: 0.32224 | Train Acc: 92.896| Val Acc: 90.000\n",
            "Epoch 387: | Train Loss: 0.21350 | Val Loss: 0.34614 | Train Acc: 91.938| Val Acc: 88.824\n",
            "Epoch 388: | Train Loss: 0.19036 | Val Loss: 0.31136 | Train Acc: 92.677| Val Acc: 89.412\n",
            "Epoch 389: | Train Loss: 0.19213 | Val Loss: 0.31843 | Train Acc: 93.281| Val Acc: 87.647\n",
            "Epoch 390: | Train Loss: 0.23252 | Val Loss: 0.36547 | Train Acc: 92.500| Val Acc: 86.471\n",
            "Epoch 391: | Train Loss: 0.20024 | Val Loss: 0.33537 | Train Acc: 90.635| Val Acc: 89.412\n",
            "Epoch 392: | Train Loss: 0.18278 | Val Loss: 0.32636 | Train Acc: 92.260| Val Acc: 87.647\n",
            "Epoch 393: | Train Loss: 0.17375 | Val Loss: 0.30584 | Train Acc: 92.500| Val Acc: 88.824\n",
            "Epoch 394: | Train Loss: 0.19997 | Val Loss: 0.31754 | Train Acc: 93.427| Val Acc: 91.176\n",
            "Epoch 395: | Train Loss: 0.18397 | Val Loss: 0.32018 | Train Acc: 92.385| Val Acc: 90.000\n",
            "Epoch 396: | Train Loss: 0.19071 | Val Loss: 0.35558 | Train Acc: 92.615| Val Acc: 87.647\n",
            "Epoch 397: | Train Loss: 0.21348 | Val Loss: 0.31657 | Train Acc: 91.573| Val Acc: 91.176\n",
            "Epoch 398: | Train Loss: 0.19944 | Val Loss: 0.37434 | Train Acc: 93.240| Val Acc: 88.824\n",
            "Epoch 399: | Train Loss: 0.22975 | Val Loss: 0.32885 | Train Acc: 91.604| Val Acc: 90.588\n",
            "Epoch 400: | Train Loss: 0.18869 | Val Loss: 0.31888 | Train Acc: 93.417| Val Acc: 88.824\n",
            "\n"
          ],
          "name": "stdout"
        }
      ]
    },
    {
      "cell_type": "code",
      "metadata": {
        "colab": {
          "base_uri": "https://localhost:8080/",
          "height": 394
        },
        "id": "De5d8nisv0LV",
        "outputId": "e7c1d2c4-ed60-4897-9406-4a9884ab085e"
      },
      "source": [
        "# Create dataframes\n",
        "train_val_acc_df = pd.DataFrame.from_dict(accuracy_stats).reset_index().melt(id_vars=['index']).rename(columns={\"index\":\"epochs\"})\n",
        "train_val_loss_df = pd.DataFrame.from_dict(loss_stats).reset_index().melt(id_vars=['index']).rename(columns={\"index\":\"epochs\"})\n",
        "# Plot the dataframes\n",
        "fig, axes = plt.subplots(nrows=1, ncols=2, figsize=(20,7))\n",
        "sns.lineplot(data=train_val_acc_df, x = \"epochs\", y=\"value\", hue=\"variable\",  ax=axes[0]).set_title('Train-Val Accuracy/Epoch')\n",
        "sns.lineplot(data=train_val_loss_df, x = \"epochs\", y=\"value\", hue=\"variable\", ax=axes[1]).set_title('Train-Val Loss/Epoch')"
      ],
      "execution_count": 101,
      "outputs": [
        {
          "output_type": "execute_result",
          "data": {
            "text/plain": [
              "Text(0.5, 1.0, 'Train-Val Loss/Epoch')"
            ]
          },
          "metadata": {
            "tags": []
          },
          "execution_count": 101
        },
        {
          "output_type": "display_data",
          "data": {
            "image/png": "[encoded data removed]",
            "text/plain": [
              "<Figure size 1440x504 with 2 Axes>"
            ]
          },
          "metadata": {
            "tags": []
          }
        }
      ]
    },
    {
      "cell_type": "code",
      "metadata": {
        "id": "UVFQgY9fv7fD"
      },
      "source": [
        "y_pred_list = []\n",
        "with torch.no_grad():\n",
        "    model.eval()\n",
        "    for X_batch, _ in test_loader:\n",
        "        X_batch = X_batch.to(device)\n",
        "        y_test_pred = model(X_batch)\n",
        "        _, y_pred_tags = torch.max(y_test_pred, dim = 1)\n",
        "        y_pred_list.append(y_pred_tags.cpu().numpy())\n",
        "y_pred_list = [a.squeeze().tolist() for a in y_pred_list]"
      ],
      "execution_count": 102,
      "outputs": []
    },
    {
      "cell_type": "code",
      "metadata": {
        "colab": {
          "base_uri": "https://localhost:8080/",
          "height": 282
        },
        "id": "3kqqEBnPyty4",
        "outputId": "40896279-4027-4b7d-95c4-b18c99fda532"
      },
      "source": [
        "confusion_matrix_df = pd.DataFrame(confusion_matrix(y_test, y_pred_list)).rename(columns=idx2class, index=idx2class)\n",
        "sns.heatmap(confusion_matrix_df, annot=True)"
      ],
      "execution_count": 103,
      "outputs": [
        {
          "output_type": "execute_result",
          "data": {
            "text/plain": [
              "<matplotlib.axes._subplots.AxesSubplot at 0x7f315a3f9c50>"
            ]
          },
          "metadata": {
            "tags": []
          },
          "execution_count": 103
        },
        {
          "output_type": "display_data",
          "data": {
            "image/png": "[encoded data removed]",
            "text/plain": [
              "<Figure size 432x288 with 2 Axes>"
            ]
          },
          "metadata": {
            "tags": []
          }
        }
      ]
    },
    {
      "cell_type": "code",
      "metadata": {
        "colab": {
          "base_uri": "https://localhost:8080/"
        },
        "id": "Tufkm14HyzpN",
        "outputId": "573e6ab1-a2e4-4831-bf44-b660d9129c8c"
      },
      "source": [
        "print(classification_report(y_test, y_pred_list))"
      ],
      "execution_count": 104,
      "outputs": [
        {
          "output_type": "stream",
          "text": [
            "              precision    recall  f1-score   support\n",
            "\n",
            "           0       0.98      0.96      0.97       332\n",
            "           1       0.75      0.73      0.74        59\n",
            "           2       0.79      0.97      0.87        35\n",
            "\n",
            "    accuracy                           0.93       426\n",
            "   macro avg       0.84      0.89      0.86       426\n",
            "weighted avg       0.93      0.93      0.93       426\n",
            "\n"
          ],
          "name": "stdout"
        }
      ]
    }
  ]
}